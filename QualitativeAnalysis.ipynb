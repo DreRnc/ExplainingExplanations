{
  "cells": [
    {
      "cell_type": "markdown",
      "metadata": {
        "colab_type": "text",
        "id": "view-in-github"
      },
      "source": [
        "<a href=\"https://colab.research.google.com/github/DreRnc/ExplainingExplanations/blob/ModData/Base.ipynb\" target=\"_parent\"><img src=\"https://colab.research.google.com/assets/colab-badge.svg\" alt=\"Open In Colab\"/></a>"
      ]
    },
    {
      "cell_type": "markdown",
      "metadata": {
        "id": "4H972d7y9V7J"
      },
      "source": [
        "Dataset : **E-SNLI**. \\\n",
        "Model : **Base T5**."
      ]
    },
    {
      "cell_type": "code",
      "execution_count": 1,
      "metadata": {},
      "outputs": [],
      "source": [
        "%load_ext autoreload\n",
        "%autoreload 2\n",
        "colab = False"
      ]
    },
    {
      "cell_type": "code",
      "execution_count": 2,
      "metadata": {},
      "outputs": [],
      "source": [
        "if colab:\n",
        "    !git clone https://github.com/DreRnc/ExplainingExplanations.git\n",
        "    %cd ExplainingExplanations\n",
        "    !git checkout seq2seq\n",
        "    %pip install -r requirements_colab.txt\n",
        "    "
      ]
    },
    {
      "cell_type": "markdown",
      "metadata": {},
      "source": [
        "# 1.0 Preparation\n"
      ]
    },
    {
      "cell_type": "markdown",
      "metadata": {},
      "source": [
        "Set parameters for the experiments."
      ]
    },
    {
      "cell_type": "code",
      "execution_count": 3,
      "metadata": {},
      "outputs": [],
      "source": [
        "MODEL = 't5-small'\n",
        "    \n",
        "sizes = {\n",
        "    'n_train' : 1000,\n",
        "    'n_val' : 1000,\n",
        "    'n_test' : 1000\n",
        "}\n",
        "\n",
        "# Whether to use the mnli prompt on which the model is pretrained or not\n",
        "USE_MNLI_PROMPT = False\n",
        "EXPLANATION_FIRST = False"
      ]
    },
    {
      "cell_type": "markdown",
      "metadata": {},
      "source": [
        "## 1.1 Loading Tokenizer"
      ]
    },
    {
      "cell_type": "code",
      "execution_count": 4,
      "metadata": {},
      "outputs": [
        {
          "name": "stderr",
          "output_type": "stream",
          "text": [
            "/home/aroncoli/.cache/pypoetry/virtualenvs/explainingexplanations-aYcCKpct-py3.10/lib/python3.10/site-packages/tqdm/auto.py:21: TqdmWarning: IProgress not found. Please update jupyter and ipywidgets. See https://ipywidgets.readthedocs.io/en/stable/user_install.html\n",
            "  from .autonotebook import tqdm as notebook_tqdm\n"
          ]
        },
        {
          "name": "stderr",
          "output_type": "stream",
          "text": [
            "You are using the default legacy behaviour of the <class 'transformers.models.t5.tokenization_t5.T5Tokenizer'>. This is expected, and simply means that the `legacy` (previous) behavior will be used so nothing changes for you. If you want to use the new behaviour, set `legacy=False`. This should only be set if you understand what it means, and thoroughly read the reason why this was added as explained in https://github.com/huggingface/transformers/pull/24565\n",
            "Special tokens have been added in the vocabulary, make sure the associated word embeddings are fine-tuned or trained.\n"
          ]
        }
      ],
      "source": [
        "from transformers import T5Tokenizer\n",
        "\n",
        "tokenizer = T5Tokenizer.from_pretrained(MODEL, truncation=True, padding=True)"
      ]
    },
    {
      "cell_type": "markdown",
      "metadata": {},
      "source": [
        "## 1.2 Loading and Tokenizing Dataset"
      ]
    },
    {
      "cell_type": "code",
      "execution_count": 5,
      "metadata": {},
      "outputs": [],
      "source": [
        "from datasets import load_dataset\n",
        "from src.preprocess import prepare_dataset\n",
        "from functools import partial\n",
        "from src.utils import tokenize_function"
      ]
    },
    {
      "cell_type": "code",
      "execution_count": 6,
      "metadata": {},
      "outputs": [
        {
          "name": "stderr",
          "output_type": "stream",
          "text": [
            "Downloading data: 100%|██████████| 39.3M/39.3M [00:01<00:00, 31.0MB/s]\n",
            "Downloading data: 100%|██████████| 1.62M/1.62M [00:00<00:00, 5.53MB/s]\n",
            "Downloading data: 100%|██████████| 1.61M/1.61M [00:00<00:00, 9.94MB/s]\n",
            "Generating train split: 100%|██████████| 549367/549367 [00:00<00:00, 2511131.99 examples/s]\n",
            "Generating validation split: 100%|██████████| 9842/9842 [00:00<00:00, 2919401.70 examples/s]\n",
            "Generating test split: 100%|██████████| 9824/9824 [00:00<00:00, 3005897.47 examples/s]\n"
          ]
        }
      ],
      "source": [
        "dataset = load_dataset(\"esnli\", download_mode=\"force_redownload\")"
      ]
    },
    {
      "cell_type": "code",
      "execution_count": 7,
      "metadata": {},
      "outputs": [],
      "source": [
        "tokenize_mapping = partial(tokenize_function, tokenizer=tokenizer, use_mnli_format = USE_MNLI_PROMPT)"
      ]
    },
    {
      "cell_type": "code",
      "execution_count": 8,
      "metadata": {},
      "outputs": [
        {
          "name": "stderr",
          "output_type": "stream",
          "text": [
            "Map: 100%|██████████| 1000/1000 [00:00<00:00, 15883.30 examples/s]\n",
            "Map: 100%|██████████| 1000/1000 [00:00<00:00, 16506.18 examples/s]\n",
            "Map: 100%|██████████| 1000/1000 [00:00<00:00, 16489.96 examples/s]\n"
          ]
        }
      ],
      "source": [
        "train_tok, valid_tok, test_tok = prepare_dataset(dataset, tokenize_mapping=tokenize_mapping, sizes = sizes)"
      ]
    },
    {
      "cell_type": "code",
      "execution_count": 11,
      "metadata": {},
      "outputs": [],
      "source": [
        "import torch\n",
        "from functools import partial\n",
        "import evaluate\n",
        "from src.utils import compute_metrics, eval_pred_transform_accuracy\n",
        "from transformers import Seq2SeqTrainingArguments, Seq2SeqTrainer, T5ForConditionalGeneration, DataCollatorForSeq2Seq\n"
      ]
    },
    {
      "cell_type": "code",
      "execution_count": 12,
      "metadata": {},
      "outputs": [
        {
          "data": {
            "text/plain": [
              "device(type='cuda')"
            ]
          },
          "execution_count": 12,
          "metadata": {},
          "output_type": "execute_result"
        }
      ],
      "source": [
        "if torch.cuda.is_available():\n",
        "    device = torch.device('cuda')\n",
        "else:\n",
        "    device = torch.device('cpu')\n",
        "    \n",
        "device"
      ]
    },
    {
      "cell_type": "markdown",
      "metadata": {},
      "source": [
        "# Model fine tuned with correct explanations"
      ]
    },
    {
      "cell_type": "code",
      "execution_count": 15,
      "metadata": {},
      "outputs": [],
      "source": [
        "from src.utils import remove_explanation"
      ]
    },
    {
      "cell_type": "code",
      "execution_count": 16,
      "metadata": {},
      "outputs": [],
      "source": [
        "model_ft_ex = T5ForConditionalGeneration.from_pretrained('task3_' + MODEL + '/best_model')\n",
        "data_collator_ft = DataCollatorForSeq2Seq(tokenizer, model=model_ft_ex)"
      ]
    },
    {
      "cell_type": "code",
      "execution_count": 17,
      "metadata": {},
      "outputs": [
        {
          "name": "stdout",
          "output_type": "stream",
          "text": [
            "{'premise': 'This church choir sings to the masses as they sing joyous songs from the book at a church.', 'hypothesis': 'The church has cracks in the ceiling.', 'pred': 'label: contradiction explanation: The church choir cannot sing joyous songs from the book at a church if it has cracks in the ceiling.', 'label': 'neutral'}\n",
            "{'premise': 'A woman with a green headscarf, blue shirt and a very big grin.', 'hypothesis': 'The woman has been shot.', 'pred': 'label: neutral explanation: A woman with a green headscarf, blue shirt and a very big grin does not indicate that she has been shot.', 'label': 'contradiction'}\n",
            "{'premise': 'A statue at a museum that no seems to be looking at.', 'hypothesis': 'Tons of people are gathered around the statue.', 'pred': 'label: entailment explanation: A statue at a museum is a statue.', 'label': 'contradiction'}\n",
            "{'premise': 'A land rover is being driven across a river.', 'hypothesis': 'A Land Rover is splashing water as it crosses a river.', 'pred': 'label: neutral explanation: A land rover being driven across a river does not imply it is splashing water as it crosses a river.', 'label': 'entailment'}\n",
            "{'premise': 'A blond-haired doctor and her African american assistant looking threw new medical manuals.', 'hypothesis': 'A doctor is looking at a book', 'pred': \"label: contradiction explanation: The doctor can't be looking at new medical manuals and a book at the same time.\", 'label': 'entailment'}\n",
            "{'premise': 'One tan girl with a wool hat is running and leaning over an object, while another person in a wool hat is sitting on the ground.', 'hypothesis': 'A man watches his daughter leap', 'pred': 'label: contradiction explanation: A girl is not a man.', 'label': 'neutral'}\n",
            "{'premise': '3 young man in hoods standing in the middle of a quiet street facing the camera.', 'hypothesis': 'Three hood wearing people pose for a picture.', 'pred': 'label: neutral explanation: Just because three young man in hoods standing in the middle of a quiet street facing the camera does not mean they pose for a picture.', 'label': 'entailment'}\n",
            "{'premise': 'Three firefighter come out of subway station.', 'hypothesis': 'Three firefighters putting out a fire inside of a subway station.', 'pred': \"label: contradiction explanation: The firefighters can't be putting out a fire inside a subway station if they come out of the subway station.\", 'label': 'neutral'}\n",
            "{'premise': 'Male in a blue jacket decides to lay in the grass.', 'hypothesis': 'The guy wearing a blue jacket is laying on the green grass', 'pred': 'label: neutral explanation: Not all grass is green.', 'label': 'entailment'}\n",
            "{'premise': 'During calf roping a cowboy calls off his horse.', 'hypothesis': 'A man ropes a calf successfully.', 'pred': 'label: neutral explanation: The man could be a man or a woman.', 'label': 'contradiction'}\n",
            "{'premise': 'A snowboarder on a wide plain of snow', 'hypothesis': 'A snowmobile in a blizzard', 'pred': 'label: contradiction explanation: A snowboarder is not a snowmobile.', 'label': 'neutral'}\n",
            "{'premise': \"A man looking over a bicycle's rear wheel in the maintenance garage with various tools visible in the background.\", 'hypothesis': 'A man waits outside a garage.', 'pred': \"label: entailment explanation: A man looking over a bicycle's rear wheel in the maintenance garage is a rephrasing of a man waits outside a garage.\", 'label': 'contradiction'}\n",
            "{'premise': 'A Ford car is making a right turn as 3 males are walking across the street behind the car.', 'hypothesis': 'A sedan was turning a corner as walkers were crossing.', 'pred': 'label: contradiction explanation: A Ford car is not a sedan.', 'label': 'neutral'}\n",
            "{'premise': 'Three boys in white shirts are walking behind an older model Ford car.', 'hypothesis': 'The boys are on the street', 'pred': 'label: neutral explanation: Just because the boys are walking behind a car does not mean they are on the street.', 'label': 'entailment'}\n",
            "{'premise': 'Three girls blow out the candles of a cake made of Peeps.', 'hypothesis': 'There are peeps in the garden.', 'pred': 'label: neutral explanation: The peeps are not necessarily in the garden.', 'label': 'contradiction'}\n",
            "{'premise': 'Two teenage girls conversing next to lockers.', 'hypothesis': 'Girls talking next to the toilet.', 'pred': 'label: entailment explanation: Girls are talking next to lockers.', 'label': 'contradiction'}\n",
            "{'premise': '2 kids who look related are hanging out with 1 of them looking very emotional and hugging the other.', 'hypothesis': 'Two youths were pushing each other.', 'pred': 'label: entailment explanation: Two youths are hanging out with one of them hugging the other.', 'label': 'contradiction'}\n",
            "{'premise': 'A professional swimmer spits water out after surfacing while grabbing the hand of someone helping him back to land.', 'hypothesis': 'The swimmer almost drowned after being sucked under a fast current.', 'pred': 'label: contradiction explanation: The swimmer cannot be spits water out and almost drowned at the same time.', 'label': 'neutral'}\n",
            "{'premise': 'A person with a purple shirt is painting an image of a woman on a white wall.', 'hypothesis': 'A woman paints a portrait of a person.', 'pred': 'label: entailment explanation: A person with a purple shirt is a woman.', 'label': 'neutral'}\n",
            "{'premise': \"a boy holding onto the wall of an old brick house's raised foundation.\", 'hypothesis': 'a boy is against the wall of a raised foundation', 'pred': 'label: contradiction explanation: The boy cannot be holding onto the wall and against the wall simultaneously.', 'label': 'entailment'}\n",
            "{'premise': 'Six dogs swimming in a river.', 'hypothesis': 'Six dogs swim across the river.', 'pred': 'label: entailment explanation: The dogs are swimming across the river.', 'label': 'neutral'}\n",
            "{'premise': 'A man and woman are taking a picture of themselves while a woman in a scarf walks by them.', 'hypothesis': 'A man and woman have mug shots taken because they have been arrested.', 'pred': 'label: neutral explanation: Just because a man and woman are taking a picture of themselves while a woman in a scarf walks by them does not mean they have mug shots taken because they have been arrested.', 'label': 'contradiction'}\n",
            "{'premise': 'A man and woman are taking a picture of themselves while a woman in a scarf walks by them.', 'hypothesis': 'A man and woman take selfies of themselves.', 'pred': 'label: neutral explanation: Just because a man and woman are taking a picture of themselves does not mean they take selfies of themselves.', 'label': 'entailment'}\n",
            "{'premise': 'A bird is flapping its wings on the water.', 'hypothesis': 'The duck is swimming in the lake.', 'pred': 'label: contradiction explanation: A bird is not a duck.', 'label': 'neutral'}\n",
            "{'premise': 'A young boy wearing a red shirt and jeans stands in the middle of a field and throws a toy plane in the air.', 'hypothesis': 'A young boy is playing in a feild.', 'pred': 'label: contradiction explanation: A boy cannot be playing in a field and in a feild at the same time.', 'label': 'entailment'}\n",
            "{'premise': 'This child is on the library steps.', 'hypothesis': 'The child is on the steps inside the library.', 'pred': 'label: entailment explanation: The steps are inside the library.', 'label': 'neutral'}\n",
            "{'premise': 'a boy in a red hooded top is smiling whilst looking away from his reflection.', 'hypothesis': \"The boy doesn't want to see his reflection.\", 'pred': \"label: contradiction explanation: The boy cannot be looking away from his reflection if he doesn't want to see his reflection.\", 'label': 'neutral'}\n",
            "{'premise': 'Several younger people sitting in front of a statue.', 'hypothesis': 'several young people sitting outside', 'pred': 'label: entailment explanation: If people are sitting in front of a statue, they are outside.', 'label': 'neutral'}\n",
            "{'premise': 'Several younger people sitting in front of a statue.', 'hypothesis': 'several young people sitting in a school courtyard', 'pred': 'label: contradiction explanation: The people cannot be sitting in front of a statue and in a school courtyard simultaneously.', 'label': 'neutral'}\n",
            "{'premise': 'A man, woman, and child get their picture taken in front of the mountains.', 'hypothesis': 'A family on vacation is posing.', 'pred': 'label: neutral explanation: A man, woman, and child are not necessarily a family.', 'label': 'entailment'}\n",
            "{'premise': 'Four adults eat while sitting on a tile floor.', 'hypothesis': 'Two couples eat food on a kitchen floor.', 'pred': 'label: contradiction explanation: Four adults are not two couples.', 'label': 'neutral'}\n",
            "{'premise': 'A girl in a blue dress takes off her shoes and eats blue cotton candy.', 'hypothesis': 'The girl is eating while barefoot.', 'pred': 'label: contradiction explanation: The girl cannot be barefoot and wearing a dress at the same time.', 'label': 'entailment'}\n",
            "{'premise': 'A guy wearing jeans and a hat is crouching on a handrail with a concrete embankment located in front of him.', 'hypothesis': 'He is wearing a button-up shirt.', 'pred': 'label: contradiction explanation: jeans and button-up are different clothes', 'label': 'neutral'}\n",
            "{'premise': 'A group of people gathered at night watching an event.', 'hypothesis': 'A group of humans are looking at the same direction.', 'pred': 'label: entailment explanation: People are humans.', 'label': 'neutral'}\n",
            "{'premise': 'Group of people wearing black shirts riding in an open top vehicle.', 'hypothesis': 'A group of people go down the road in a convertible.', 'pred': 'label: neutral explanation: Just because people are riding in an open top vehicle does not mean they are in a convertible.', 'label': 'entailment'}\n",
            "{'premise': 'Group of people wearing black shirts riding in an open top vehicle.', 'hypothesis': 'Froends ride in an open top vehicle together.', 'pred': 'label: entailment explanation: A group of people are people.', 'label': 'neutral'}\n",
            "{'premise': 'Two men prepare a fish at a dock.', 'hypothesis': 'Two men are cleaning their fish', 'pred': 'label: contradiction explanation: The men cannot prepare a fish and clean their fish simultaneously.', 'label': 'entailment'}\n",
            "{'premise': 'A woman with her face partially covered in silver face paint sits on a plastic tote looking in a mirror.', 'hypothesis': 'The woman is blind.', 'pred': 'label: neutral explanation: A woman with her face partially covered in silver face paint sits on a plastic tote looking in a mirror does not indicate that she is blind.', 'label': 'contradiction'}\n",
            "{'premise': 'A biker races.', 'hypothesis': 'The biker loses the race', 'pred': 'label: contradiction explanation: The biker either races or loses the race.', 'label': 'neutral'}\n",
            "{'premise': 'Two people are playing American Football and one of them is trying to stop the other from throwing the ball.', 'hypothesis': 'A pitcher throws the baseball to the batter as he attempts to hit it out of the park.', 'pred': 'label: neutral explanation: Just because two people are playing American Football and one of them is trying to stop the other from throwing the ball does not mean that a pitcher throws the baseball to the batter as he attempts to hit it out of the park.', 'label': 'contradiction'}\n",
            "{'premise': 'A golden dog passes a blue ball to another golden dog on the beach.', 'hypothesis': 'The dogs are refusing to share.', 'pred': 'label: neutral explanation: The dogs are not necessarily refusing to share.', 'label': 'contradiction'}\n",
            "{'premise': 'People are on an escalator waiting to get to their destination while looking outside of the glass that makes up the wall.', 'hypothesis': 'The people are going up on the escalator.', 'pred': 'label: entailment explanation: People are waiting to get to their destination means they are going up on the escalator.', 'label': 'neutral'}\n",
            "{'premise': 'A birthday party for many little people to enjoy.', 'hypothesis': 'Children enjoying a birthday party.', 'pred': 'label: entailment explanation: Little people are children.', 'label': 'neutral'}\n",
            "{'premise': 'A birthday party for many little people to enjoy.', 'hypothesis': 'Children at a birthday party.', 'pred': 'label: entailment explanation: Children are little people.', 'label': 'neutral'}\n",
            "{'premise': 'The sun breaks through the trees as a child rides a swing.', 'hypothesis': 'A child rides a swing in the daytime.', 'pred': 'label: neutral explanation: The sun does not break through the trees during the daytime.', 'label': 'entailment'}\n",
            "{'premise': 'Everyone on the street in the city seem to be busy doing their own thing.', 'hypothesis': 'People are milling about the city street.', 'pred': 'label: neutral explanation: Just because everyone on the street in the city seem to be busy doing their own thing does not mean they are milling about the city street.', 'label': 'entailment'}\n",
            "{'premise': 'Everyone on the street in the city seem to be busy doing their own thing.', 'hypothesis': 'The people are watching what is happening.', 'pred': 'label: neutral explanation: Just because everyone is busy doing their own thing does not mean they are watching what is happening.', 'label': 'contradiction'}\n",
            "{'premise': 'Everyone on the street in the city seem to be busy doing their own thing.', 'hypothesis': 'People are conducting business in the city.', 'pred': 'label: neutral explanation: Just because everyone is busy doing their own thing does not mean they are conducting business.', 'label': 'entailment'}\n",
            "{'premise': 'A woman in tennis clothes running to hit a ball with her tennis racket.', 'hypothesis': 'Pete Sampras plays tennis.', 'pred': 'label: neutral explanation: Not all women are Pete Sampras.', 'label': 'contradiction'}\n",
            "{'premise': 'Several women are playing volleyball.', 'hypothesis': 'They women are hitting a ball with their arms', 'pred': 'label: neutral explanation: Just because women are playing volleyball does not mean they are hitting a ball with their arms.', 'label': 'entailment'}\n"
          ]
        }
      ],
      "source": [
        "n_mistakes = 50\n",
        "\n",
        "found_mistakes = []\n",
        "i = 0\n",
        "while len(found_mistakes) <  n_mistakes:\n",
        "    input_ids = test_tok[i]['input_ids'].unsqueeze(0)\n",
        "    output_ids = model_ft_ex.generate(input_ids, max_new_tokens=100)[0]\n",
        "    pred = tokenizer.decode(output_ids, skip_special_tokens=True, max_length = 100)\n",
        "    \n",
        "    true = tokenizer.decode(test_tok[i]['labels'], skip_special_tokens=True, max_length = 100)\n",
        "\n",
        "    if remove_explanation(pred) != true:\n",
        "        mistake = test_tok[i].copy()\n",
        "\n",
        "        del_keys = ['input_ids','explanation_1','explanation_2','explanation_3', 'labels', 'attention_mask']\n",
        "\n",
        "        for key in del_keys:\n",
        "            del mistake[key]\n",
        "        \n",
        "        mistake['pred'] = pred\n",
        "        mistake['label'] = true\n",
        "\n",
        "        found_mistakes.append(mistake)\n",
        "         \n",
        "    i +=1\n",
        "\n",
        "for mistake in found_mistakes:\n",
        "    print(mistake)"
      ]
    },
    {
      "cell_type": "code",
      "execution_count": 18,
      "metadata": {},
      "outputs": [
        {
          "name": "stdout",
          "output_type": "stream",
          "text": [
            "{'premise': 'This church choir sings to the masses as they sing joyous songs from the book at a church.', 'hypothesis': 'The church is filled with song.', 'pred': 'label: entailment explanation: A church choir sings to the masses as they sing joyous songs from the book at a church is a rephrasing of the church is filled with song.', 'label': 'entailment'}\n",
            "{'premise': 'This church choir sings to the masses as they sing joyous songs from the book at a church.', 'hypothesis': 'A choir singing at a baseball game.', 'pred': 'label: contradiction explanation: A church choir is not a baseball game.', 'label': 'contradiction'}\n",
            "{'premise': 'A woman with a green headscarf, blue shirt and a very big grin.', 'hypothesis': 'The woman is young.', 'pred': 'label: neutral explanation: Not all women are young.', 'label': 'neutral'}\n",
            "{'premise': 'A woman with a green headscarf, blue shirt and a very big grin.', 'hypothesis': 'The woman is very happy.', 'pred': 'label: entailment explanation: A big grin is a form of happy.', 'label': 'entailment'}\n",
            "{'premise': 'An old man with a package poses in front of an advertisement.', 'hypothesis': 'A man poses in front of an ad.', 'pred': 'label: entailment explanation: An old man is a man.', 'label': 'entailment'}\n",
            "{'premise': 'An old man with a package poses in front of an advertisement.', 'hypothesis': 'A man poses in front of an ad for beer.', 'pred': 'label: neutral explanation: Not all advertisement is for beer.', 'label': 'neutral'}\n",
            "{'premise': 'An old man with a package poses in front of an advertisement.', 'hypothesis': 'A man walks by an ad.', 'pred': 'label: contradiction explanation: The man cannot pose in front of an advertisement and walk by an ad at the same time.', 'label': 'contradiction'}\n",
            "{'premise': 'A statue at a museum that no seems to be looking at.', 'hypothesis': 'The statue is offensive and people are mad that it is on display.', 'pred': 'label: neutral explanation: The statue may not be offensive and people are mad that it is on display.', 'label': 'neutral'}\n",
            "{'premise': 'A statue at a museum that no seems to be looking at.', 'hypothesis': 'There is a statue that not many people seem to be interested in.', 'pred': 'label: entailment explanation: No seems to be looking at is a rephrasing of not many people seem to be interested in.', 'label': 'entailment'}\n",
            "{'premise': 'A land rover is being driven across a river.', 'hypothesis': 'A vehicle is crossing a river.', 'pred': 'label: entailment explanation: A land rover is a vehicle.', 'label': 'entailment'}\n",
            "{'premise': 'A land rover is being driven across a river.', 'hypothesis': 'A sedan is stuck in the middle of a river.', 'pred': 'label: contradiction explanation: A land rover is not a sedan.', 'label': 'contradiction'}\n",
            "{'premise': 'A man playing an electric guitar on stage.', 'hypothesis': 'A man playing banjo on the floor.', 'pred': 'label: contradiction explanation: A man cannot be playing an electric guitar and banjo at the same time.', 'label': 'contradiction'}\n",
            "{'premise': 'A man playing an electric guitar on stage.', 'hypothesis': 'A man playing guitar on stage.', 'pred': 'label: entailment explanation: A man playing an electric guitar on stage is a man playing guitar on stage.', 'label': 'entailment'}\n",
            "{'premise': 'A man playing an electric guitar on stage.', 'hypothesis': 'A man is performing for cash.', 'pred': 'label: neutral explanation: Playing an electric guitar does not imply performing for cash.', 'label': 'neutral'}\n",
            "{'premise': 'A blond-haired doctor and her African american assistant looking threw new medical manuals.', 'hypothesis': 'A man is eating pb and j', 'pred': 'label: contradiction explanation: The man is either eating pb and j or looking threw new medical manuals.', 'label': 'contradiction'}\n",
            "{'premise': 'A blond-haired doctor and her African american assistant looking threw new medical manuals.', 'hypothesis': 'A doctor is studying', 'pred': 'label: neutral explanation: Just because a doctor and her African american assistant looking threw new medical manuals does not mean that he is studying.', 'label': 'neutral'}\n",
            "{'premise': 'One tan girl with a wool hat is running and leaning over an object, while another person in a wool hat is sitting on the ground.', 'hypothesis': 'A boy runs into a wall', 'pred': 'label: contradiction explanation: A girl is not a boy.', 'label': 'contradiction'}\n",
            "{'premise': 'One tan girl with a wool hat is running and leaning over an object, while another person in a wool hat is sitting on the ground.', 'hypothesis': 'A tan girl runs leans over an object', 'pred': 'label: entailment explanation: A tan girl is running and leaning over an object is the same as a tan girl runs leans over an object.', 'label': 'entailment'}\n",
            "{'premise': 'A young family enjoys feeling ocean waves lap at their feet.', 'hypothesis': 'A young man and woman take their child to the beach for the first time.', 'pred': 'label: neutral explanation: Just because a young family enjoys feeling ocean waves lap at their feet does not mean they take their child to the beach for the first time.', 'label': 'neutral'}\n",
            "{'premise': 'A young family enjoys feeling ocean waves lap at their feet.', 'hypothesis': 'A family is out at a restaurant.', 'pred': 'label: contradiction explanation: The family cannot be at a restaurant and at the ocean at the same time.', 'label': 'contradiction'}\n",
            "{'premise': 'A young family enjoys feeling ocean waves lap at their feet.', 'hypothesis': 'A family is at the beach.', 'pred': 'label: entailment explanation: A family is at the beach is a rephrasing of a family enjoys feeling ocean waves lap at their feet.', 'label': 'entailment'}\n",
            "{'premise': 'A couple walk hand in hand down a street.', 'hypothesis': 'A couple is walking together.', 'pred': 'label: entailment explanation: A couple walking hand in hand down a street is walking together.', 'label': 'entailment'}\n",
            "{'premise': 'A couple walk hand in hand down a street.', 'hypothesis': 'The couple is married.', 'pred': 'label: neutral explanation: Just because a couple walk hand in hand down a street does not mean they are married.', 'label': 'neutral'}\n",
            "{'premise': 'A couple walk hand in hand down a street.', 'hypothesis': 'A couple is sitting on a bench.', 'pred': 'label: contradiction explanation: The couple cannot be walking and sitting at the same time.', 'label': 'contradiction'}\n",
            "{'premise': '3 young man in hoods standing in the middle of a quiet street facing the camera.', 'hypothesis': 'Three people sit by a busy street bareheaded.', 'pred': 'label: contradiction explanation: The street cannot be quiet and busy at the same time.', 'label': 'contradiction'}\n",
            "{'premise': '3 young man in hoods standing in the middle of a quiet street facing the camera.', 'hypothesis': 'Three hood wearing people stand in a street.', 'pred': 'label: entailment explanation: Three young man in hoods are three hood wearing people.', 'label': 'entailment'}\n",
            "{'premise': 'A man reads the paper in a bar with green lighting.', 'hypothesis': 'The man is inside.', 'pred': 'label: entailment explanation: A bar is inside.', 'label': 'entailment'}\n",
            "{'premise': 'A man reads the paper in a bar with green lighting.', 'hypothesis': 'The man is reading the sportspage.', 'pred': 'label: neutral explanation: Not all paper is sportspage.', 'label': 'neutral'}\n",
            "{'premise': 'A man reads the paper in a bar with green lighting.', 'hypothesis': 'The man is climbing a mountain.', 'pred': 'label: contradiction explanation: The man cannot be in a bar and climbing a mountain at the same time.', 'label': 'contradiction'}\n",
            "{'premise': 'Three firefighter come out of subway station.', 'hypothesis': 'Three firefighters coming up from a subway station.', 'pred': 'label: entailment explanation: Firefighters come out of a subway station.', 'label': 'entailment'}\n",
            "{'premise': 'Three firefighter come out of subway station.', 'hypothesis': 'Three firefighters playing cards inside a fire station.', 'pred': 'label: contradiction explanation: The firefighters cannot be inside and out of the subway station at the same time.', 'label': 'contradiction'}\n",
            "{'premise': 'A person wearing a straw hat, standing outside working a steel apparatus with a pile of coconuts on the ground.', 'hypothesis': 'A person is near a pile of coconuts.', 'pred': 'label: entailment explanation: A person is standing outside working a steel apparatus with a pile of coconuts on the ground.', 'label': 'entailment'}\n",
            "{'premise': 'A person wearing a straw hat, standing outside working a steel apparatus with a pile of coconuts on the ground.', 'hypothesis': 'A person is selling coconuts.', 'pred': 'label: neutral explanation: Working with coconuts does not imply selling coconuts.', 'label': 'neutral'}\n",
            "{'premise': 'A person wearing a straw hat, standing outside working a steel apparatus with a pile of coconuts on the ground.', 'hypothesis': 'A person is burning a straw hat.', 'pred': 'label: contradiction explanation: The person cannot be working a steel apparatus and burning a straw hat at the same time.', 'label': 'contradiction'}\n",
            "{'premise': 'Male in a blue jacket decides to lay in the grass.', 'hypothesis': 'The guy in yellow is rolling on the grass', 'pred': 'label: contradiction explanation: The guy is either wearing a blue jacket or yellow.', 'label': 'contradiction'}\n",
            "{'premise': 'Male in a blue jacket decides to lay in the grass.', 'hypothesis': 'The guy wearing a blue jacket is laying on the green grass taking a nap.', 'pred': 'label: neutral explanation: Not all grass is green.', 'label': 'neutral'}\n",
            "{'premise': 'During calf roping a cowboy calls off his horse.', 'hypothesis': 'A first time roper falls off his horse.', 'pred': 'label: neutral explanation: Not all calf roping is a first time roper.', 'label': 'neutral'}\n",
            "{'premise': 'A little boy in a gray and white striped sweater and tan pants is playing on a piece of playground equipment.', 'hypothesis': 'A boy is on a playground.', 'pred': 'label: entailment explanation: A little boy is a boy.', 'label': 'entailment'}\n",
            "{'premise': 'A little boy in a gray and white striped sweater and tan pants is playing on a piece of playground equipment.', 'hypothesis': 'The boy is playing on the swings after school.', 'pred': 'label: neutral explanation: Playground equipment does not imply swings after school.', 'label': 'neutral'}\n",
            "{'premise': 'A little boy in a gray and white striped sweater and tan pants is playing on a piece of playground equipment.', 'hypothesis': 'The boy is sitting on the school bus on his way home.', 'pred': 'label: contradiction explanation: The boy cannot be playing on playground equipment and sitting on the school bus at the same time.', 'label': 'contradiction'}\n",
            "{'premise': 'A woman wearing a ball cap squats down to touch the cracked earth.', 'hypothesis': 'An archeologist wearing a hat squats to examine the site for a dig', 'pred': 'label: neutral explanation: Not all women are an archeologist.', 'label': 'neutral'}\n",
            "{'premise': 'A woman wearing a ball cap squats down to touch the cracked earth.', 'hypothesis': 'A squatting woman wearing a hat touching the ground.', 'pred': 'label: entailment explanation: A ball cap is a hat.', 'label': 'entailment'}\n",
            "{'premise': 'A woman wearing a ball cap squats down to touch the cracked earth.', 'hypothesis': 'A woman wearing a sun bonnet planting a garden.', 'pred': 'label: contradiction explanation: A ball cap is not a sun bonnet.', 'label': 'contradiction'}\n",
            "{'premise': 'Two children re laying on a rug with some wooden bricks laid out in a square between them.', 'hypothesis': 'Two children are building a brick furnace.', 'pred': 'label: neutral explanation: Just because the children are laying on a rug does not mean they are building a brick furnace.', 'label': 'neutral'}\n",
            "{'premise': 'Two children re laying on a rug with some wooden bricks laid out in a square between them.', 'hypothesis': 'Two children are playing catch at a park.', 'pred': 'label: contradiction explanation: The children cannot be laying on a rug and playing catch at the same time.', 'label': 'contradiction'}\n",
            "{'premise': 'Two children re laying on a rug with some wooden bricks laid out in a square between them.', 'hypothesis': 'Two children are on a rug.', 'pred': 'label: entailment explanation: Two children are on a rug is a rephrasing of two children laying on a rug.', 'label': 'entailment'}\n",
            "{'premise': 'A man standing in front of a building on the phone as two men to the side pain on the side.', 'hypothesis': 'a guy near a building stands by two other men', 'pred': 'label: entailment explanation: A man is a guy.', 'label': 'entailment'}\n",
            "{'premise': 'A man standing in front of a building on the phone as two men to the side pain on the side.', 'hypothesis': 'two girls walk through a hall', 'pred': 'label: contradiction explanation: A man is not two girls.', 'label': 'contradiction'}\n",
            "{'premise': 'A man standing in front of a building on the phone as two men to the side pain on the side.', 'hypothesis': 'a busy man stands with bodyguards', 'pred': 'label: neutral explanation: Not all men are bodyguards.', 'label': 'neutral'}\n",
            "{'premise': 'The two young girls are dressed as fairies, and are playing in the leaves outdoors.', 'hypothesis': 'Girls are playing outdoors.', 'pred': 'label: entailment explanation: Girls are playing outdoors is a rephrasing of girls are playing outdoors.', 'label': 'entailment'}\n"
          ]
        }
      ],
      "source": [
        "n_correct = 50\n",
        "\n",
        "found_correct = []\n",
        "i = 0\n",
        "while len(found_correct) <  n_correct:\n",
        "    input_ids = test_tok[i]['input_ids'].unsqueeze(0)\n",
        "    output_ids = model_ft_ex.generate(input_ids, max_new_tokens=100)[0]\n",
        "    pred = tokenizer.decode(output_ids, skip_special_tokens=True, max_length = 100)\n",
        "    \n",
        "    true = tokenizer.decode(test_tok[i]['labels'], skip_special_tokens=True, max_length = 100)\n",
        "\n",
        "    if remove_explanation(pred) == true:\n",
        "        correct = test_tok[i].copy()\n",
        "\n",
        "        del_keys = ['input_ids','explanation_1','explanation_2','explanation_3', 'labels', 'attention_mask']\n",
        "\n",
        "        for key in del_keys:\n",
        "            del correct[key]\n",
        "        \n",
        "        correct['pred'] = pred\n",
        "        correct['label'] = true\n",
        "\n",
        "        found_correct.append(correct)\n",
        "         \n",
        "    i +=1\n",
        "\n",
        "for correct in found_correct:\n",
        "    print(correct)"
      ]
    },
    {
      "cell_type": "markdown",
      "metadata": {},
      "source": [
        "# Model fine tuned with shuffled explanations"
      ]
    },
    {
      "cell_type": "code",
      "execution_count": 19,
      "metadata": {},
      "outputs": [],
      "source": [
        "from src.utils import remove_explanation"
      ]
    },
    {
      "cell_type": "code",
      "execution_count": 20,
      "metadata": {},
      "outputs": [],
      "source": [
        "model_ft_shex = T5ForConditionalGeneration.from_pretrained('task4_' + MODEL + '/best_model')\n",
        "data_collator_ft = DataCollatorForSeq2Seq(tokenizer, model=model_ft_shex)"
      ]
    },
    {
      "cell_type": "code",
      "execution_count": 21,
      "metadata": {},
      "outputs": [
        {
          "name": "stdout",
          "output_type": "stream",
          "text": [
            "{'premise': 'This church choir sings to the masses as they sing joyous songs from the book at a church.', 'hypothesis': 'The church has cracks in the ceiling.', 'pred': 'label: contradiction explanation: A man and woman stand next to a table covered in beer glasses and pitchers cannot be at a preschool.', 'label': 'neutral'}\n",
            "{'premise': 'A woman with a green headscarf, blue shirt and a very big grin.', 'hypothesis': 'The woman is very happy.', 'pred': 'label: neutral explanation: A man and woman wearing t-shirt are standing next to a hole.', 'label': 'entailment'}\n",
            "{'premise': 'One tan girl with a wool hat is running and leaning over an object, while another person in a wool hat is sitting on the ground.', 'hypothesis': 'A man watches his daughter leap', 'pred': 'label: contradiction explanation: A man and woman wearing t-shirt are standing next to a hole.', 'label': 'neutral'}\n",
            "{'premise': 'Three firefighter come out of subway station.', 'hypothesis': 'Three firefighters putting out a fire inside of a subway station.', 'pred': 'label: contradiction explanation: A man and woman stand next to a table covered in beer glasses and pitchers cannot be at a preschool.', 'label': 'neutral'}\n",
            "{'premise': 'Male in a blue jacket decides to lay in the grass.', 'hypothesis': 'The guy wearing a blue jacket is laying on the green grass', 'pred': 'label: neutral explanation: A man and woman wearing t-shirt are standing next to a hole.', 'label': 'entailment'}\n",
            "{'premise': 'During calf roping a cowboy calls off his horse.', 'hypothesis': 'A man ropes a calf successfully.', 'pred': 'label: neutral explanation: A man and woman wearing t-shirt are standing next to a hole.', 'label': 'contradiction'}\n",
            "{'premise': 'Two children re laying on a rug with some wooden bricks laid out in a square between them.', 'hypothesis': 'Two children are building a brick furnace.', 'pred': 'label: contradiction explanation: A man and woman stand next to a table covered in beer glasses and pitchers cannot be at a preschool.', 'label': 'neutral'}\n",
            "{'premise': 'A man standing in front of a building on the phone as two men to the side pain on the side.', 'hypothesis': 'a busy man stands with bodyguards', 'pred': 'label: contradiction explanation: A man and woman stand next to a table covered in beer glasses and pitchers cannot be at a preschool.', 'label': 'neutral'}\n",
            "{'premise': 'People jump over a mountain crevasse on a rope.', 'hypothesis': 'Some people look visually afraid to jump.', 'pred': 'label: contradiction explanation: A man and woman stand next to a table covered in beer glasses and pitchers cannot be at a preschool.', 'label': 'neutral'}\n",
            "{'premise': 'A snowboarder on a wide plain of snow', 'hypothesis': 'A snow field with a snowboarder on it', 'pred': 'label: neutral explanation: A man and woman stand next to a table covered in beer glasses and pitchers cannot be at a preschool.', 'label': 'entailment'}\n"
          ]
        }
      ],
      "source": [
        "n_mistakes = 10\n",
        "\n",
        "found_mistakes = []\n",
        "i = 0\n",
        "while len(found_mistakes) <  n_mistakes:\n",
        "    input_ids = test_tok[i]['input_ids'].unsqueeze(0)\n",
        "    output_ids = model_ft_shex.generate(input_ids, max_new_tokens=100)[0]\n",
        "    pred = tokenizer.decode(output_ids, skip_special_tokens=True, max_length = 100)\n",
        "    \n",
        "    true = tokenizer.decode(test_tok[i]['labels'], skip_special_tokens=True, max_length = 100)\n",
        "\n",
        "    if remove_explanation(pred) != true:\n",
        "        mistake = test_tok[i].copy()\n",
        "\n",
        "        del_keys = ['input_ids','explanation_1','explanation_2','explanation_3', 'labels', 'attention_mask']\n",
        "\n",
        "        for key in del_keys:\n",
        "            del mistake[key]\n",
        "        \n",
        "        mistake['pred'] = pred\n",
        "        mistake['label'] = true\n",
        "\n",
        "        found_mistakes.append(mistake)\n",
        "         \n",
        "    i +=1\n",
        "\n",
        "for mistake in found_mistakes:\n",
        "    print(mistake)"
      ]
    },
    {
      "cell_type": "code",
      "execution_count": 22,
      "metadata": {},
      "outputs": [
        {
          "name": "stdout",
          "output_type": "stream",
          "text": [
            "{'premise': 'This church choir sings to the masses as they sing joyous songs from the book at a church.', 'hypothesis': 'The church is filled with song.', 'pred': 'label: entailment explanation: A man and woman stand next to a table covered in beer glasses and pitchers cannot be at a preschool.', 'label': 'entailment'}\n",
            "{'premise': 'This church choir sings to the masses as they sing joyous songs from the book at a church.', 'hypothesis': 'A choir singing at a baseball game.', 'pred': 'label: contradiction explanation: A man and woman wearing t-shirt are standing next to a hole.', 'label': 'contradiction'}\n",
            "{'premise': 'A woman with a green headscarf, blue shirt and a very big grin.', 'hypothesis': 'The woman is young.', 'pred': 'label: neutral explanation: A man and woman wearing t-shirt are standing next to a hole.', 'label': 'neutral'}\n",
            "{'premise': 'A woman with a green headscarf, blue shirt and a very big grin.', 'hypothesis': 'The woman has been shot.', 'pred': 'label: contradiction explanation: A man and woman wearing t-shirt are standing next to a hole.', 'label': 'contradiction'}\n",
            "{'premise': 'An old man with a package poses in front of an advertisement.', 'hypothesis': 'A man poses in front of an ad.', 'pred': 'label: entailment explanation: A man and woman wearing t-shirt are standing next to a hole.', 'label': 'entailment'}\n",
            "{'premise': 'An old man with a package poses in front of an advertisement.', 'hypothesis': 'A man poses in front of an ad for beer.', 'pred': 'label: neutral explanation: A man and woman wearing t-shirt are standing next to a hole.', 'label': 'neutral'}\n",
            "{'premise': 'An old man with a package poses in front of an advertisement.', 'hypothesis': 'A man walks by an ad.', 'pred': 'label: contradiction explanation: A man and woman wearing t-shirt are standing next to a hole.', 'label': 'contradiction'}\n",
            "{'premise': 'A statue at a museum that no seems to be looking at.', 'hypothesis': 'The statue is offensive and people are mad that it is on display.', 'pred': 'label: neutral explanation: A man and woman wearing t-shirt are standing next to a hole.', 'label': 'neutral'}\n",
            "{'premise': 'A statue at a museum that no seems to be looking at.', 'hypothesis': 'There is a statue that not many people seem to be interested in.', 'pred': 'label: entailment explanation: A man and woman wearing t-shirt are standing next to a hole.', 'label': 'entailment'}\n",
            "{'premise': 'A statue at a museum that no seems to be looking at.', 'hypothesis': 'Tons of people are gathered around the statue.', 'pred': 'label: contradiction explanation: A man and woman wearing t-shirt are standing next to a hole.', 'label': 'contradiction'}\n"
          ]
        }
      ],
      "source": [
        "n_correct = 10\n",
        "\n",
        "found_correct = []\n",
        "i = 0\n",
        "while len(found_correct) <  n_correct:\n",
        "    input_ids = test_tok[i]['input_ids'].unsqueeze(0)\n",
        "    output_ids = model_ft_shex.generate(input_ids, max_new_tokens=100)[0]\n",
        "    pred = tokenizer.decode(output_ids, skip_special_tokens=True, max_length = 100)\n",
        "    \n",
        "    true = tokenizer.decode(test_tok[i]['labels'], skip_special_tokens=True, max_length = 100)\n",
        "\n",
        "    if remove_explanation(pred) == true:\n",
        "        correct = test_tok[i].copy()\n",
        "\n",
        "        del_keys = ['input_ids','explanation_1','explanation_2','explanation_3', 'labels', 'attention_mask']\n",
        "\n",
        "        for key in del_keys:\n",
        "            del correct[key]\n",
        "        \n",
        "        correct['pred'] = pred\n",
        "        correct['label'] = true\n",
        "\n",
        "        found_correct.append(correct)\n",
        "         \n",
        "    i +=1\n",
        "\n",
        "for correct in found_correct:\n",
        "    print(correct)"
      ]
    },
    {
      "cell_type": "markdown",
      "metadata": {},
      "source": [
        "# Model fine tuned with compressed explanations"
      ]
    },
    {
      "cell_type": "code",
      "execution_count": 23,
      "metadata": {},
      "outputs": [],
      "source": [
        "from src.utils import remove_explanation"
      ]
    },
    {
      "cell_type": "code",
      "execution_count": 24,
      "metadata": {},
      "outputs": [],
      "source": [
        "model_ft_5 = T5ForConditionalGeneration.from_pretrained('task5_' + MODEL + '/best_model')\n",
        "data_collator_ft = DataCollatorForSeq2Seq(tokenizer, model=model_ft_5)"
      ]
    },
    {
      "cell_type": "code",
      "execution_count": 25,
      "metadata": {},
      "outputs": [
        {
          "name": "stdout",
          "output_type": "stream",
          "text": [
            "{'premise': 'A woman with a green headscarf, blue shirt and a very big grin.', 'hypothesis': 'The woman is very happy.', 'pred': 'label: neutral explanation: man woman genders leading Clydesdale drinking tea', 'label': 'entailment'}\n",
            "{'premise': 'A land rover is being driven across a river.', 'hypothesis': 'A Land Rover is splashing water as it crosses a river.', 'pred': 'label: neutral explanation: man woman genders person hitching directs horse drawn cart has horse attached attach horse cart', 'label': 'entailment'}\n",
            "{'premise': 'One tan girl with a wool hat is running and leaning over an object, while another person in a wool hat is sitting on the ground.', 'hypothesis': 'A man watches his daughter leap', 'pred': 'label: contradiction explanation: man woman genders leading Clydesdale drinking tea', 'label': 'neutral'}\n",
            "{'premise': 'Male in a blue jacket decides to lay in the grass.', 'hypothesis': 'The guy wearing a blue jacket is laying on the green grass', 'pred': 'label: neutral explanation: man woman genders leading Clydesdale drinking tea', 'label': 'entailment'}\n",
            "{'premise': 'During calf roping a cowboy calls off his horse.', 'hypothesis': 'A man ropes a calf successfully.', 'pred': 'label: neutral explanation: man woman genders leading Clydesdale drinking tea', 'label': 'contradiction'}\n",
            "{'premise': 'Two children re laying on a rug with some wooden bricks laid out in a square between them.', 'hypothesis': 'Two children are building a brick furnace.', 'pred': 'label: contradiction explanation: man woman genders', 'label': 'neutral'}\n",
            "{'premise': 'A man standing in front of a building on the phone as two men to the side pain on the side.', 'hypothesis': 'a busy man stands with bodyguards', 'pred': 'label: contradiction explanation: man woman genders leading Clydesdale drinking tea', 'label': 'neutral'}\n",
            "{'premise': 'People jump over a mountain crevasse on a rope.', 'hypothesis': 'Some people look visually afraid to jump.', 'pred': 'label: contradiction explanation: man woman genders person hitching directs horse drawn cart has horse attached attach horse cart', 'label': 'neutral'}\n",
            "{'premise': 'A snowboarder on a wide plain of snow', 'hypothesis': 'A snowboarder gliding over a field of snow', 'pred': 'label: entailment explanation: man woman genders leading Clydesdale drinking tea', 'label': 'neutral'}\n",
            "{'premise': 'A snowboarder on a wide plain of snow', 'hypothesis': 'A snowmobile in a blizzard', 'pred': 'label: contradiction explanation: man woman genders leading Clydesdale drinking tea', 'label': 'neutral'}\n"
          ]
        }
      ],
      "source": [
        "n_mistakes = 10\n",
        "\n",
        "found_mistakes = []\n",
        "i = 0\n",
        "while len(found_mistakes) <  n_mistakes:\n",
        "    input_ids = test_tok[i]['input_ids'].unsqueeze(0)\n",
        "    output_ids = model_ft_5.generate(input_ids, max_new_tokens=100)[0]\n",
        "    pred = tokenizer.decode(output_ids, skip_special_tokens=True, max_length = 100)\n",
        "    \n",
        "    true = tokenizer.decode(test_tok[i]['labels'], skip_special_tokens=True, max_length = 100)\n",
        "\n",
        "    if remove_explanation(pred) != true:\n",
        "        mistake = test_tok[i].copy()\n",
        "\n",
        "        del_keys = ['input_ids','explanation_1','explanation_2','explanation_3', 'labels', 'attention_mask']\n",
        "\n",
        "        for key in del_keys:\n",
        "            del mistake[key]\n",
        "        \n",
        "        mistake['pred'] = pred\n",
        "        mistake['label'] = true\n",
        "\n",
        "        found_mistakes.append(mistake)\n",
        "         \n",
        "    i +=1\n",
        "\n",
        "for mistake in found_mistakes:\n",
        "    print(mistake)"
      ]
    },
    {
      "cell_type": "code",
      "execution_count": 26,
      "metadata": {},
      "outputs": [
        {
          "name": "stdout",
          "output_type": "stream",
          "text": [
            "{'premise': 'This church choir sings to the masses as they sing joyous songs from the book at a church.', 'hypothesis': 'The church has cracks in the ceiling.', 'pred': 'label: neutral explanation: man woman genders leading Clydesdale drinking tea', 'label': 'neutral'}\n",
            "{'premise': 'This church choir sings to the masses as they sing joyous songs from the book at a church.', 'hypothesis': 'The church is filled with song.', 'pred': 'label: entailment explanation: man woman genders', 'label': 'entailment'}\n",
            "{'premise': 'This church choir sings to the masses as they sing joyous songs from the book at a church.', 'hypothesis': 'A choir singing at a baseball game.', 'pred': 'label: contradiction explanation: man woman genders leading Clydesdale drinking tea', 'label': 'contradiction'}\n",
            "{'premise': 'A woman with a green headscarf, blue shirt and a very big grin.', 'hypothesis': 'The woman is young.', 'pred': 'label: neutral explanation: man woman genders leading Clydesdale drinking tea', 'label': 'neutral'}\n",
            "{'premise': 'A woman with a green headscarf, blue shirt and a very big grin.', 'hypothesis': 'The woman has been shot.', 'pred': 'label: contradiction explanation: man woman genders leading Clydesdale drinking tea', 'label': 'contradiction'}\n",
            "{'premise': 'An old man with a package poses in front of an advertisement.', 'hypothesis': 'A man poses in front of an ad.', 'pred': 'label: entailment explanation: man woman genders leading Clydesdale drinking tea', 'label': 'entailment'}\n",
            "{'premise': 'An old man with a package poses in front of an advertisement.', 'hypothesis': 'A man poses in front of an ad for beer.', 'pred': 'label: neutral explanation: man woman genders leading Clydesdale drinking tea', 'label': 'neutral'}\n",
            "{'premise': 'An old man with a package poses in front of an advertisement.', 'hypothesis': 'A man walks by an ad.', 'pred': 'label: contradiction explanation: man woman genders leading Clydesdale drinking tea', 'label': 'contradiction'}\n",
            "{'premise': 'A statue at a museum that no seems to be looking at.', 'hypothesis': 'The statue is offensive and people are mad that it is on display.', 'pred': 'label: neutral explanation: man woman genders leading Clydesdale drinking tea', 'label': 'neutral'}\n",
            "{'premise': 'A statue at a museum that no seems to be looking at.', 'hypothesis': 'There is a statue that not many people seem to be interested in.', 'pred': 'label: entailment explanation: man woman genders', 'label': 'entailment'}\n"
          ]
        }
      ],
      "source": [
        "n_correct = 10\n",
        "\n",
        "found_correct = []\n",
        "i = 0\n",
        "while len(found_correct) <  n_correct:\n",
        "    input_ids = test_tok[i]['input_ids'].unsqueeze(0)\n",
        "    output_ids = model_ft_5.generate(input_ids, max_new_tokens=100)[0]\n",
        "    pred = tokenizer.decode(output_ids, skip_special_tokens=True, max_length = 100)\n",
        "    \n",
        "    true = tokenizer.decode(test_tok[i]['labels'], skip_special_tokens=True, max_length = 100)\n",
        "\n",
        "    if remove_explanation(pred) == true:\n",
        "        correct = test_tok[i].copy()\n",
        "\n",
        "        del_keys = ['input_ids','explanation_1','explanation_2','explanation_3', 'labels', 'attention_mask']\n",
        "\n",
        "        for key in del_keys:\n",
        "            del correct[key]\n",
        "        \n",
        "        correct['pred'] = pred\n",
        "        correct['label'] = true\n",
        "\n",
        "        found_correct.append(correct)\n",
        "         \n",
        "    i +=1\n",
        "\n",
        "for correct in found_correct:\n",
        "    print(correct)"
      ]
    },
    {
      "cell_type": "code",
      "execution_count": null,
      "metadata": {},
      "outputs": [],
      "source": []
    }
  ],
  "metadata": {
    "accelerator": "TPU",
    "colab": {
      "collapsed_sections": [
        "UZvGBSfFEWLv",
        "FFt0woXsEWLx",
        "RxesGnaFEWLz",
        "DQvhd35vEWL1",
        "s4SNHcxuEWL3",
        "bQoQE4naEWL4",
        "BMD_Zq5zEWL4"
      ],
      "include_colab_link": true,
      "provenance": []
    },
    "kernelspec": {
      "display_name": "Python 3",
      "name": "python3"
    },
    "language_info": {
      "codemirror_mode": {
        "name": "ipython",
        "version": 3
      },
      "file_extension": ".py",
      "mimetype": "text/x-python",
      "name": "python",
      "nbconvert_exporter": "python",
      "pygments_lexer": "ipython3",
      "version": "3.10.12"
    }
  },
  "nbformat": 4,
  "nbformat_minor": 0
}
