{
  "cells": [
    {
      "cell_type": "markdown",
      "metadata": {
        "colab_type": "text",
        "id": "view-in-github"
      },
      "source": [
        "<a href=\"https://colab.research.google.com/github/DreRnc/ExplainingExplanations/blob/ModData/Base.ipynb\" target=\"_parent\"><img src=\"https://colab.research.google.com/assets/colab-badge.svg\" alt=\"Open In Colab\"/></a>"
      ]
    },
    {
      "cell_type": "markdown",
      "metadata": {
        "id": "4H972d7y9V7J"
      },
      "source": [
        "Dataset : **E-SNLI**. \\\n",
        "Model : **Base T5**."
      ]
    },
    {
      "cell_type": "code",
      "execution_count": null,
      "metadata": {},
      "outputs": [],
      "source": [
        "colab = False"
      ]
    },
    {
      "cell_type": "code",
      "execution_count": null,
      "metadata": {},
      "outputs": [],
      "source": [
        "if colab:\n",
        "    !git clone https://github.com/DreRnc/ExplainingExplanations.git\n",
        "    %cd ExplainingExplanations\n",
        "    !git checkout seq2seq\n",
        "    %pip install -r requirements_colab.txt\n",
        "    "
      ]
    },
    {
      "cell_type": "markdown",
      "metadata": {},
      "source": [
        "# 1.0 Preparation\n"
      ]
    },
    {
      "cell_type": "markdown",
      "metadata": {},
      "source": [
        "Set parameters for the experiments."
      ]
    },
    {
      "cell_type": "code",
      "execution_count": null,
      "metadata": {},
      "outputs": [],
      "source": [
        "sizes = {\n",
        "    'n_train' : 10000,\n",
        "    'n_val' : 1000,\n",
        "    'n_test' : 1000\n",
        "}\n",
        "\n",
        "NUM_EPOCHS = 1\n",
        "\n",
        "# Whether to use the mnli prompt on which the model is pretrained or not\n",
        "USE_MNLI_PROMPT = False"
      ]
    },
    {
      "cell_type": "markdown",
      "metadata": {},
      "source": [
        "## 1.1 Loading Tokenizer"
      ]
    },
    {
      "cell_type": "code",
      "execution_count": null,
      "metadata": {},
      "outputs": [],
      "source": [
        "from transformers import T5Tokenizer\n",
        "\n",
        "tokenizer = T5Tokenizer.from_pretrained(\"t5-base\", truncation=True, padding=True)"
      ]
    },
    {
      "cell_type": "markdown",
      "metadata": {},
      "source": [
        "## 1.2 Loading and Tokenizing Dataset"
      ]
    },
    {
      "cell_type": "code",
      "execution_count": null,
      "metadata": {},
      "outputs": [],
      "source": [
        "from datasets import load_dataset\n",
        "from src.preprocess import prepare_dataset\n",
        "from functools import partial\n",
        "from src.utils import tokenize_function"
      ]
    },
    {
      "cell_type": "code",
      "execution_count": null,
      "metadata": {},
      "outputs": [],
      "source": [
        "dataset = load_dataset(\"esnli\", download_mode=\"force_redownload\")"
      ]
    },
    {
      "cell_type": "code",
      "execution_count": null,
      "metadata": {},
      "outputs": [],
      "source": [
        "tokenize_mapping= partial(tokenize_function, tokenizer=tokenizer, use_mnli_format = USE_MNLI_PROMPT)"
      ]
    },
    {
      "cell_type": "code",
      "execution_count": null,
      "metadata": {},
      "outputs": [],
      "source": [
        "train_tok, valid_tok, test_tok = prepare_dataset(dataset, tokenize_mapping=tokenize_mapping, sizes = sizes)"
      ]
    },
    {
      "cell_type": "markdown",
      "metadata": {},
      "source": [
        "## 1.3 Loading SBERT for evaluating sentence similarity"
      ]
    },
    {
      "cell_type": "code",
      "execution_count": null,
      "metadata": {},
      "outputs": [],
      "source": [
        "from sentence_transformers import SentenceTransformer"
      ]
    },
    {
      "cell_type": "code",
      "execution_count": null,
      "metadata": {},
      "outputs": [],
      "source": [
        "sbert = SentenceTransformer('all-MiniLM-L6-v2')"
      ]
    },
    {
      "cell_type": "markdown",
      "metadata": {},
      "source": [
        "# 2.0 Tasks"
      ]
    },
    {
      "cell_type": "code",
      "execution_count": null,
      "metadata": {},
      "outputs": [],
      "source": [
        "import torch\n",
        "from functools import partial\n",
        "import evaluate\n",
        "from src.utils import compute_metrics, eval_pred_transform_accuracy\n",
        "from transformers import Seq2SeqTrainingArguments, Seq2SeqTrainer, T5ForConditionalGeneration, DataCollatorForSeq2Seq\n"
      ]
    },
    {
      "cell_type": "code",
      "execution_count": null,
      "metadata": {},
      "outputs": [],
      "source": [
        "if torch.cuda.is_available():\n",
        "    device = torch.device('cuda')\n",
        "else:\n",
        "    device = torch.device('cpu')\n",
        "    \n",
        "device"
      ]
    },
    {
      "cell_type": "code",
      "execution_count": null,
      "metadata": {},
      "outputs": [],
      "source": [
        "transform_accuracy = partial(eval_pred_transform_accuracy, tokenizer = tokenizer)\n",
        "compute_accuracy = partial(compute_metrics, pred_transforms=transform_accuracy, metrics = evaluate.load('accuracy'))"
      ]
    },
    {
      "cell_type": "markdown",
      "metadata": {},
      "source": [
        "## 2.1 Task 1: Zero-shot evaluation"
      ]
    },
    {
      "cell_type": "code",
      "execution_count": null,
      "metadata": {},
      "outputs": [],
      "source": [
        "model = T5ForConditionalGeneration.from_pretrained(\"t5-base\")\n",
        "data_collator = DataCollatorForSeq2Seq(tokenizer, model=model)"
      ]
    },
    {
      "cell_type": "code",
      "execution_count": null,
      "metadata": {},
      "outputs": [],
      "source": [
        "training_args = Seq2SeqTrainingArguments(\n",
        "    output_dir=\"task1\",\n",
        "    predict_with_generate=True,\n",
        "    per_device_eval_batch_size=16,\n",
        "    generation_max_length=32,\n",
        "    metric_for_best_model=\"accuracy\",\n",
        ")"
      ]
    },
    {
      "cell_type": "code",
      "execution_count": null,
      "metadata": {},
      "outputs": [],
      "source": [
        "trainer = Seq2SeqTrainer(\n",
        "    model=model,\n",
        "    args=training_args,\n",
        "    train_dataset=train_tok,\n",
        "    eval_dataset=valid_tok,\n",
        "    compute_metrics=compute_accuracy,\n",
        "    data_collator=data_collator,\n",
        "    tokenizer=tokenizer,\n",
        ")"
      ]
    },
    {
      "cell_type": "code",
      "execution_count": null,
      "metadata": {},
      "outputs": [],
      "source": [
        "trainer.evaluate(test_tok)"
      ]
    },
    {
      "cell_type": "markdown",
      "metadata": {
        "id": "bQoQE4naEWL4"
      },
      "source": [
        "## 2.2 Task 2: Fine tuning without explanations"
      ]
    },
    {
      "cell_type": "code",
      "execution_count": null,
      "metadata": {},
      "outputs": [],
      "source": [
        "NUM_EPOCHS = 1"
      ]
    },
    {
      "cell_type": "code",
      "execution_count": null,
      "metadata": {},
      "outputs": [],
      "source": [
        "model_ft = T5ForConditionalGeneration.from_pretrained(\"t5-base\")\n",
        "data_collator_ft = DataCollatorForSeq2Seq(tokenizer, model=model_ft)"
      ]
    },
    {
      "cell_type": "code",
      "execution_count": null,
      "metadata": {
        "id": "OHxW0vUdGLSa"
      },
      "outputs": [],
      "source": [
        "training_args_ft = Seq2SeqTrainingArguments(\n",
        "    save_strategy=\"no\",\n",
        "    output_dir=\"task2\",\n",
        "    evaluation_strategy=\"epoch\",\n",
        "    num_train_epochs=NUM_EPOCHS,\n",
        "    predict_with_generate=True,\n",
        "    per_device_train_batch_size=16,\n",
        "    per_device_eval_batch_size=16,\n",
        "    generation_max_length=32,\n",
        "    metric_for_best_model=\"accuracy\",\n",
        ")"
      ]
    },
    {
      "cell_type": "code",
      "execution_count": null,
      "metadata": {
        "id": "mUa0tn4jGIgS"
      },
      "outputs": [],
      "source": [
        "trainer_ft = Seq2SeqTrainer(\n",
        "    model=model_ft,\n",
        "    args=training_args_ft,\n",
        "    train_dataset=train_tok,\n",
        "    eval_dataset=valid_tok,\n",
        "    compute_metrics=compute_accuracy,\n",
        "    data_collator=data_collator_ft,\n",
        "    tokenizer=tokenizer,\n",
        ")"
      ]
    },
    {
      "cell_type": "code",
      "execution_count": null,
      "metadata": {
        "colab": {
          "base_uri": "https://localhost:8080/",
          "height": 95
        },
        "id": "2HY5nl2RHx5J",
        "outputId": "4210f615-2304-45bc-8231-813def9c629b"
      },
      "outputs": [],
      "source": [
        "trainer_ft.train()"
      ]
    },
    {
      "cell_type": "code",
      "execution_count": null,
      "metadata": {},
      "outputs": [],
      "source": [
        "trainer_ft.evaluate(test_tok)"
      ]
    },
    {
      "cell_type": "markdown",
      "metadata": {
        "id": "BMD_Zq5zEWL4"
      },
      "source": [
        "## 2.3 Task 3: Fine Tuning with Explanations"
      ]
    },
    {
      "cell_type": "markdown",
      "metadata": {},
      "source": [
        "We need to give as labels the label and the explanation tokenized."
      ]
    },
    {
      "cell_type": "markdown",
      "metadata": {},
      "source": [
        "### Preparing the dataset with labelled explanations"
      ]
    },
    {
      "cell_type": "code",
      "execution_count": null,
      "metadata": {},
      "outputs": [],
      "source": [
        "from src.utils import tokenize_function_ex"
      ]
    },
    {
      "cell_type": "code",
      "execution_count": null,
      "metadata": {},
      "outputs": [],
      "source": [
        "dataset_explanations = load_dataset(\"esnli\", download_mode=\"force_redownload\")"
      ]
    },
    {
      "cell_type": "code",
      "execution_count": null,
      "metadata": {},
      "outputs": [],
      "source": [
        "tokenize_mapping_ex = partial(tokenize_function_ex, tokenizer=tokenizer, use_mnli_format = USE_MNLI_PROMPT)"
      ]
    },
    {
      "cell_type": "code",
      "execution_count": null,
      "metadata": {},
      "outputs": [],
      "source": [
        "train_tok_ex, valid_tok_ex, test_tok_ex = prepare_dataset(dataset=dataset_explanations, tokenize_mapping=tokenize_mapping_ex, sizes=sizes)"
      ]
    },
    {
      "cell_type": "code",
      "execution_count": null,
      "metadata": {},
      "outputs": [],
      "source": [
        "train_tok_ex.features"
      ]
    },
    {
      "cell_type": "markdown",
      "metadata": {},
      "source": [
        "### Defining the metrics: accuracy / similarity of explanations"
      ]
    },
    {
      "cell_type": "code",
      "execution_count": null,
      "metadata": {},
      "outputs": [],
      "source": [
        "from src.utils import eval_pred_transform_sbert\n",
        "from sbert_metric import SbertMetric"
      ]
    },
    {
      "cell_type": "code",
      "execution_count": null,
      "metadata": {},
      "outputs": [],
      "source": [
        "transform_accuracy_ex = partial(eval_pred_transform_accuracy, tokenizer = tokenizer, remove_explanations_from_label = True)\n",
        "accuracy = evaluate.load('accuracy')"
      ]
    },
    {
      "cell_type": "code",
      "execution_count": null,
      "metadata": {},
      "outputs": [],
      "source": [
        "trasnform_sbert = partial(eval_pred_transform_sbert, tokenizer = tokenizer)\n",
        "sbert_similarity = SbertMetric(sbert)"
      ]
    },
    {
      "cell_type": "code",
      "execution_count": null,
      "metadata": {},
      "outputs": [],
      "source": [
        "transforms = [transform_accuracy_ex, trasnform_sbert]\n",
        "metrics = [accuracy, sbert_similarity]\n",
        "\n",
        "compute_metrics_ex = partial(compute_metrics, pred_transforms=transforms, metrics=metrics)"
      ]
    },
    {
      "cell_type": "markdown",
      "metadata": {},
      "source": [
        "### Fine Tuning"
      ]
    },
    {
      "cell_type": "code",
      "execution_count": null,
      "metadata": {},
      "outputs": [],
      "source": [
        "NUM_EPOCHS = 1"
      ]
    },
    {
      "cell_type": "code",
      "execution_count": null,
      "metadata": {},
      "outputs": [],
      "source": [
        "model_ft_ex = T5ForConditionalGeneration.from_pretrained(\"t5-base\")\n",
        "data_collator_ft_ex = DataCollatorForSeq2Seq(tokenizer, model=model_ft_ex)"
      ]
    },
    {
      "cell_type": "code",
      "execution_count": null,
      "metadata": {},
      "outputs": [],
      "source": [
        "training_args_ft_ex = Seq2SeqTrainingArguments(\n",
        "    save_strategy=\"no\",\n",
        "    output_dir=\"task3\",\n",
        "    evaluation_strategy=\"epoch\",\n",
        "    num_train_epochs=NUM_EPOCHS,\n",
        "    predict_with_generate=True,\n",
        "    per_device_train_batch_size=16,\n",
        "    per_device_eval_batch_size=16,\n",
        "    generation_max_length=128,\n",
        "    metric_for_best_model=\"accuracy\",\n",
        ")"
      ]
    },
    {
      "cell_type": "code",
      "execution_count": null,
      "metadata": {},
      "outputs": [],
      "source": [
        "trainer_ft_ex = Seq2SeqTrainer(\n",
        "    model=model_ft_ex,\n",
        "    args=training_args_ft_ex,\n",
        "    train_dataset=train_tok_ex,\n",
        "    eval_dataset=valid_tok_ex,\n",
        "    compute_metrics=compute_metrics_ex,\n",
        "    data_collator=data_collator_ft_ex,\n",
        "    tokenizer=tokenizer,\n",
        ")"
      ]
    },
    {
      "cell_type": "code",
      "execution_count": null,
      "metadata": {},
      "outputs": [],
      "source": [
        "trainer_ft_ex.train()"
      ]
    },
    {
      "cell_type": "code",
      "execution_count": null,
      "metadata": {},
      "outputs": [],
      "source": [
        "trainer_ft_ex.evaluate(test_tok_ex)"
      ]
    },
    {
      "cell_type": "markdown",
      "metadata": {},
      "source": [
        "## 2.4 Task 4: Fine Tuning with Shuffled Explanations"
      ]
    },
    {
      "cell_type": "markdown",
      "metadata": {},
      "source": [
        "### Preparing the dataset with *wrong* labelled explanations"
      ]
    },
    {
      "cell_type": "code",
      "execution_count": null,
      "metadata": {},
      "outputs": [],
      "source": [
        "dataset_shex = load_dataset(\"esnli\", download_mode=\"force_redownload\")"
      ]
    },
    {
      "cell_type": "code",
      "execution_count": null,
      "metadata": {},
      "outputs": [],
      "source": [
        "from src.preprocess import save_explanations, save_shuffled_explanations, retrieve_explanations"
      ]
    },
    {
      "cell_type": "code",
      "execution_count": null,
      "metadata": {},
      "outputs": [],
      "source": [
        "dirs = save_explanations(dataset_shex)"
      ]
    },
    {
      "cell_type": "code",
      "execution_count": null,
      "metadata": {},
      "outputs": [],
      "source": [
        "dirs_shuffled = save_shuffled_explanations(dirs)"
      ]
    },
    {
      "cell_type": "code",
      "execution_count": null,
      "metadata": {},
      "outputs": [],
      "source": [
        "shuffled_explanations = retrieve_explanations(dirs_shuffled)"
      ]
    },
    {
      "cell_type": "code",
      "execution_count": null,
      "metadata": {},
      "outputs": [],
      "source": [
        "from src.utils import tokenize_function_ex\n",
        "\n",
        "tokenize_mapping_train = partial(tokenize_function_ex, tokenizer=tokenizer, explanations = shuffled_explanations['train'], use_mnli_format = USE_MNLI_PROMPT)\n",
        "tokenize_mapping_val = partial(tokenize_function_ex, tokenizer=tokenizer, explanations = shuffled_explanations['validation'], use_mnli_format = USE_MNLI_PROMPT)\n",
        "tokenize_mapping_test = partial(tokenize_function_ex, tokenizer=tokenizer, explanations = shuffled_explanations['test'], use_mnli_format = USE_MNLI_PROMPT)\n",
        "\n",
        "tokenize_mappings = (tokenize_mapping_train, tokenize_mapping_val, tokenize_mapping_test)"
      ]
    },
    {
      "cell_type": "code",
      "execution_count": null,
      "metadata": {},
      "outputs": [],
      "source": [
        "train_tok_shex, valid_tok_shex, test_tok_shex = prepare_dataset(dataset, tokenize_mapping=tokenize_mappings, sizes=sizes)"
      ]
    },
    {
      "cell_type": "code",
      "execution_count": null,
      "metadata": {},
      "outputs": [],
      "source": [
        "train_tok_shex = train_tok_shex.remove_columns([\"explanation_1\", \"explanation_2\", \"explanation_3\"])\n",
        "valid_tok_shex = valid_tok_shex.remove_columns([\"explanation_1\", \"explanation_2\", \"explanation_3\"])\n",
        "test_tok_shex = test_tok_shex.remove_columns([\"explanation_1\", \"explanation_2\", \"explanation_3\"])"
      ]
    },
    {
      "cell_type": "markdown",
      "metadata": {},
      "source": [
        "### Fine Tuning"
      ]
    },
    {
      "cell_type": "code",
      "execution_count": null,
      "metadata": {},
      "outputs": [],
      "source": [
        "NUM_EPOCHS = 1"
      ]
    },
    {
      "cell_type": "code",
      "execution_count": null,
      "metadata": {},
      "outputs": [],
      "source": [
        "model_ft_shex = T5ForConditionalGeneration.from_pretrained(\"t5-base\")\n",
        "data_collator_ft_shex = DataCollatorForSeq2Seq(tokenizer, model=model_ft_ex)"
      ]
    },
    {
      "cell_type": "code",
      "execution_count": null,
      "metadata": {},
      "outputs": [],
      "source": [
        "training_args_ft_shex = Seq2SeqTrainingArguments(\n",
        "    save_strategy=\"no\",\n",
        "    output_dir=\"task4\",\n",
        "    evaluation_strategy=\"epoch\",\n",
        "    num_train_epochs=NUM_EPOCHS,\n",
        "    predict_with_generate=True,\n",
        "    per_device_train_batch_size=16,\n",
        "    per_device_eval_batch_size=16,\n",
        "    generation_max_length=128,\n",
        "    metric_for_best_model=\"accuracy\",\n",
        ")"
      ]
    },
    {
      "cell_type": "code",
      "execution_count": null,
      "metadata": {},
      "outputs": [],
      "source": [
        "trainer_ft_shex = Seq2SeqTrainer(\n",
        "    model=model_ft_shex,\n",
        "    args=training_args_ft_shex,\n",
        "    train_dataset=train_tok_shex,\n",
        "    eval_dataset=valid_tok_shex,\n",
        "    compute_metrics=compute_metrics_ex,\n",
        "    data_collator=data_collator_ft_shex,\n",
        "    tokenizer=tokenizer,\n",
        ")"
      ]
    },
    {
      "cell_type": "code",
      "execution_count": null,
      "metadata": {},
      "outputs": [],
      "source": [
        "trainer_ft_shex.train()"
      ]
    },
    {
      "cell_type": "code",
      "execution_count": null,
      "metadata": {},
      "outputs": [],
      "source": [
        "trainer_ft_shex.evaluate(test_tok_shex)"
      ]
    },
    {
      "cell_type": "markdown",
      "metadata": {},
      "source": [
        "## 2.5 Task 5: Profiling-UD"
      ]
    },
    {
      "cell_type": "markdown",
      "metadata": {},
      "source": [
        "### Read the results of the automatic annotation stage performed over explanations with Profilind-UD.\n",
        "\n",
        "1. **Token ID**: The token's position in the sentence.\n",
        "2. **Token**: The actual token text.\n",
        "3. **Lemma**: The lemma or base form of the token.\n",
        "4. Universal part-of-speech tag.\n",
        "5. Language-specific part-of-speech tag (optional).\n",
        "6. Miscellaneous (misc) field, which can contain additional annotations.\n",
        "7. Head: The ID of the token's syntactic head.\n",
        "8. Dependency relation: The type of syntactic relation between the token and its head.\n",
        "9. Secondary dependencies or additional annotations."
      ]
    },
    {
      "cell_type": "code",
      "execution_count": null,
      "metadata": {},
      "outputs": [],
      "source": [
        "import pandas as pd \n",
        "# Define the path to your CoNLL-U file\n",
        "conll_file_path = \"ex_files/explanations_train.conllu\"\n",
        "\n",
        "# Define column names for the CoNLL-U file\n",
        "column_names = [\n",
        "    \"ID\",\n",
        "    \"TOKEN\",\n",
        "    \"LEMMA\",\n",
        "    \"UPOS\",\n",
        "    \"XPOS\",\n",
        "    \"FEATS\",\n",
        "    \"HEAD\",\n",
        "    \"DEPREL\",\n",
        "    \"DEPS\",\n",
        "    \"MISC\"\n",
        "]\n",
        "\n",
        "# Read the CoNLL-U file into a DataFrame\n",
        "df = pd.read_csv(conll_file_path, delimiter='\\t', comment='#', header=None, names=column_names)\n",
        "\n",
        "# Reset the index to create a numeric index\n",
        "df.reset_index(drop=True, inplace=True)\n",
        "\n",
        "# Display the DataFrame\n",
        "df[:15]"
      ]
    },
    {
      "cell_type": "code",
      "execution_count": null,
      "metadata": {},
      "outputs": [],
      "source": [
        "df['SAMPLE'] = None\n",
        "\n",
        "sample = 0\n",
        "for index, row in df.iterrows():\n",
        "    if(row[\"ID\"]==1):\n",
        "        sample = sample+1\n",
        "    df.at[index, \"SAMPLE\"] = sample"
      ]
    },
    {
      "cell_type": "markdown",
      "metadata": {},
      "source": [
        "### Prepare the dataset with modified explanations"
      ]
    },
    {
      "cell_type": "markdown",
      "metadata": {},
      "source": [
        "### Prepare the dataset with modified explanations"
      ]
    },
    {
      "cell_type": "code",
      "execution_count": null,
      "metadata": {},
      "outputs": [],
      "source": [
        "# Define the input and output file paths\n",
        "output_file = \"ex_files/modified_explanations_1.txt\"\n",
        "\n",
        "# Write the shuffled lines to the output file\n",
        "with open(output_file, \"w\") as f:\n",
        "    for i in range(N_TRAIN):\n",
        "        df_i = df.loc[df[\"SAMPLE\"]==i]\n",
        "        modified_exp = ' '.join(df[\"LEMMA\"].values)\n",
        "        f.writelines(modified_exp)"
      ]
    },
    {
      "cell_type": "code",
      "execution_count": null,
      "metadata": {},
      "outputs": [],
      "source": [
        "with open(\"ex_files/modified_explanations_1.txt\", \"r\") as f:\n",
        "    explanations_m1 = f.readlines()"
      ]
    },
    {
      "cell_type": "code",
      "execution_count": null,
      "metadata": {},
      "outputs": [],
      "source": [
        "# Define the input and output file paths\n",
        "output_file = \"ex_files/modified_explanations_1.txt\"\n",
        "\n",
        "# Write the shuffled lines to the output file\n",
        "with open(output_file, \"w\") as f:\n",
        "    for i in range(N_TRAIN):\n",
        "        df_i = df.loc[df[\"SAMPLE\"]==i]\n",
        "        modified_exp = ' '.join(df[\"LEMMA\"].values)\n",
        "        f.writelines(modified_exp)"
      ]
    },
    {
      "cell_type": "code",
      "execution_count": null,
      "metadata": {},
      "outputs": [],
      "source": [
        "with open(\"ex_files/modified_explanations_1.txt\", \"r\") as f:\n",
        "    explanations_m1 = f.readlines()"
      ]
    }
  ],
  "metadata": {
    "accelerator": "TPU",
    "colab": {
      "collapsed_sections": [
        "UZvGBSfFEWLv",
        "FFt0woXsEWLx",
        "RxesGnaFEWLz",
        "DQvhd35vEWL1",
        "s4SNHcxuEWL3",
        "bQoQE4naEWL4",
        "BMD_Zq5zEWL4"
      ],
      "include_colab_link": true,
      "provenance": []
    },
    "kernelspec": {
      "display_name": "Python 3",
      "name": "python3"
    },
    "language_info": {
      "codemirror_mode": {
        "name": "ipython",
        "version": 3
      },
      "file_extension": ".py",
      "mimetype": "text/x-python",
      "name": "python",
      "nbconvert_exporter": "python",
      "pygments_lexer": "ipython3",
      "version": "3.10.8"
    }
  },
  "nbformat": 4,
  "nbformat_minor": 0
}
