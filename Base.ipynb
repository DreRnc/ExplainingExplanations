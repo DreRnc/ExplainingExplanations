{
  "cells": [
    {
      "cell_type": "markdown",
      "metadata": {
        "colab_type": "text",
        "id": "view-in-github"
      },
      "source": [
        "<a href=\"https://colab.research.google.com/github/DreRnc/ExplainingExplanations/blob/main/Explanations.ipynb\" target=\"_parent\"><img src=\"https://colab.research.google.com/assets/colab-badge.svg\" alt=\"Open In Colab\"/></a>"
      ]
    },
    {
      "cell_type": "markdown",
      "metadata": {
        "id": "4H972d7y9V7J"
      },
      "source": [
        "Dataset : **E-SNLI**. \\\n",
        "Model : **Small T5**."
      ]
    },
    {
      "cell_type": "code",
      "execution_count": 83,
      "metadata": {
        "id": "TBH5vSaqfXWE"
      },
      "outputs": [],
      "source": [
        "colab = False"
      ]
    },
    {
      "cell_type": "code",
      "execution_count": 84,
      "metadata": {
        "id": "58JHIUgbfXWG"
      },
      "outputs": [],
      "source": [
        "if colab:\n",
        "    !git clone https://github.com/DreRnc/ExplainingExplanations.git\n",
        "    %cd ExplainingExplanations\n",
        "    %pip install -r requirements.txt\n",
        "    !git checkout seq2seq"
      ]
    },
    {
      "cell_type": "markdown",
      "metadata": {
        "id": "yYNhbZhXEWLu"
      },
      "source": [
        "# 1.0 Preparation\n"
      ]
    },
    {
      "cell_type": "code",
      "execution_count": 85,
      "metadata": {},
      "outputs": [],
      "source": [
        "N_TRAIN = 50000\n",
        "N_VAL = 9842\n",
        "N_TEST = 9824"
      ]
    },
    {
      "cell_type": "markdown",
      "metadata": {
        "id": "UZvGBSfFEWLv"
      },
      "source": [
        "## 1.1 Loading Dataset"
      ]
    },
    {
      "cell_type": "code",
      "execution_count": 86,
      "metadata": {
        "id": "0kOOUYl19UHq"
      },
      "outputs": [
        {
          "name": "stderr",
          "output_type": "stream",
          "text": [
            "Downloading data: 100%|██████████| 39.3M/39.3M [00:01<00:00, 26.2MB/s]\n",
            "Downloading data: 100%|██████████| 1.62M/1.62M [00:00<00:00, 9.78MB/s]\n",
            "Downloading data: 100%|██████████| 1.61M/1.61M [00:00<00:00, 9.91MB/s]\n",
            "Generating train split: 100%|██████████| 549367/549367 [00:00<00:00, 3168700.15 examples/s]\n",
            "Generating validation split: 100%|██████████| 9842/9842 [00:00<00:00, 2090143.80 examples/s]\n",
            "Generating test split: 100%|██████████| 9824/9824 [00:00<00:00, 2474616.69 examples/s]\n"
          ]
        }
      ],
      "source": [
        "from datasets import load_dataset\n",
        "\n",
        "dataset = load_dataset(\"esnli\", download_mode=\"force_redownload\")"
      ]
    },
    {
      "cell_type": "code",
      "execution_count": 87,
      "metadata": {
        "id": "Zugxo8WgEWLw"
      },
      "outputs": [
        {
          "name": "stdout",
          "output_type": "stream",
          "text": [
            "Shape of training_set:  (549367, 6)\n",
            "Shae of validation_set:  (9842, 6)\n",
            "Shape of test_set:  (9824, 6)\n"
          ]
        }
      ],
      "source": [
        "training_set = dataset[\"train\"]\n",
        "validation_set = dataset[\"validation\"]\n",
        "test_set = dataset[\"test\"]\n",
        "\n",
        "print(\"Shape of training_set: \", training_set.shape)\n",
        "print(\"Shae of validation_set: \", validation_set.shape)\n",
        "print(\"Shape of test_set: \", test_set.shape)"
      ]
    },
    {
      "cell_type": "code",
      "execution_count": 88,
      "metadata": {
        "id": "k8kaX3QbEWLw"
      },
      "outputs": [
        {
          "data": {
            "text/plain": [
              "{'premise': 'A person on a horse jumps over a broken down airplane.',\n",
              " 'hypothesis': 'A person is training his horse for a competition.',\n",
              " 'label': 1,\n",
              " 'explanation_1': 'the person is not necessarily training his horse',\n",
              " 'explanation_2': '',\n",
              " 'explanation_3': ''}"
            ]
          },
          "execution_count": 88,
          "metadata": {},
          "output_type": "execute_result"
        }
      ],
      "source": [
        "training_set[0]"
      ]
    },
    {
      "cell_type": "code",
      "execution_count": 89,
      "metadata": {
        "id": "SLgS-BVbEWLx"
      },
      "outputs": [
        {
          "name": "stdout",
          "output_type": "stream",
          "text": [
            "Shape of train_small:  (100000, 6)\n",
            "Shape of valid_small:  (9842, 6)\n",
            "Shape of test_small:  (9824, 6)\n"
          ]
        }
      ],
      "source": [
        "train_small = training_set.select(range(N_TRAIN))\n",
        "valid_small = validation_set.select(range(N_VAL))\n",
        "test_small = test_set.select(range(N_TEST))\n",
        "\n",
        "print(\"Shape of train_small: \", train_small.shape)\n",
        "print(\"Shape of valid_small: \", valid_small.shape)\n",
        "print(\"Shape of test_small: \", test_small.shape)"
      ]
    },
    {
      "cell_type": "markdown",
      "metadata": {
        "id": "FFt0woXsEWLx"
      },
      "source": [
        "## 1.2 Loading T5 Model"
      ]
    },
    {
      "cell_type": "code",
      "execution_count": 90,
      "metadata": {
        "id": "jyczhxOR-jwU"
      },
      "outputs": [
        {
          "name": "stderr",
          "output_type": "stream",
          "text": [
            "/home/aroncoli/.cache/pypoetry/virtualenvs/explainingexplanations-aYcCKpct-py3.10/lib/python3.10/site-packages/transformers/models/t5/tokenization_t5.py:240: FutureWarning: This tokenizer was incorrectly instantiated with a model max length of 512 which will be corrected in Transformers v5.\n",
            "For now, this behavior is kept to avoid breaking backwards compatibility when padding/encoding with `truncation is True`.\n",
            "- Be aware that you SHOULD NOT rely on t5-base automatically truncating your input to 512 when padding/encoding.\n",
            "- If you want to encode/pad to sequences longer than 512 you can either instantiate this tokenizer with `model_max_length` or pass `max_length` when encoding/padding.\n",
            "- To avoid this warning, please instantiate this tokenizer with `model_max_length` set to your preferred value.\n",
            "  warnings.warn(\n",
            "Special tokens have been added in the vocabulary, make sure the associated word embeddings are fine-tuned or trained.\n"
          ]
        }
      ],
      "source": [
        "from transformers import T5Tokenizer, T5ForConditionalGeneration\n",
        "\n",
        "tokenizer = T5Tokenizer.from_pretrained(\"t5-base\", truncation=True, padding=True)\n",
        "model = T5ForConditionalGeneration.from_pretrained(\"t5-base\")"
      ]
    },
    {
      "cell_type": "markdown",
      "metadata": {
        "id": "g1nc40MHGQQx"
      },
      "source": [
        "Test **zero-shot** on a random task."
      ]
    },
    {
      "cell_type": "code",
      "execution_count": 91,
      "metadata": {
        "id": "CKG-so0--7ug"
      },
      "outputs": [
        {
          "name": "stdout",
          "output_type": "stream",
          "text": [
            "Bonjour Dre, je pense que la version anglaise est en bon état pour\n"
          ]
        }
      ],
      "source": [
        "input_ids = tokenizer(\n",
        "    \"translate English to French: Hello Dre, I think the English version is ok for us.\",\n",
        "    return_tensors=\"pt\",\n",
        ").input_ids\n",
        "outputs = model.generate(input_ids, max_length=20)\n",
        "\n",
        "print(tokenizer.decode(outputs[0], skip_special_tokens=True, max_length=20))"
      ]
    },
    {
      "cell_type": "markdown",
      "metadata": {
        "id": "RxesGnaFEWLz"
      },
      "source": [
        "## 1.3 Zero-shot example to Verify Everything is Working"
      ]
    },
    {
      "cell_type": "code",
      "execution_count": 92,
      "metadata": {
        "id": "oVqJLHXJEWLz"
      },
      "outputs": [],
      "source": [
        "from src.utils import generate_prompt_mnli"
      ]
    },
    {
      "cell_type": "code",
      "execution_count": 93,
      "metadata": {
        "id": "BZILJcgoDO9b"
      },
      "outputs": [
        {
          "data": {
            "text/plain": [
              "{'premise': 'A person on a horse jumps over a broken down airplane.',\n",
              " 'hypothesis': 'A person is training his horse for a competition.',\n",
              " 'label': 1,\n",
              " 'explanation_1': 'the person is not necessarily training his horse',\n",
              " 'explanation_2': '',\n",
              " 'explanation_3': ''}"
            ]
          },
          "execution_count": 93,
          "metadata": {},
          "output_type": "execute_result"
        }
      ],
      "source": [
        "example = training_set[0]\n",
        "example"
      ]
    },
    {
      "cell_type": "markdown",
      "metadata": {
        "id": "ezSzRF_PEWLz"
      },
      "source": [
        "Generating the prompt:\n",
        "\n",
        "<b><u> mnli hypothesis: </b></u> The St. Louis Cardinals have always won. <b><u> premise: </b></u> yeah well losing is i mean i’m i’m originally from Saint Louis and Saint Louis Cardinals when they were there were uh a mostly a losing team but\n",
        "\n",
        "Output:\n",
        "* 0: Entailment\n",
        "* 1: Neutral\n",
        "* 2: Contradiction"
      ]
    },
    {
      "cell_type": "code",
      "execution_count": 94,
      "metadata": {
        "id": "7D2MQG6qJYnI"
      },
      "outputs": [
        {
          "data": {
            "text/plain": [
              "'mnli hypothesis: A person is training his horse for a competition. premise: A person on a horse jumps over a broken down airplane.'"
            ]
          },
          "execution_count": 94,
          "metadata": {},
          "output_type": "execute_result"
        }
      ],
      "source": [
        "prompt = generate_prompt_mnli(example)\n",
        "prompt"
      ]
    },
    {
      "cell_type": "code",
      "execution_count": 95,
      "metadata": {
        "id": "C1roa6HcIi3e"
      },
      "outputs": [
        {
          "name": "stdout",
          "output_type": "stream",
          "text": [
            "tensor([[   0, 7163,    1]])\n",
            "Shape of outputs: torch.Size([1, 3])\n",
            "Shape of outputs[0]: torch.Size([3])\n",
            "neutral\n"
          ]
        },
        {
          "name": "stderr",
          "output_type": "stream",
          "text": [
            "/home/aroncoli/.cache/pypoetry/virtualenvs/explainingexplanations-aYcCKpct-py3.10/lib/python3.10/site-packages/transformers/generation/utils.py:1133: UserWarning: Using the model-agnostic default `max_length` (=20) to control the generation length. We recommend setting `max_new_tokens` to control the maximum length of the generation.\n",
            "  warnings.warn(\n"
          ]
        }
      ],
      "source": [
        "input_ids = tokenizer(prompt, return_tensors=\"pt\").input_ids\n",
        "\n",
        "outputs = model.generate(input_ids)\n",
        "print(outputs)\n",
        "print(\"Shape of outputs:\", outputs.shape)\n",
        "print(\"Shape of outputs[0]:\", outputs[0].shape)\n",
        "\n",
        "print(tokenizer.decode(outputs[0], skip_special_tokens=True))"
      ]
    },
    {
      "cell_type": "markdown",
      "metadata": {
        "id": "DQvhd35vEWL1"
      },
      "source": [
        "## 1.4  Tokenize the dataset"
      ]
    },
    {
      "cell_type": "code",
      "execution_count": 96,
      "metadata": {
        "id": "BfF032XGEWL1"
      },
      "outputs": [
        {
          "data": {
            "text/plain": [
              "DatasetInfo(description='\\nThe e-SNLI dataset extends the Stanford Natural Language Inference Dataset to\\ninclude human-annotated natural language explanations of the entailment\\nrelations.\\n', citation='\\n@incollection{NIPS2018_8163,\\ntitle = {e-SNLI: Natural Language Inference with Natural Language Explanations},\\nauthor = {Camburu, Oana-Maria and Rockt\"{a}schel, Tim and Lukasiewicz, Thomas and Blunsom, Phil},\\nbooktitle = {Advances in Neural Information Processing Systems 31},\\neditor = {S. Bengio and H. Wallach and H. Larochelle and K. Grauman and N. Cesa-Bianchi and R. Garnett},\\npages = {9539--9549},\\nyear = {2018},\\npublisher = {Curran Associates, Inc.},\\nurl = {http://papers.nips.cc/paper/8163-e-snli-natural-language-inference-with-natural-language-explanations.pdf}\\n}\\n', homepage='https://github.com/OanaMariaCamburu/e-SNLI', license='', features={'premise': Value(dtype='string', id=None), 'hypothesis': Value(dtype='string', id=None), 'label': ClassLabel(names=['entailment', 'neutral', 'contradiction'], id=None), 'explanation_1': Value(dtype='string', id=None), 'explanation_2': Value(dtype='string', id=None), 'explanation_3': Value(dtype='string', id=None)}, post_processed=None, supervised_keys=None, task_templates=None, builder_name='parquet', dataset_name='esnli', config_name='plain_text', version=0.0.2, splits={'train': SplitInfo(name='train', num_bytes=107611996, num_examples=549367, shard_lengths=None, dataset_name='esnli'), 'validation': SplitInfo(name='validation', num_bytes=3416319, num_examples=9842, shard_lengths=None, dataset_name='esnli'), 'test': SplitInfo(name='test', num_bytes=3379781, num_examples=9824, shard_lengths=None, dataset_name='esnli')}, download_checksums={'hf://datasets/esnli@f01d1430c0ad65a3785d06079a0e01e015e769b8/plain_text/train/0000.parquet': {'num_bytes': 39334649, 'checksum': None}, 'hf://datasets/esnli@f01d1430c0ad65a3785d06079a0e01e015e769b8/plain_text/validation/0000.parquet': {'num_bytes': 1623679, 'checksum': None}, 'hf://datasets/esnli@f01d1430c0ad65a3785d06079a0e01e015e769b8/plain_text/test/0000.parquet': {'num_bytes': 1607507, 'checksum': None}}, download_size=42565835, post_processing_size=None, dataset_size=114408096, size_in_bytes=156973931)"
            ]
          },
          "execution_count": 96,
          "metadata": {},
          "output_type": "execute_result"
        }
      ],
      "source": [
        "train_small.info"
      ]
    },
    {
      "cell_type": "code",
      "execution_count": 97,
      "metadata": {
        "id": "K6EukG0TEWL1"
      },
      "outputs": [
        {
          "data": {
            "text/plain": [
              "{'premise': Value(dtype='string', id=None),\n",
              " 'hypothesis': Value(dtype='string', id=None),\n",
              " 'label': ClassLabel(names=['entailment', 'neutral', 'contradiction'], id=None),\n",
              " 'explanation_1': Value(dtype='string', id=None),\n",
              " 'explanation_2': Value(dtype='string', id=None),\n",
              " 'explanation_3': Value(dtype='string', id=None)}"
            ]
          },
          "execution_count": 97,
          "metadata": {},
          "output_type": "execute_result"
        }
      ],
      "source": [
        "train_small.features"
      ]
    },
    {
      "cell_type": "code",
      "execution_count": 98,
      "metadata": {
        "id": "HbuROCKBEWL2"
      },
      "outputs": [],
      "source": [
        "from functools import partial\n",
        "from src.utils import tokenize_function"
      ]
    },
    {
      "cell_type": "code",
      "execution_count": 99,
      "metadata": {
        "id": "IlQmLxMtEWL2"
      },
      "outputs": [],
      "source": [
        "tokenize_mapping = partial(tokenize_function, tokenizer=tokenizer)"
      ]
    },
    {
      "cell_type": "code",
      "execution_count": 100,
      "metadata": {
        "id": "yRqHwqpOEWL3"
      },
      "outputs": [
        {
          "name": "stderr",
          "output_type": "stream",
          "text": [
            "Map:   0%|          | 0/100000 [00:00<?, ? examples/s]"
          ]
        },
        {
          "name": "stderr",
          "output_type": "stream",
          "text": [
            "Map: 100%|██████████| 100000/100000 [00:06<00:00, 14683.25 examples/s]\n",
            "Map: 100%|██████████| 9842/9842 [00:00<00:00, 15252.41 examples/s]\n",
            "Map: 100%|██████████| 9824/9824 [00:00<00:00, 14968.79 examples/s]"
          ]
        },
        {
          "name": "stdout",
          "output_type": "stream",
          "text": [
            "Shape of train_small_tokenized:  (100000, 9)\n",
            "Shape of valid_small_tokenized:  (9842, 9)\n",
            "Shape of test_small_tokenized:  (9824, 9)\n"
          ]
        },
        {
          "name": "stderr",
          "output_type": "stream",
          "text": [
            "\n"
          ]
        }
      ],
      "source": [
        "train_small_tokenized = train_small.map(tokenize_mapping, batched=True).with_format(\n",
        "    \"torch\"\n",
        ")\n",
        "valid_small_tokenized = valid_small.map(tokenize_mapping, batched=True).with_format(\n",
        "    \"torch\"\n",
        ")\n",
        "test_small_tokenized = test_small.map(tokenize_mapping, batched=True).with_format(\n",
        "    \"torch\"\n",
        ")\n",
        "\n",
        "print(\"Shape of train_small_tokenized: \", train_small_tokenized.shape)\n",
        "print(\"Shape of valid_small_tokenized: \", valid_small_tokenized.shape)\n",
        "print(\"Shape of test_small_tokenized: \", test_small_tokenized.shape)"
      ]
    },
    {
      "cell_type": "code",
      "execution_count": 101,
      "metadata": {},
      "outputs": [],
      "source": [
        "train_small_tokenized = train_small_tokenized.remove_columns([\"label\"])\n",
        "valid_small_tokenized = valid_small_tokenized.remove_columns([\"label\"])\n",
        "test_small_tokenized = test_small_tokenized.remove_columns([\"label\"])"
      ]
    },
    {
      "cell_type": "code",
      "execution_count": 102,
      "metadata": {
        "id": "YH_OYIlBfXWR"
      },
      "outputs": [
        {
          "data": {
            "text/plain": [
              "{'premise': Value(dtype='string', id=None),\n",
              " 'hypothesis': Value(dtype='string', id=None),\n",
              " 'explanation_1': Value(dtype='string', id=None),\n",
              " 'explanation_2': Value(dtype='string', id=None),\n",
              " 'explanation_3': Value(dtype='string', id=None),\n",
              " 'input_ids': Sequence(feature=Value(dtype='int32', id=None), length=-1, id=None),\n",
              " 'attention_mask': Sequence(feature=Value(dtype='int8', id=None), length=-1, id=None),\n",
              " 'labels': Sequence(feature=Value(dtype='int64', id=None), length=-1, id=None)}"
            ]
          },
          "execution_count": 102,
          "metadata": {},
          "output_type": "execute_result"
        }
      ],
      "source": [
        "train_small_tokenized.features"
      ]
    },
    {
      "cell_type": "markdown",
      "metadata": {
        "id": "s4SNHcxuEWL3"
      },
      "source": [
        "# 2.0 Tasks"
      ]
    },
    {
      "cell_type": "markdown",
      "metadata": {},
      "source": [
        "### Imports and definitions"
      ]
    },
    {
      "cell_type": "code",
      "execution_count": 103,
      "metadata": {
        "id": "2DSm47RYGNvZ"
      },
      "outputs": [],
      "source": [
        "import torch\n",
        "from functools import partial\n",
        "import evaluate\n",
        "from src.utils import compute_metrics, eval_pred_transform_accuracy\n",
        "from transformers import (\n",
        "    Seq2SeqTrainingArguments,\n",
        "    Seq2SeqTrainer,\n",
        "    T5ForConditionalGeneration,\n",
        "    DataCollatorForSeq2Seq,\n",
        "    EarlyStoppingCallback\n",
        ")"
      ]
    },
    {
      "cell_type": "code",
      "execution_count": 104,
      "metadata": {
        "id": "iOK0x-lEfXWR"
      },
      "outputs": [
        {
          "data": {
            "text/plain": [
              "device(type='cuda')"
            ]
          },
          "execution_count": 104,
          "metadata": {},
          "output_type": "execute_result"
        }
      ],
      "source": [
        "if torch.cuda.is_available():\n",
        "    device = torch.device(\"cuda\")\n",
        "else:\n",
        "    device = torch.device(\"cpu\")\n",
        "device"
      ]
    },
    {
      "cell_type": "code",
      "execution_count": 105,
      "metadata": {},
      "outputs": [],
      "source": [
        "transform_accuracy = partial(eval_pred_transform_accuracy, tokenizer=tokenizer)\n",
        "compute_accuracy = partial(\n",
        "    compute_metrics, pred_transform=transform_accuracy, metric=evaluate.load(\"accuracy\")\n",
        ")"
      ]
    },
    {
      "cell_type": "markdown",
      "metadata": {},
      "source": [
        "## 2.1 Task 1: Zero-shot evaluation"
      ]
    },
    {
      "cell_type": "code",
      "execution_count": 106,
      "metadata": {},
      "outputs": [],
      "source": [
        "model = T5ForConditionalGeneration.from_pretrained(\"t5-base\")\n",
        "data_collator = DataCollatorForSeq2Seq(tokenizer, model=model)"
      ]
    },
    {
      "cell_type": "code",
      "execution_count": 107,
      "metadata": {},
      "outputs": [],
      "source": [
        "training_args = Seq2SeqTrainingArguments(\n",
        "    output_dir=\"task1\",\n",
        "    predict_with_generate=True,\n",
        "    per_device_eval_batch_size=16,\n",
        "    generation_max_length=32,\n",
        "    metric_for_best_model=\"accuracy\",\n",
        ")"
      ]
    },
    {
      "cell_type": "code",
      "execution_count": 108,
      "metadata": {},
      "outputs": [],
      "source": [
        "trainer = Seq2SeqTrainer(\n",
        "    model=model,\n",
        "    args=training_args,\n",
        "    train_dataset=train_small_tokenized,\n",
        "    eval_dataset=valid_small_tokenized,\n",
        "    compute_metrics=compute_accuracy,\n",
        "    data_collator=data_collator,\n",
        "    tokenizer=tokenizer,\n",
        ")"
      ]
    },
    {
      "cell_type": "code",
      "execution_count": 109,
      "metadata": {},
      "outputs": [
        {
          "name": "stderr",
          "output_type": "stream",
          "text": [
            "/home/aroncoli/.cache/pypoetry/virtualenvs/explainingexplanations-aYcCKpct-py3.10/lib/python3.10/site-packages/torch/nn/parallel/_functions.py:68: UserWarning: Was asked to gather along dimension 0, but all input tensors were scalars; will instead unsqueeze and return a vector.\n",
            "  warnings.warn('Was asked to gather along dimension 0, but all '\n"
          ]
        },
        {
          "data": {
            "text/html": [
              "\n",
              "    <div>\n",
              "      \n",
              "      <progress value='307' max='307' style='width:300px; height:20px; vertical-align: middle;'></progress>\n",
              "      [307/307 01:47]\n",
              "    </div>\n",
              "    "
            ],
            "text/plain": [
              "<IPython.core.display.HTML object>"
            ]
          },
          "metadata": {},
          "output_type": "display_data"
        },
        {
          "data": {
            "text/plain": [
              "{'eval_loss': 0.18957236409187317,\n",
              " 'eval_accuracy': 0.7975366449511401,\n",
              " 'eval_runtime': 116.6374,\n",
              " 'eval_samples_per_second': 84.227,\n",
              " 'eval_steps_per_second': 2.632}"
            ]
          },
          "execution_count": 109,
          "metadata": {},
          "output_type": "execute_result"
        }
      ],
      "source": [
        "trainer.evaluate(test_small_tokenized)"
      ]
    },
    {
      "cell_type": "markdown",
      "metadata": {
        "id": "bQoQE4naEWL4"
      },
      "source": [
        "## 2.2 Task 2: Fine tuning without explanations"
      ]
    },
    {
      "cell_type": "code",
      "execution_count": 110,
      "metadata": {},
      "outputs": [],
      "source": [
        "NUM_EPOCHS = 5"
      ]
    },
    {
      "cell_type": "code",
      "execution_count": 111,
      "metadata": {},
      "outputs": [],
      "source": [
        "model_ft = T5ForConditionalGeneration.from_pretrained(\"t5-base\")\n",
        "data_collator_ft = DataCollatorForSeq2Seq(tokenizer, model=model_ft)"
      ]
    },
    {
      "cell_type": "code",
      "execution_count": 112,
      "metadata": {
        "id": "OHxW0vUdGLSa"
      },
      "outputs": [],
      "source": [
        "training_args_ft = Seq2SeqTrainingArguments(\n",
        "    save_strategy=\"no\",\n",
        "    output_dir=\"task2\",\n",
        "    evaluation_strategy=\"epoch\",\n",
        "    num_train_epochs=NUM_EPOCHS,\n",
        "    predict_with_generate=True,\n",
        "    per_device_train_batch_size=16,\n",
        "    per_device_eval_batch_size=16,\n",
        "    generation_max_length=32,\n",
        "    metric_for_best_model=\"accuracy\",\n",
        ")"
      ]
    },
    {
      "cell_type": "code",
      "execution_count": 113,
      "metadata": {
        "id": "mUa0tn4jGIgS"
      },
      "outputs": [],
      "source": [
        "trainer_ft = Seq2SeqTrainer(\n",
        "    model=model_ft,\n",
        "    args=training_args_ft,\n",
        "    train_dataset=train_small_tokenized,\n",
        "    eval_dataset=valid_small_tokenized,\n",
        "    compute_metrics=compute_accuracy,\n",
        "    data_collator=data_collator_ft,\n",
        "    tokenizer=tokenizer,\n",
        ")"
      ]
    },
    {
      "cell_type": "code",
      "execution_count": null,
      "metadata": {
        "colab": {
          "base_uri": "https://localhost:8080/",
          "height": 95
        },
        "id": "2HY5nl2RHx5J",
        "outputId": "4210f615-2304-45bc-8231-813def9c629b"
      },
      "outputs": [],
      "source": [
        "trainer_ft.train()"
      ]
    },
    {
      "cell_type": "code",
      "execution_count": 115,
      "metadata": {},
      "outputs": [
        {
          "data": {
            "text/plain": [
              "{'eval_loss': 0.10667987167835236, 'eval_accuracy': 0.8946457654723127}"
            ]
          },
          "execution_count": 115,
          "metadata": {},
          "output_type": "execute_result"
        }
      ],
      "source": [
        "trainer_ft.evaluate(test_small_tokenized)"
      ]
    },
    {
      "cell_type": "markdown",
      "metadata": {
        "id": "BMD_Zq5zEWL4"
      },
      "source": [
        "## 2.3 Task 3: Fine Tuning with Explanations"
      ]
    },
    {
      "cell_type": "markdown",
      "metadata": {},
      "source": [
        "We need to give as labels the label and the explanation tokenized."
      ]
    },
    {
      "cell_type": "markdown",
      "metadata": {},
      "source": [
        "### Preparing the dataset with labelled explanations"
      ]
    },
    {
      "cell_type": "code",
      "execution_count": 116,
      "metadata": {
        "id": "fnW0W89cEWL4"
      },
      "outputs": [
        {
          "name": "stderr",
          "output_type": "stream",
          "text": [
            "Downloading data: 100%|██████████| 39.3M/39.3M [00:02<00:00, 17.6MB/s]\n",
            "Downloading data: 100%|██████████| 1.62M/1.62M [00:00<00:00, 9.59MB/s]\n",
            "Downloading data: 100%|██████████| 1.61M/1.61M [00:00<00:00, 9.56MB/s]\n",
            "Generating train split: 100%|██████████| 549367/549367 [00:00<00:00, 3037873.96 examples/s]\n",
            "Generating validation split: 100%|██████████| 9842/9842 [00:00<00:00, 1826321.28 examples/s]\n",
            "Generating test split: 100%|██████████| 9824/9824 [00:00<00:00, 1872266.56 examples/s]\n"
          ]
        }
      ],
      "source": [
        "dataset_explanations = load_dataset(\"esnli\", download_mode=\"force_redownload\")"
      ]
    },
    {
      "cell_type": "code",
      "execution_count": 117,
      "metadata": {},
      "outputs": [
        {
          "name": "stdout",
          "output_type": "stream",
          "text": [
            "Shape of training_set:  (549367, 6)\n",
            "Shae of validation_set:  (9842, 6)\n",
            "Shape of test_set:  (9824, 6)\n"
          ]
        }
      ],
      "source": [
        "training_set_ex = dataset_explanations[\"train\"]\n",
        "validation_set_ex = dataset_explanations[\"validation\"]\n",
        "test_set_ex = dataset_explanations[\"test\"]\n",
        "\n",
        "print(\"Shape of training_set: \", training_set_ex.shape)\n",
        "print(\"Shae of validation_set: \", validation_set_ex.shape)\n",
        "print(\"Shape of test_set: \", test_set_ex.shape)"
      ]
    },
    {
      "cell_type": "code",
      "execution_count": 118,
      "metadata": {},
      "outputs": [
        {
          "name": "stdout",
          "output_type": "stream",
          "text": [
            "Shape of train_small:  (100000, 6)\n",
            "Shape of valid_small:  (9842, 6)\n",
            "Shape of test_small:  (9824, 6)\n"
          ]
        }
      ],
      "source": [
        "train_small_ex = training_set_ex.select(range(N_TRAIN))\n",
        "valid_small_ex = validation_set_ex.select(range(N_VAL))\n",
        "test_small_ex = test_set_ex.select(range(N_TEST))\n",
        "\n",
        "print(\"Shape of train_small: \", train_small_ex.shape)\n",
        "print(\"Shape of valid_small: \", valid_small_ex.shape)\n",
        "print(\"Shape of test_small: \", test_small_ex.shape)"
      ]
    },
    {
      "cell_type": "markdown",
      "metadata": {},
      "source": [
        "#### Tokenizing the dataset"
      ]
    },
    {
      "cell_type": "code",
      "execution_count": 119,
      "metadata": {},
      "outputs": [],
      "source": [
        "from functools import partial\n",
        "from src.utils import tokenize_function_ex"
      ]
    },
    {
      "cell_type": "code",
      "execution_count": 120,
      "metadata": {},
      "outputs": [],
      "source": [
        "tokenize_mapping_ex = partial(tokenize_function_ex, tokenizer=tokenizer)"
      ]
    },
    {
      "cell_type": "code",
      "execution_count": 121,
      "metadata": {},
      "outputs": [
        {
          "name": "stderr",
          "output_type": "stream",
          "text": [
            "Map:   0%|          | 0/100000 [00:00<?, ? examples/s]"
          ]
        },
        {
          "name": "stderr",
          "output_type": "stream",
          "text": [
            "Map: 100%|██████████| 100000/100000 [00:09<00:00, 10828.07 examples/s]\n",
            "Map: 100%|██████████| 9842/9842 [00:00<00:00, 10851.66 examples/s]\n",
            "Map: 100%|██████████| 9824/9824 [00:01<00:00, 8449.82 examples/s]"
          ]
        },
        {
          "name": "stdout",
          "output_type": "stream",
          "text": [
            "Shape of train_small_tokenized:  (100000, 9)\n",
            "Shape of valid_small_tokenized:  (9842, 9)\n",
            "Shape of test_small_tokenized:  (9824, 9)\n"
          ]
        },
        {
          "name": "stderr",
          "output_type": "stream",
          "text": [
            "\n"
          ]
        }
      ],
      "source": [
        "train_small_tokenized_ex = train_small_ex.map(\n",
        "    tokenize_mapping_ex, batched=True\n",
        ").with_format(\"torch\")\n",
        "valid_small_tokenized_ex = valid_small_ex.map(\n",
        "    tokenize_mapping_ex, batched=True\n",
        ").with_format(\"torch\")\n",
        "test_small_tokenized_ex = test_small_ex.map(\n",
        "    tokenize_mapping_ex, batched=True\n",
        ").with_format(\"torch\")\n",
        "\n",
        "print(\"Shape of train_small_tokenized: \", train_small_tokenized_ex.shape)\n",
        "print(\"Shape of valid_small_tokenized: \", valid_small_tokenized_ex.shape)\n",
        "print(\"Shape of test_small_tokenized: \", test_small_tokenized_ex.shape)"
      ]
    },
    {
      "cell_type": "code",
      "execution_count": 122,
      "metadata": {},
      "outputs": [],
      "source": [
        "train_small_tokenized_ex = train_small_tokenized_ex.remove_columns([\"label\"])\n",
        "valid_small_tokenized_ex = valid_small_tokenized_ex.remove_columns([\"label\"])\n",
        "test_small_tokenized_ex = test_small_tokenized_ex.remove_columns([\"label\"])"
      ]
    },
    {
      "cell_type": "code",
      "execution_count": 123,
      "metadata": {},
      "outputs": [
        {
          "data": {
            "text/plain": [
              "{'premise': Value(dtype='string', id=None),\n",
              " 'hypothesis': Value(dtype='string', id=None),\n",
              " 'explanation_1': Value(dtype='string', id=None),\n",
              " 'explanation_2': Value(dtype='string', id=None),\n",
              " 'explanation_3': Value(dtype='string', id=None),\n",
              " 'input_ids': Sequence(feature=Value(dtype='int32', id=None), length=-1, id=None),\n",
              " 'attention_mask': Sequence(feature=Value(dtype='int8', id=None), length=-1, id=None),\n",
              " 'labels': Sequence(feature=Value(dtype='int64', id=None), length=-1, id=None)}"
            ]
          },
          "execution_count": 123,
          "metadata": {},
          "output_type": "execute_result"
        }
      ],
      "source": [
        "train_small_tokenized_ex.features"
      ]
    },
    {
      "cell_type": "markdown",
      "metadata": {},
      "source": [
        "### Fine Tuning"
      ]
    },
    {
      "cell_type": "code",
      "execution_count": 124,
      "metadata": {},
      "outputs": [],
      "source": [
        "NUM_EPOCHS = 5"
      ]
    },
    {
      "cell_type": "code",
      "execution_count": 125,
      "metadata": {},
      "outputs": [],
      "source": [
        "transform_accuracy_ex = partial(\n",
        "    eval_pred_transform_accuracy,\n",
        "    tokenizer=tokenizer,\n",
        "    remove_explanations_from_label=True,\n",
        ")\n",
        "compute_accuracy_removing_explanations = partial(\n",
        "    compute_metrics,\n",
        "    pred_transform=transform_accuracy_ex,\n",
        "    metric=evaluate.load(\"accuracy\"),\n",
        ")"
      ]
    },
    {
      "cell_type": "code",
      "execution_count": 126,
      "metadata": {},
      "outputs": [],
      "source": [
        "model_ft_ex = T5ForConditionalGeneration.from_pretrained(\"t5-base\")\n",
        "data_collator_ft_ex = DataCollatorForSeq2Seq(tokenizer, model=model_ft_ex)"
      ]
    },
    {
      "cell_type": "code",
      "execution_count": 127,
      "metadata": {},
      "outputs": [],
      "source": [
        "training_args_ft_ex = Seq2SeqTrainingArguments(\n",
        "    save_strategy=\"no\",\n",
        "    output_dir=\"task3\",\n",
        "    evaluation_strategy=\"epoch\",\n",
        "    num_train_epochs=NUM_EPOCHS,\n",
        "    predict_with_generate=True,\n",
        "    per_device_train_batch_size=16,\n",
        "    per_device_eval_batch_size=16,\n",
        "    generation_max_length=128,\n",
        "    metric_for_best_model=\"accuracy\",\n",
        ")"
      ]
    },
    {
      "cell_type": "code",
      "execution_count": 128,
      "metadata": {},
      "outputs": [],
      "source": [
        "trainer_ft_ex = Seq2SeqTrainer(\n",
        "    model=model_ft_ex,\n",
        "    args=training_args_ft_ex,\n",
        "    train_dataset=train_small_tokenized_ex,\n",
        "    eval_dataset=valid_small_tokenized_ex,\n",
        "    compute_metrics=compute_accuracy_removing_explanations,\n",
        "    data_collator=data_collator_ft_ex,\n",
        "    tokenizer=tokenizer,\n",
        ")"
      ]
    },
    {
      "cell_type": "code",
      "execution_count": 129,
      "metadata": {},
      "outputs": [
        {
          "name": "stderr",
          "output_type": "stream",
          "text": [
            "/home/aroncoli/.cache/pypoetry/virtualenvs/explainingexplanations-aYcCKpct-py3.10/lib/python3.10/site-packages/torch/nn/parallel/_functions.py:68: UserWarning: Was asked to gather along dimension 0, but all input tensors were scalars; will instead unsqueeze and return a vector.\n",
            "  warnings.warn('Was asked to gather along dimension 0, but all '\n"
          ]
        },
        {
          "data": {
            "text/html": [
              "\n",
              "    <div>\n",
              "      \n",
              "      <progress value='15625' max='15625' style='width:300px; height:20px; vertical-align: middle;'></progress>\n",
              "      [15625/15625 2:51:37, Epoch 5/5]\n",
              "    </div>\n",
              "    <table border=\"1\" class=\"dataframe\">\n",
              "  <thead>\n",
              " <tr style=\"text-align: left;\">\n",
              "      <th>Epoch</th>\n",
              "      <th>Training Loss</th>\n",
              "      <th>Validation Loss</th>\n",
              "      <th>Accuracy</th>\n",
              "    </tr>\n",
              "  </thead>\n",
              "  <tbody>\n",
              "    <tr>\n",
              "      <td>1</td>\n",
              "      <td>1.050400</td>\n",
              "      <td>0.984608</td>\n",
              "      <td>0.864662</td>\n",
              "    </tr>\n",
              "    <tr>\n",
              "      <td>2</td>\n",
              "      <td>0.983800</td>\n",
              "      <td>0.957768</td>\n",
              "      <td>0.872790</td>\n",
              "    </tr>\n",
              "    <tr>\n",
              "      <td>3</td>\n",
              "      <td>0.941000</td>\n",
              "      <td>0.943783</td>\n",
              "      <td>0.884780</td>\n",
              "    </tr>\n",
              "    <tr>\n",
              "      <td>4</td>\n",
              "      <td>0.918600</td>\n",
              "      <td>0.937643</td>\n",
              "      <td>0.882951</td>\n",
              "    </tr>\n",
              "    <tr>\n",
              "      <td>5</td>\n",
              "      <td>0.901200</td>\n",
              "      <td>0.936522</td>\n",
              "      <td>0.884373</td>\n",
              "    </tr>\n",
              "  </tbody>\n",
              "</table><p>"
            ],
            "text/plain": [
              "<IPython.core.display.HTML object>"
            ]
          },
          "metadata": {},
          "output_type": "display_data"
        },
        {
          "name": "stderr",
          "output_type": "stream",
          "text": [
            "/home/aroncoli/.cache/pypoetry/virtualenvs/explainingexplanations-aYcCKpct-py3.10/lib/python3.10/site-packages/torch/nn/parallel/_functions.py:68: UserWarning: Was asked to gather along dimension 0, but all input tensors were scalars; will instead unsqueeze and return a vector.\n",
            "  warnings.warn('Was asked to gather along dimension 0, but all '\n",
            "/home/aroncoli/.cache/pypoetry/virtualenvs/explainingexplanations-aYcCKpct-py3.10/lib/python3.10/site-packages/torch/nn/parallel/_functions.py:68: UserWarning: Was asked to gather along dimension 0, but all input tensors were scalars; will instead unsqueeze and return a vector.\n",
            "  warnings.warn('Was asked to gather along dimension 0, but all '\n",
            "/home/aroncoli/.cache/pypoetry/virtualenvs/explainingexplanations-aYcCKpct-py3.10/lib/python3.10/site-packages/torch/nn/parallel/_functions.py:68: UserWarning: Was asked to gather along dimension 0, but all input tensors were scalars; will instead unsqueeze and return a vector.\n",
            "  warnings.warn('Was asked to gather along dimension 0, but all '\n",
            "/home/aroncoli/.cache/pypoetry/virtualenvs/explainingexplanations-aYcCKpct-py3.10/lib/python3.10/site-packages/torch/nn/parallel/_functions.py:68: UserWarning: Was asked to gather along dimension 0, but all input tensors were scalars; will instead unsqueeze and return a vector.\n",
            "  warnings.warn('Was asked to gather along dimension 0, but all '\n"
          ]
        },
        {
          "data": {
            "text/plain": [
              "TrainOutput(global_step=15625, training_loss=0.9820223793945313, metrics={'train_runtime': 10297.7334, 'train_samples_per_second': 48.554, 'train_steps_per_second': 1.517, 'total_flos': 3.712013195526144e+16, 'train_loss': 0.9820223793945313, 'epoch': 5.0})"
            ]
          },
          "execution_count": 129,
          "metadata": {},
          "output_type": "execute_result"
        }
      ],
      "source": [
        "trainer_ft_ex.train()"
      ]
    },
    {
      "cell_type": "code",
      "execution_count": 130,
      "metadata": {},
      "outputs": [
        {
          "name": "stderr",
          "output_type": "stream",
          "text": [
            "/home/aroncoli/.cache/pypoetry/virtualenvs/explainingexplanations-aYcCKpct-py3.10/lib/python3.10/site-packages/torch/nn/parallel/_functions.py:68: UserWarning: Was asked to gather along dimension 0, but all input tensors were scalars; will instead unsqueeze and return a vector.\n",
            "  warnings.warn('Was asked to gather along dimension 0, but all '\n"
          ]
        },
        {
          "data": {
            "text/html": [
              "\n",
              "    <div>\n",
              "      \n",
              "      <progress value='307' max='307' style='width:300px; height:20px; vertical-align: middle;'></progress>\n",
              "      [307/307 03:12]\n",
              "    </div>\n",
              "    "
            ],
            "text/plain": [
              "<IPython.core.display.HTML object>"
            ]
          },
          "metadata": {},
          "output_type": "display_data"
        },
        {
          "data": {
            "text/plain": [
              "{'eval_loss': 0.9371514916419983,\n",
              " 'eval_accuracy': 0.8825325732899023,\n",
              " 'eval_runtime': 251.9116,\n",
              " 'eval_samples_per_second': 38.998,\n",
              " 'eval_steps_per_second': 1.219,\n",
              " 'epoch': 5.0}"
            ]
          },
          "execution_count": 130,
          "metadata": {},
          "output_type": "execute_result"
        }
      ],
      "source": [
        "trainer_ft_ex.evaluate(test_small_tokenized_ex)"
      ]
    },
    {
      "cell_type": "markdown",
      "metadata": {},
      "source": [
        "## 2.4 Task 4: Fine Tuning with Shuffled Explanations"
      ]
    },
    {
      "cell_type": "markdown",
      "metadata": {},
      "source": [
        "### Preparing the dataset with *wrong* labelled explanations"
      ]
    },
    {
      "cell_type": "code",
      "execution_count": 131,
      "metadata": {},
      "outputs": [],
      "source": [
        "texts = []\n",
        "for example in train_small:  \n",
        "    texts.append(example[\"explanation_1\"])\n",
        "\n",
        "# Save the texts to a text file\n",
        "with open(\"ex_files/explanations_train.txt\", \"w\", encoding=\"utf-8\") as f:\n",
        "    for text in texts:\n",
        "        f.write(text + \"\\n\")"
      ]
    },
    {
      "cell_type": "code",
      "execution_count": 133,
      "metadata": {},
      "outputs": [],
      "source": [
        "texts = []\n",
        "for example in valid_small: \n",
        "    texts.append(example[\"explanation_1\"])\n",
        "\n",
        "# Save the texts to a text file\n",
        "with open(\"ex_files/explanations_val.txt\", \"w\", encoding=\"utf-8\") as f:\n",
        "    for text in texts:\n",
        "        f.write(text + \"\\n\")"
      ]
    },
    {
      "cell_type": "code",
      "execution_count": 135,
      "metadata": {},
      "outputs": [],
      "source": [
        "texts = []\n",
        "for example in test_small:  \n",
        "    texts.append(example[\"explanation_1\"])\n",
        "\n",
        "# Save the texts to a text file\n",
        "with open(\"ex_files/explanations_test.txt\", \"w\", encoding=\"utf-8\") as f:\n",
        "    for text in texts:\n",
        "        f.write(text + \"\\n\")"
      ]
    },
    {
      "cell_type": "code",
      "execution_count": 136,
      "metadata": {},
      "outputs": [],
      "source": [
        "import random\n",
        "input_file = \"ex_files/explanations_train.txt\"\n",
        "output_file = \"ex_files/shuffled_explanations_train.txt\"\n",
        "\n",
        "with open(input_file, \"r\") as f:\n",
        "    lines = f.readlines()\n",
        "\n",
        "random.shuffle(lines)\n",
        "\n",
        "with open(output_file, \"w\") as f:\n",
        "    f.writelines(lines)"
      ]
    },
    {
      "cell_type": "code",
      "execution_count": 137,
      "metadata": {},
      "outputs": [],
      "source": [
        "input_file = \"ex_files/explanations_val.txt\"\n",
        "output_file = \"ex_files/shuffled_explanations_val.txt\"\n",
        "\n",
        "with open(input_file, \"r\") as f:\n",
        "    lines = f.readlines()\n",
        "\n",
        "random.shuffle(lines)\n",
        "\n",
        "with open(output_file, \"w\") as f:\n",
        "    f.writelines(lines)"
      ]
    },
    {
      "cell_type": "code",
      "execution_count": 138,
      "metadata": {},
      "outputs": [],
      "source": [
        "input_file = \"ex_files/explanations_test.txt\"\n",
        "output_file = \"ex_files/shuffled_explanations_test.txt\"\n",
        "\n",
        "with open(input_file, \"r\") as f:\n",
        "    lines = f.readlines()\n",
        "\n",
        "random.shuffle(lines)\n",
        "\n",
        "with open(output_file, \"w\") as f:\n",
        "    f.writelines(lines)"
      ]
    },
    {
      "cell_type": "code",
      "execution_count": 139,
      "metadata": {},
      "outputs": [],
      "source": [
        "with open(\"ex_files/shuffled_explanations_train.txt\", \"r\") as f:\n",
        "    shuffled_explanations_train = f.readlines()\n",
        "\n",
        "with open(\"ex_files/shuffled_explanations_train.txt\", \"r\") as f:\n",
        "    shuffled_explanations_val = f.readlines()\n",
        "\n",
        "with open(\"ex_files/shuffled_explanations_test.txt\", \"r\") as f:\n",
        "    shuffled_explanations_test = f.readlines()"
      ]
    },
    {
      "cell_type": "code",
      "execution_count": 140,
      "metadata": {},
      "outputs": [],
      "source": [
        "from src.utils import tokenize_function_ex\n",
        "\n",
        "tokenize_mapping_train = partial(\n",
        "    tokenize_function_ex, tokenizer=tokenizer, modified_explanations = shuffled_explanations_train\n",
        ")\n",
        "\n",
        "tokenize_mapping_val = partial(\n",
        "    tokenize_function_ex, tokenizer=tokenizer, modified_explanations = shuffled_explanations_val\n",
        ")\n",
        "\n",
        "tokenize_mapping_test = partial(\n",
        "    tokenize_function_ex, tokenizer=tokenizer, modified_explanations = shuffled_explanations_test\n",
        ")"
      ]
    },
    {
      "cell_type": "code",
      "execution_count": 141,
      "metadata": {},
      "outputs": [
        {
          "name": "stderr",
          "output_type": "stream",
          "text": [
            "Map: 100%|██████████| 100000/100000 [00:09<00:00, 10693.74 examples/s]\n",
            "Map: 100%|██████████| 9842/9842 [00:01<00:00, 9224.40 examples/s]\n",
            "Map: 100%|██████████| 9824/9824 [00:01<00:00, 9262.68 examples/s] "
          ]
        },
        {
          "name": "stdout",
          "output_type": "stream",
          "text": [
            "Shape of train_small_tokenized:  (100000, 9)\n",
            "Shape of valid_small_tokenized:  (9842, 9)\n",
            "Shape of test_small_tokenized:  (9824, 9)\n"
          ]
        },
        {
          "name": "stderr",
          "output_type": "stream",
          "text": [
            "\n"
          ]
        }
      ],
      "source": [
        "train_small_tokenized_shex = train_small.map(\n",
        "    tokenize_mapping_train, batched=True\n",
        ").with_format(\"torch\")\n",
        "\n",
        "valid_small_tokenized_shex = valid_small.map(\n",
        "    tokenize_mapping_val, batched=True\n",
        ").with_format(\"torch\")\n",
        "\n",
        "test_small_tokenized_shex = test_small.map(tokenize_mapping_test, batched=True).with_format(\n",
        "    \"torch\"\n",
        ")\n",
        "\n",
        "print(\"Shape of train_small_tokenized: \", train_small_tokenized_shex.shape)\n",
        "print(\"Shape of valid_small_tokenized: \", valid_small_tokenized_shex.shape)\n",
        "print(\"Shape of test_small_tokenized: \", test_small_tokenized_shex.shape)"
      ]
    },
    {
      "cell_type": "code",
      "execution_count": 142,
      "metadata": {},
      "outputs": [],
      "source": [
        "train_small_tokenized_shex = train_small_tokenized_shex.remove_columns([\"label\", \"explanation_1\", \"explanation_2\", \"explanation_3\"])\n",
        "valid_small_tokenized_shex = valid_small_tokenized_shex.remove_columns([\"label\", \"explanation_1\", \"explanation_2\", \"explanation_3\"])\n",
        "test_small_tokenized_shex = test_small_tokenized_shex.remove_columns([\"label\", \"explanation_1\", \"explanation_2\", \"explanation_3\"])"
      ]
    },
    {
      "cell_type": "markdown",
      "metadata": {},
      "source": [
        "### Fine Tuning"
      ]
    },
    {
      "cell_type": "code",
      "execution_count": 143,
      "metadata": {},
      "outputs": [],
      "source": [
        "NUM_EPOCHS = 5"
      ]
    },
    {
      "cell_type": "code",
      "execution_count": 144,
      "metadata": {},
      "outputs": [],
      "source": [
        "transform_accuracy_shex = partial(\n",
        "    eval_pred_transform_accuracy,\n",
        "    tokenizer=tokenizer,\n",
        "    remove_explanations_from_label=True,\n",
        ")\n",
        "compute_accuracy_removing_explanations_shex = partial(\n",
        "    compute_metrics,\n",
        "    pred_transform=transform_accuracy_ex,\n",
        "    metric=evaluate.load(\"accuracy\"),\n",
        ")"
      ]
    },
    {
      "cell_type": "code",
      "execution_count": 145,
      "metadata": {},
      "outputs": [],
      "source": [
        "model_ft_shex = T5ForConditionalGeneration.from_pretrained(\"t5-base\")\n",
        "data_collator_ft_shex = DataCollatorForSeq2Seq(tokenizer, model=model_ft_ex)"
      ]
    },
    {
      "cell_type": "code",
      "execution_count": 146,
      "metadata": {},
      "outputs": [],
      "source": [
        "training_args_ft_shex = Seq2SeqTrainingArguments(\n",
        "    save_strategy=\"no\",\n",
        "    output_dir=\"task4\",\n",
        "    evaluation_strategy=\"epoch\",\n",
        "    num_train_epochs=NUM_EPOCHS,\n",
        "    predict_with_generate=True,\n",
        "    per_device_train_batch_size=16,\n",
        "    per_device_eval_batch_size=16,\n",
        "    generation_max_length=128,\n",
        "    metric_for_best_model=\"accuracy\",\n",
        ")"
      ]
    },
    {
      "cell_type": "code",
      "execution_count": 147,
      "metadata": {},
      "outputs": [],
      "source": [
        "trainer_ft_shex = Seq2SeqTrainer(\n",
        "    model=model_ft_shex,\n",
        "    args=training_args_ft_shex,\n",
        "    train_dataset=train_small_tokenized_shex,\n",
        "    eval_dataset=valid_small_tokenized_shex,\n",
        "    compute_metrics=compute_accuracy_removing_explanations_shex,\n",
        "    data_collator=data_collator_ft_shex,\n",
        "    tokenizer=tokenizer,\n",
        ")"
      ]
    },
    {
      "cell_type": "code",
      "execution_count": null,
      "metadata": {},
      "outputs": [],
      "source": [
        "trainer_ft_shex.train()"
      ]
    },
    {
      "cell_type": "code",
      "execution_count": null,
      "metadata": {},
      "outputs": [
        {
          "name": "stderr",
          "output_type": "stream",
          "text": [
            "/home/aroncoli/.cache/pypoetry/virtualenvs/explainingexplanations-aYcCKpct-py3.10/lib/python3.10/site-packages/torch/nn/parallel/_functions.py:68: UserWarning: Was asked to gather along dimension 0, but all input tensors were scalars; will instead unsqueeze and return a vector.\n",
            "  warnings.warn('Was asked to gather along dimension 0, but all '\n"
          ]
        },
        {
          "data": {
            "text/html": [
              "\n",
              "    <div>\n",
              "      \n",
              "      <progress value='307' max='307' style='width:300px; height:20px; vertical-align: middle;'></progress>\n",
              "      [307/307 01:08]\n",
              "    </div>\n",
              "    "
            ],
            "text/plain": [
              "<IPython.core.display.HTML object>"
            ]
          },
          "metadata": {},
          "output_type": "display_data"
        },
        {
          "data": {
            "text/plain": [
              "{'eval_loss': 3.9411330223083496,\n",
              " 'eval_accuracy': 0.8736767100977199,\n",
              " 'eval_runtime': 98.3303,\n",
              " 'eval_samples_per_second': 99.908,\n",
              " 'eval_steps_per_second': 3.122,\n",
              " 'epoch': 10.0}"
            ]
          },
          "execution_count": 62,
          "metadata": {},
          "output_type": "execute_result"
        }
      ],
      "source": [
        "trainer_ft_shex.evaluate(test_small_tokenized_shex)"
      ]
    },
    {
      "cell_type": "markdown",
      "metadata": {},
      "source": [
        "## 2.5 Task 5: Profiling-UD"
      ]
    },
    {
      "cell_type": "markdown",
      "metadata": {},
      "source": [
        "### Read the results of the automatic annotation stage performed over explanations with Profilind-UD.\n",
        "\n",
        "1. **Token ID**: The token's position in the sentence.\n",
        "2. **Token**: The actual token text.\n",
        "3. **Lemma**: The lemma or base form of the token.\n",
        "4. Universal part-of-speech tag.\n",
        "5. Language-specific part-of-speech tag (optional).\n",
        "6. Miscellaneous (misc) field, which can contain additional annotations.\n",
        "7. Head: The ID of the token's syntactic head.\n",
        "8. Dependency relation: The type of syntactic relation between the token and its head.\n",
        "9. Secondary dependencies or additional annotations."
      ]
    },
    {
      "cell_type": "code",
      "execution_count": null,
      "metadata": {},
      "outputs": [],
      "source": [
        "import pandas as pd \n",
        "# Define the path to your CoNLL-U file\n",
        "conll_file_path = \"ex_files/explanations_train.conllu\"\n",
        "\n",
        "# Define column names for the CoNLL-U file\n",
        "column_names = [\n",
        "    \"ID\",\n",
        "    \"TOKEN\",\n",
        "    \"LEMMA\",\n",
        "    \"UPOS\",\n",
        "    \"XPOS\",\n",
        "    \"FEATS\",\n",
        "    \"HEAD\",\n",
        "    \"DEPREL\",\n",
        "    \"DEPS\",\n",
        "    \"MISC\"\n",
        "]\n",
        "\n",
        "# Read the CoNLL-U file into a DataFrame\n",
        "df = pd.read_csv(conll_file_path, delimiter='\\t', comment='#', header=None, names=column_names)\n",
        "\n",
        "# Reset the index to create a numeric index\n",
        "df.reset_index(drop=True, inplace=True)\n",
        "\n",
        "# Display the DataFrame\n",
        "df[:15]"
      ]
    },
    {
      "cell_type": "code",
      "execution_count": null,
      "metadata": {},
      "outputs": [],
      "source": [
        "df['SAMPLE'] = None\n",
        "\n",
        "sample = 0\n",
        "for index, row in df.iterrows():\n",
        "    if(row[\"ID\"]==1):\n",
        "        sample = sample+1\n",
        "    df.at[index, \"SAMPLE\"] = sample"
      ]
    },
    {
      "cell_type": "markdown",
      "metadata": {},
      "source": [
        "### Prepare the dataset with modified explanations"
      ]
    },
    {
      "cell_type": "markdown",
      "metadata": {},
      "source": [
        "### Prepare the dataset with modified explanations"
      ]
    },
    {
      "cell_type": "code",
      "execution_count": null,
      "metadata": {},
      "outputs": [],
      "source": [
        "# Define the input and output file paths\n",
        "output_file = \"ex_files/modified_explanations_1.txt\"\n",
        "\n",
        "# Write the shuffled lines to the output file\n",
        "with open(output_file, \"w\") as f:\n",
        "    for i in range(N_TRAIN):\n",
        "        df_i = df.loc[df[\"SAMPLE\"]==i]\n",
        "        modified_exp = ' '.join(df[\"LEMMA\"].values)\n",
        "        f.writelines(modified_exp)"
      ]
    },
    {
      "cell_type": "code",
      "execution_count": null,
      "metadata": {},
      "outputs": [],
      "source": [
        "with open(\"ex_files/modified_explanations_1.txt\", \"r\") as f:\n",
        "    explanations_m1 = f.readlines()"
      ]
    },
    {
      "cell_type": "code",
      "execution_count": null,
      "metadata": {},
      "outputs": [],
      "source": [
        "# Define the input and output file paths\n",
        "output_file = \"ex_files/modified_explanations_1.txt\"\n",
        "\n",
        "# Write the shuffled lines to the output file\n",
        "with open(output_file, \"w\") as f:\n",
        "    for i in range(N_TRAIN):\n",
        "        df_i = df.loc[df[\"SAMPLE\"]==i]\n",
        "        modified_exp = ' '.join(df[\"LEMMA\"].values)\n",
        "        f.writelines(modified_exp)"
      ]
    },
    {
      "cell_type": "code",
      "execution_count": null,
      "metadata": {},
      "outputs": [],
      "source": [
        "with open(\"ex_files/modified_explanations_1.txt\", \"r\") as f:\n",
        "    explanations_m1 = f.readlines()"
      ]
    }
  ],
  "metadata": {
    "accelerator": "TPU",
    "colab": {
      "collapsed_sections": [
        "UZvGBSfFEWLv",
        "FFt0woXsEWLx",
        "RxesGnaFEWLz",
        "DQvhd35vEWL1",
        "s4SNHcxuEWL3",
        "bQoQE4naEWL4",
        "BMD_Zq5zEWL4"
      ],
      "include_colab_link": true,
      "provenance": []
    },
    "kernelspec": {
      "display_name": "Python 3",
      "name": "python3"
    },
    "language_info": {
      "codemirror_mode": {
        "name": "ipython",
        "version": 3
      },
      "file_extension": ".py",
      "mimetype": "text/x-python",
      "name": "python",
      "nbconvert_exporter": "python",
      "pygments_lexer": "ipython3",
      "version": "3.10.12"
    }
  },
  "nbformat": 4,
  "nbformat_minor": 0
}
