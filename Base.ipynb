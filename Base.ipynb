{
  "cells": [
    {
      "cell_type": "markdown",
      "metadata": {
        "colab_type": "text",
        "id": "view-in-github"
      },
      "source": [
        "<a href=\"https://colab.research.google.com/github/DreRnc/ExplainingExplanations/blob/ModData/Base.ipynb\" target=\"_parent\"><img src=\"https://colab.research.google.com/assets/colab-badge.svg\" alt=\"Open In Colab\"/></a>"
      ]
    },
    {
      "cell_type": "markdown",
      "metadata": {
        "id": "4H972d7y9V7J"
      },
      "source": [
        "Dataset : **E-SNLI**. \\\n",
        "Model : **Base T5**."
      ]
    },
    {
      "cell_type": "code",
      "execution_count": 1,
      "metadata": {},
      "outputs": [],
      "source": [
        "colab = False"
      ]
    },
    {
      "cell_type": "code",
      "execution_count": 2,
      "metadata": {},
      "outputs": [],
      "source": [
        "if colab:\n",
        "    !git clone https://github.com/DreRnc/ExplainingExplanations.git\n",
        "    %cd ExplainingExplanations\n",
        "    !git checkout seq2seq\n",
        "    %pip install -r requirements_colab.txt\n",
        "    "
      ]
    },
    {
      "cell_type": "markdown",
      "metadata": {},
      "source": [
        "# 1.0 Preparation\n"
      ]
    },
    {
      "cell_type": "markdown",
      "metadata": {},
      "source": [
        "Set parameters for the experiments."
      ]
    },
    {
      "cell_type": "code",
      "execution_count": 3,
      "metadata": {},
      "outputs": [],
      "source": [
        "sizes = {\n",
        "    'n_train' : 100000,\n",
        "    'n_val' : 9842,\n",
        "    'n_test' : 9824\n",
        "}\n",
        "\n",
        "NUM_EPOCHS = 5\n",
        "\n",
        "# Whether to use the mnli prompt on which the model is pretrained or not\n",
        "USE_MNLI_PROMPT = False"
      ]
    },
    {
      "cell_type": "markdown",
      "metadata": {},
      "source": [
        "## 1.1 Loading Tokenizer"
      ]
    },
    {
      "cell_type": "code",
      "execution_count": 4,
      "metadata": {},
      "outputs": [
        {
          "name": "stderr",
          "output_type": "stream",
          "text": [
            "/home/aroncoli/.cache/pypoetry/virtualenvs/explainingexplanations-aYcCKpct-py3.10/lib/python3.10/site-packages/tqdm/auto.py:21: TqdmWarning: IProgress not found. Please update jupyter and ipywidgets. See https://ipywidgets.readthedocs.io/en/stable/user_install.html\n",
            "  from .autonotebook import tqdm as notebook_tqdm\n",
            "/home/aroncoli/.cache/pypoetry/virtualenvs/explainingexplanations-aYcCKpct-py3.10/lib/python3.10/site-packages/transformers/models/t5/tokenization_t5.py:240: FutureWarning: This tokenizer was incorrectly instantiated with a model max length of 512 which will be corrected in Transformers v5.\n",
            "For now, this behavior is kept to avoid breaking backwards compatibility when padding/encoding with `truncation is True`.\n",
            "- Be aware that you SHOULD NOT rely on t5-base automatically truncating your input to 512 when padding/encoding.\n",
            "- If you want to encode/pad to sequences longer than 512 you can either instantiate this tokenizer with `model_max_length` or pass `max_length` when encoding/padding.\n",
            "- To avoid this warning, please instantiate this tokenizer with `model_max_length` set to your preferred value.\n",
            "  warnings.warn(\n",
            "You are using the default legacy behaviour of the <class 'transformers.models.t5.tokenization_t5.T5Tokenizer'>. This is expected, and simply means that the `legacy` (previous) behavior will be used so nothing changes for you. If you want to use the new behaviour, set `legacy=False`. This should only be set if you understand what it means, and thoroughly read the reason why this was added as explained in https://github.com/huggingface/transformers/pull/24565\n",
            "Special tokens have been added in the vocabulary, make sure the associated word embeddings are fine-tuned or trained.\n"
          ]
        }
      ],
      "source": [
        "from transformers import T5Tokenizer\n",
        "\n",
        "tokenizer = T5Tokenizer.from_pretrained(\"t5-base\", truncation=True, padding=True)"
      ]
    },
    {
      "cell_type": "markdown",
      "metadata": {},
      "source": [
        "## 1.2 Loading and Tokenizing Dataset"
      ]
    },
    {
      "cell_type": "code",
      "execution_count": 5,
      "metadata": {},
      "outputs": [],
      "source": [
        "from datasets import load_dataset\n",
        "from src.preprocess import prepare_dataset\n",
        "from functools import partial\n",
        "from src.utils import tokenize_function"
      ]
    },
    {
      "cell_type": "code",
      "execution_count": 6,
      "metadata": {},
      "outputs": [
        {
          "name": "stderr",
          "output_type": "stream",
          "text": [
            "Downloading data: 100%|██████████| 39.3M/39.3M [00:01<00:00, 30.2MB/s]\n",
            "Downloading data: 100%|██████████| 1.62M/1.62M [00:00<00:00, 10.4MB/s]\n",
            "Downloading data: 100%|██████████| 1.61M/1.61M [00:00<00:00, 5.73MB/s]\n",
            "Generating train split: 100%|██████████| 549367/549367 [00:00<00:00, 3110462.84 examples/s]\n",
            "Generating validation split: 100%|██████████| 9842/9842 [00:00<00:00, 1888828.18 examples/s]\n",
            "Generating test split: 100%|██████████| 9824/9824 [00:00<00:00, 1275849.72 examples/s]\n"
          ]
        }
      ],
      "source": [
        "dataset = load_dataset(\"esnli\", download_mode=\"force_redownload\")"
      ]
    },
    {
      "cell_type": "code",
      "execution_count": 7,
      "metadata": {},
      "outputs": [],
      "source": [
        "tokenize_mapping= partial(tokenize_function, tokenizer=tokenizer, use_mnli_format = USE_MNLI_PROMPT)"
      ]
    },
    {
      "cell_type": "code",
      "execution_count": 8,
      "metadata": {},
      "outputs": [
        {
          "name": "stderr",
          "output_type": "stream",
          "text": [
            "Map:   0%|          | 0/100000 [00:00<?, ? examples/s]"
          ]
        },
        {
          "name": "stderr",
          "output_type": "stream",
          "text": [
            "Map: 100%|██████████| 100000/100000 [00:05<00:00, 17956.76 examples/s]\n",
            "Map: 100%|██████████| 9842/9842 [00:00<00:00, 17747.87 examples/s]\n",
            "Map: 100%|██████████| 9824/9824 [00:00<00:00, 16811.62 examples/s]\n"
          ]
        }
      ],
      "source": [
        "train_tok, valid_tok, test_tok = prepare_dataset(dataset, tokenize_mapping=tokenize_mapping, sizes = sizes)"
      ]
    },
    {
      "cell_type": "markdown",
      "metadata": {},
      "source": [
        "## 1.3 Loading SBERT for evaluating sentence similarity"
      ]
    },
    {
      "cell_type": "code",
      "execution_count": 9,
      "metadata": {},
      "outputs": [],
      "source": [
        "from sentence_transformers import SentenceTransformer"
      ]
    },
    {
      "cell_type": "code",
      "execution_count": 10,
      "metadata": {},
      "outputs": [],
      "source": [
        "sbert = SentenceTransformer('all-MiniLM-L6-v2')"
      ]
    },
    {
      "cell_type": "markdown",
      "metadata": {},
      "source": [
        "# 2.0 Tasks"
      ]
    },
    {
      "cell_type": "code",
      "execution_count": 11,
      "metadata": {},
      "outputs": [],
      "source": [
        "import torch\n",
        "from functools import partial\n",
        "import evaluate\n",
        "from src.utils import compute_metrics, eval_pred_transform_accuracy\n",
        "from transformers import Seq2SeqTrainingArguments, Seq2SeqTrainer, T5ForConditionalGeneration, DataCollatorForSeq2Seq\n"
      ]
    },
    {
      "cell_type": "code",
      "execution_count": 12,
      "metadata": {},
      "outputs": [
        {
          "data": {
            "text/plain": [
              "device(type='cuda')"
            ]
          },
          "execution_count": 12,
          "metadata": {},
          "output_type": "execute_result"
        }
      ],
      "source": [
        "if torch.cuda.is_available():\n",
        "    device = torch.device('cuda')\n",
        "else:\n",
        "    device = torch.device('cpu')\n",
        "    \n",
        "device"
      ]
    },
    {
      "cell_type": "code",
      "execution_count": 13,
      "metadata": {},
      "outputs": [],
      "source": [
        "transform_accuracy = partial(eval_pred_transform_accuracy, tokenizer = tokenizer)\n",
        "compute_accuracy = partial(compute_metrics, pred_transforms=transform_accuracy, metrics = evaluate.load('accuracy'))"
      ]
    },
    {
      "cell_type": "code",
      "execution_count": 14,
      "metadata": {},
      "outputs": [],
      "source": [
        "standard_args = {\n",
        "    \"save_strategy\" : \"no\",\n",
        "    \"evaluation_strategy\" : \"epoch\",\n",
        "    \"predict_with_generate\" : True,\n",
        "    \"per_device_train_batch_size\" : 16,\n",
        "    \"per_device_eval_batch_size\" : 16,\n",
        "}"
      ]
    },
    {
      "cell_type": "markdown",
      "metadata": {},
      "source": [
        "## 2.1 Task 1: Zero-shot evaluation"
      ]
    },
    {
      "cell_type": "code",
      "execution_count": 15,
      "metadata": {},
      "outputs": [],
      "source": [
        "model = T5ForConditionalGeneration.from_pretrained(\"t5-base\")\n",
        "data_collator = DataCollatorForSeq2Seq(tokenizer, model=model)"
      ]
    },
    {
      "cell_type": "code",
      "execution_count": 16,
      "metadata": {},
      "outputs": [],
      "source": [
        "training_args = Seq2SeqTrainingArguments(\n",
        "    **standard_args,\n",
        "    num_train_epochs = NUM_EPOCHS,\n",
        "    output_dir=\"task1\",\n",
        "    generation_max_length=32,\n",
        "    metric_for_best_model=\"accuracy\",\n",
        ")"
      ]
    },
    {
      "cell_type": "code",
      "execution_count": 17,
      "metadata": {},
      "outputs": [],
      "source": [
        "trainer = Seq2SeqTrainer(\n",
        "    model=model,\n",
        "    args=training_args,\n",
        "    train_dataset=train_tok,\n",
        "    eval_dataset=valid_tok,\n",
        "    compute_metrics=compute_accuracy,\n",
        "    data_collator=data_collator,\n",
        "    tokenizer=tokenizer,\n",
        ")"
      ]
    },
    {
      "cell_type": "code",
      "execution_count": 18,
      "metadata": {},
      "outputs": [
        {
          "name": "stderr",
          "output_type": "stream",
          "text": [
            "/home/aroncoli/.cache/pypoetry/virtualenvs/explainingexplanations-aYcCKpct-py3.10/lib/python3.10/site-packages/torch/nn/parallel/_functions.py:68: UserWarning: Was asked to gather along dimension 0, but all input tensors were scalars; will instead unsqueeze and return a vector.\n",
            "  warnings.warn('Was asked to gather along dimension 0, but all '\n"
          ]
        },
        {
          "data": {
            "text/html": [
              "\n",
              "    <div>\n",
              "      \n",
              "      <progress value='307' max='307' style='width:300px; height:20px; vertical-align: middle;'></progress>\n",
              "      [307/307 00:38]\n",
              "    </div>\n",
              "    "
            ],
            "text/plain": [
              "<IPython.core.display.HTML object>"
            ]
          },
          "metadata": {},
          "output_type": "display_data"
        },
        {
          "data": {
            "text/plain": [
              "{'eval_loss': 0.18833135068416595,\n",
              " 'eval_accuracy': 0.8033387622149837,\n",
              " 'eval_runtime': 47.675,\n",
              " 'eval_samples_per_second': 206.062,\n",
              " 'eval_steps_per_second': 6.439}"
            ]
          },
          "execution_count": 18,
          "metadata": {},
          "output_type": "execute_result"
        }
      ],
      "source": [
        "trainer.evaluate(test_tok)"
      ]
    },
    {
      "cell_type": "markdown",
      "metadata": {
        "id": "bQoQE4naEWL4"
      },
      "source": [
        "## 2.2 Task 2: Fine tuning without explanations"
      ]
    },
    {
      "cell_type": "code",
      "execution_count": 19,
      "metadata": {},
      "outputs": [],
      "source": [
        "NUM_EPOCHS = 3"
      ]
    },
    {
      "cell_type": "code",
      "execution_count": 20,
      "metadata": {},
      "outputs": [],
      "source": [
        "model_ft = T5ForConditionalGeneration.from_pretrained(\"t5-base\")\n",
        "data_collator_ft = DataCollatorForSeq2Seq(tokenizer, model=model_ft)"
      ]
    },
    {
      "cell_type": "code",
      "execution_count": 21,
      "metadata": {},
      "outputs": [],
      "source": [
        "training_args_ft = Seq2SeqTrainingArguments(\n",
        "    **standard_args,\n",
        "    num_train_epochs = NUM_EPOCHS,\n",
        "    output_dir=\"task2\",\n",
        "    generation_max_length=32,\n",
        "    metric_for_best_model=\"accuracy\",\n",
        ")"
      ]
    },
    {
      "cell_type": "code",
      "execution_count": 22,
      "metadata": {
        "id": "mUa0tn4jGIgS"
      },
      "outputs": [],
      "source": [
        "trainer_ft = Seq2SeqTrainer(\n",
        "    model=model_ft,\n",
        "    args=training_args_ft,\n",
        "    train_dataset=train_tok,\n",
        "    eval_dataset=valid_tok,\n",
        "    compute_metrics=compute_accuracy,\n",
        "    data_collator=data_collator_ft,\n",
        "    tokenizer=tokenizer,\n",
        ")"
      ]
    },
    {
      "cell_type": "code",
      "execution_count": null,
      "metadata": {
        "colab": {
          "base_uri": "https://localhost:8080/",
          "height": 95
        },
        "id": "2HY5nl2RHx5J",
        "outputId": "4210f615-2304-45bc-8231-813def9c629b"
      },
      "outputs": [],
      "source": [
        "trainer_ft.train()"
      ]
    },
    {
      "cell_type": "code",
      "execution_count": null,
      "metadata": {},
      "outputs": [],
      "source": [
        "trainer_ft.evaluate(test_tok)"
      ]
    },
    {
      "cell_type": "markdown",
      "metadata": {
        "id": "BMD_Zq5zEWL4"
      },
      "source": [
        "## 2.3 Task 3: Fine Tuning with Explanations"
      ]
    },
    {
      "cell_type": "markdown",
      "metadata": {},
      "source": [
        "We need to give as labels the label and the explanation tokenized."
      ]
    },
    {
      "cell_type": "markdown",
      "metadata": {},
      "source": [
        "### Preparing the dataset with labelled explanations"
      ]
    },
    {
      "cell_type": "code",
      "execution_count": 24,
      "metadata": {},
      "outputs": [],
      "source": [
        "from src.utils import tokenize_function_ex"
      ]
    },
    {
      "cell_type": "code",
      "execution_count": 25,
      "metadata": {},
      "outputs": [
        {
          "name": "stderr",
          "output_type": "stream",
          "text": [
            "/home/aroncoli/.cache/pypoetry/virtualenvs/explainingexplanations-aYcCKpct-py3.10/lib/python3.10/site-packages/datasets/load.py:1454: FutureWarning: The repository for esnli contains custom code which must be executed to correctly load the dataset. You can inspect the repository content at https://hf.co/datasets/esnli\n",
            "You can avoid this message in future by passing the argument `trust_remote_code=True`.\n",
            "Passing `trust_remote_code=True` will be mandatory to load this dataset from the next major release of `datasets`.\n",
            "  warnings.warn(\n",
            "Downloading builder script: 100%|██████████| 4.41k/4.41k [00:00<00:00, 7.69MB/s]\n",
            "Downloading readme: 100%|██████████| 6.90k/6.90k [00:00<00:00, 10.1MB/s]\n",
            "Downloading data: 90.2MB [00:00, 160MB/s]                             \n",
            "Downloading data: 99.4MB [00:00, 169MB/s]                             \n",
            "Downloading data: 7.50MB [00:00, 83.5MB/s]                   \n",
            "Downloading data: 7.44MB [00:00, 88.9MB/s]                   \n",
            "Generating train split: 100%|██████████| 549367/549367 [00:08<00:00, 65077.25 examples/s]\n",
            "Generating validation split: 100%|██████████| 9842/9842 [00:00<00:00, 58787.07 examples/s]\n",
            "Generating test split: 100%|██████████| 9824/9824 [00:00<00:00, 59173.20 examples/s]\n"
          ]
        }
      ],
      "source": [
        "dataset_explanations = load_dataset(\"esnli\", download_mode=\"force_redownload\")"
      ]
    },
    {
      "cell_type": "code",
      "execution_count": 26,
      "metadata": {},
      "outputs": [],
      "source": [
        "tokenize_mapping_ex = partial(tokenize_function_ex, tokenizer=tokenizer, use_mnli_format = USE_MNLI_PROMPT)"
      ]
    },
    {
      "cell_type": "code",
      "execution_count": 27,
      "metadata": {},
      "outputs": [
        {
          "name": "stderr",
          "output_type": "stream",
          "text": [
            "Map:   0%|          | 0/100000 [00:00<?, ? examples/s]"
          ]
        },
        {
          "name": "stderr",
          "output_type": "stream",
          "text": [
            "Map: 100%|██████████| 100000/100000 [00:07<00:00, 12739.08 examples/s]\n",
            "Map: 100%|██████████| 9842/9842 [00:00<00:00, 12533.58 examples/s]\n",
            "Map: 100%|██████████| 9824/9824 [00:00<00:00, 11554.66 examples/s]\n"
          ]
        }
      ],
      "source": [
        "train_tok_ex, valid_tok_ex, test_tok_ex = prepare_dataset(dataset=dataset_explanations, tokenize_mapping=tokenize_mapping_ex, sizes=sizes)"
      ]
    },
    {
      "cell_type": "code",
      "execution_count": 28,
      "metadata": {},
      "outputs": [
        {
          "data": {
            "text/plain": [
              "{'premise': Value(dtype='string', id=None),\n",
              " 'hypothesis': Value(dtype='string', id=None),\n",
              " 'explanation_1': Value(dtype='string', id=None),\n",
              " 'explanation_2': Value(dtype='string', id=None),\n",
              " 'explanation_3': Value(dtype='string', id=None),\n",
              " 'input_ids': Sequence(feature=Value(dtype='int32', id=None), length=-1, id=None),\n",
              " 'attention_mask': Sequence(feature=Value(dtype='int8', id=None), length=-1, id=None),\n",
              " 'labels': Sequence(feature=Value(dtype='int64', id=None), length=-1, id=None)}"
            ]
          },
          "execution_count": 28,
          "metadata": {},
          "output_type": "execute_result"
        }
      ],
      "source": [
        "train_tok_ex.features"
      ]
    },
    {
      "cell_type": "markdown",
      "metadata": {},
      "source": [
        "### Defining the metrics: accuracy / similarity of explanations"
      ]
    },
    {
      "cell_type": "code",
      "execution_count": 29,
      "metadata": {},
      "outputs": [],
      "source": [
        "from src.utils import eval_pred_transform_sbert\n",
        "from src.sbert_metric import SbertMetric"
      ]
    },
    {
      "cell_type": "code",
      "execution_count": 30,
      "metadata": {},
      "outputs": [],
      "source": [
        "transform_accuracy_ex = partial(eval_pred_transform_accuracy, tokenizer = tokenizer, remove_explanations_from_label = True)\n",
        "accuracy = evaluate.load('accuracy')"
      ]
    },
    {
      "cell_type": "code",
      "execution_count": 31,
      "metadata": {},
      "outputs": [],
      "source": [
        "trasnform_sbert = partial(eval_pred_transform_sbert, tokenizer = tokenizer)\n",
        "sbert_similarity = SbertMetric(sbert)"
      ]
    },
    {
      "cell_type": "code",
      "execution_count": 32,
      "metadata": {},
      "outputs": [],
      "source": [
        "transforms = [transform_accuracy_ex, trasnform_sbert]\n",
        "metrics = [accuracy, sbert_similarity]\n",
        "\n",
        "compute_metrics_ex = partial(compute_metrics, pred_transforms=transforms, metrics=metrics)"
      ]
    },
    {
      "cell_type": "markdown",
      "metadata": {},
      "source": [
        "### Fine Tuning"
      ]
    },
    {
      "cell_type": "code",
      "execution_count": 33,
      "metadata": {},
      "outputs": [],
      "source": [
        "NUM_EPOCHS = 10"
      ]
    },
    {
      "cell_type": "code",
      "execution_count": 34,
      "metadata": {},
      "outputs": [],
      "source": [
        "model_ft_ex = T5ForConditionalGeneration.from_pretrained(\"t5-base\")\n",
        "data_collator_ft_ex = DataCollatorForSeq2Seq(tokenizer, model=model_ft_ex)"
      ]
    },
    {
      "cell_type": "code",
      "execution_count": 35,
      "metadata": {},
      "outputs": [],
      "source": [
        "training_args_ft_ex = Seq2SeqTrainingArguments(\n",
        "    **standard_args,\n",
        "    num_train_epochs = NUM_EPOCHS,\n",
        "    output_dir=\"task3\",\n",
        "    generation_max_length=128,\n",
        "    metric_for_best_model=\"accuracy\",\n",
        ")"
      ]
    },
    {
      "cell_type": "code",
      "execution_count": 36,
      "metadata": {},
      "outputs": [],
      "source": [
        "trainer_ft_ex = Seq2SeqTrainer(\n",
        "    model=model_ft_ex,\n",
        "    args=training_args_ft_ex,\n",
        "    train_dataset=train_tok_ex,\n",
        "    eval_dataset=valid_tok_ex,\n",
        "    compute_metrics=compute_metrics_ex,\n",
        "    data_collator=data_collator_ft_ex,\n",
        "    tokenizer=tokenizer,\n",
        ")"
      ]
    },
    {
      "cell_type": "code",
      "execution_count": 37,
      "metadata": {},
      "outputs": [
        {
          "data": {
            "text/html": [
              "\n",
              "    <div>\n",
              "      \n",
              "      <progress value='31250' max='31250' style='width:300px; height:20px; vertical-align: middle;'></progress>\n",
              "      [31250/31250 2:41:04, Epoch 10/10]\n",
              "    </div>\n",
              "    <table border=\"1\" class=\"dataframe\">\n",
              "  <thead>\n",
              " <tr style=\"text-align: left;\">\n",
              "      <th>Epoch</th>\n",
              "      <th>Training Loss</th>\n",
              "      <th>Validation Loss</th>\n",
              "      <th>Accuracy</th>\n",
              "      <th>Explanation Average Similarity</th>\n",
              "    </tr>\n",
              "  </thead>\n",
              "  <tbody>\n",
              "    <tr>\n",
              "      <td>1</td>\n",
              "      <td>1.049800</td>\n",
              "      <td>0.985403</td>\n",
              "      <td>0.862731</td>\n",
              "      <td>0.666615</td>\n",
              "    </tr>\n",
              "    <tr>\n",
              "      <td>2</td>\n",
              "      <td>0.982000</td>\n",
              "      <td>0.955923</td>\n",
              "      <td>0.871977</td>\n",
              "      <td>0.669740</td>\n",
              "    </tr>\n",
              "    <tr>\n",
              "      <td>3</td>\n",
              "      <td>0.935500</td>\n",
              "      <td>0.943330</td>\n",
              "      <td>0.882544</td>\n",
              "      <td>0.668977</td>\n",
              "    </tr>\n",
              "    <tr>\n",
              "      <td>4</td>\n",
              "      <td>0.907400</td>\n",
              "      <td>0.934286</td>\n",
              "      <td>0.874416</td>\n",
              "      <td>0.673144</td>\n",
              "    </tr>\n",
              "    <tr>\n",
              "      <td>5</td>\n",
              "      <td>0.880400</td>\n",
              "      <td>0.930461</td>\n",
              "      <td>0.888132</td>\n",
              "      <td>0.676763</td>\n",
              "    </tr>\n",
              "    <tr>\n",
              "      <td>6</td>\n",
              "      <td>0.867900</td>\n",
              "      <td>0.929177</td>\n",
              "      <td>0.889657</td>\n",
              "      <td>0.680680</td>\n",
              "    </tr>\n",
              "    <tr>\n",
              "      <td>7</td>\n",
              "      <td>0.846200</td>\n",
              "      <td>0.928236</td>\n",
              "      <td>0.891485</td>\n",
              "      <td>0.676081</td>\n",
              "    </tr>\n",
              "    <tr>\n",
              "      <td>8</td>\n",
              "      <td>0.845200</td>\n",
              "      <td>0.928135</td>\n",
              "      <td>0.889352</td>\n",
              "      <td>0.677947</td>\n",
              "    </tr>\n",
              "    <tr>\n",
              "      <td>9</td>\n",
              "      <td>0.833000</td>\n",
              "      <td>0.927079</td>\n",
              "      <td>0.891485</td>\n",
              "      <td>0.679235</td>\n",
              "    </tr>\n",
              "    <tr>\n",
              "      <td>10</td>\n",
              "      <td>0.822400</td>\n",
              "      <td>0.928883</td>\n",
              "      <td>0.890266</td>\n",
              "      <td>0.677993</td>\n",
              "    </tr>\n",
              "  </tbody>\n",
              "</table><p>"
            ],
            "text/plain": [
              "<IPython.core.display.HTML object>"
            ]
          },
          "metadata": {},
          "output_type": "display_data"
        },
        {
          "name": "stderr",
          "output_type": "stream",
          "text": [
            "/home/aroncoli/.cache/pypoetry/virtualenvs/explainingexplanations-aYcCKpct-py3.10/lib/python3.10/site-packages/torch/nn/parallel/_functions.py:68: UserWarning: Was asked to gather along dimension 0, but all input tensors were scalars; will instead unsqueeze and return a vector.\n",
            "  warnings.warn('Was asked to gather along dimension 0, but all '\n",
            "/home/aroncoli/.cache/pypoetry/virtualenvs/explainingexplanations-aYcCKpct-py3.10/lib/python3.10/site-packages/torch/nn/parallel/_functions.py:68: UserWarning: Was asked to gather along dimension 0, but all input tensors were scalars; will instead unsqueeze and return a vector.\n",
            "  warnings.warn('Was asked to gather along dimension 0, but all '\n",
            "/home/aroncoli/.cache/pypoetry/virtualenvs/explainingexplanations-aYcCKpct-py3.10/lib/python3.10/site-packages/torch/nn/parallel/_functions.py:68: UserWarning: Was asked to gather along dimension 0, but all input tensors were scalars; will instead unsqueeze and return a vector.\n",
            "  warnings.warn('Was asked to gather along dimension 0, but all '\n",
            "/home/aroncoli/.cache/pypoetry/virtualenvs/explainingexplanations-aYcCKpct-py3.10/lib/python3.10/site-packages/torch/nn/parallel/_functions.py:68: UserWarning: Was asked to gather along dimension 0, but all input tensors were scalars; will instead unsqueeze and return a vector.\n",
            "  warnings.warn('Was asked to gather along dimension 0, but all '\n",
            "/home/aroncoli/.cache/pypoetry/virtualenvs/explainingexplanations-aYcCKpct-py3.10/lib/python3.10/site-packages/torch/nn/parallel/_functions.py:68: UserWarning: Was asked to gather along dimension 0, but all input tensors were scalars; will instead unsqueeze and return a vector.\n",
            "  warnings.warn('Was asked to gather along dimension 0, but all '\n",
            "/home/aroncoli/.cache/pypoetry/virtualenvs/explainingexplanations-aYcCKpct-py3.10/lib/python3.10/site-packages/torch/nn/parallel/_functions.py:68: UserWarning: Was asked to gather along dimension 0, but all input tensors were scalars; will instead unsqueeze and return a vector.\n",
            "  warnings.warn('Was asked to gather along dimension 0, but all '\n",
            "/home/aroncoli/.cache/pypoetry/virtualenvs/explainingexplanations-aYcCKpct-py3.10/lib/python3.10/site-packages/torch/nn/parallel/_functions.py:68: UserWarning: Was asked to gather along dimension 0, but all input tensors were scalars; will instead unsqueeze and return a vector.\n",
            "  warnings.warn('Was asked to gather along dimension 0, but all '\n",
            "/home/aroncoli/.cache/pypoetry/virtualenvs/explainingexplanations-aYcCKpct-py3.10/lib/python3.10/site-packages/torch/nn/parallel/_functions.py:68: UserWarning: Was asked to gather along dimension 0, but all input tensors were scalars; will instead unsqueeze and return a vector.\n",
            "  warnings.warn('Was asked to gather along dimension 0, but all '\n",
            "/home/aroncoli/.cache/pypoetry/virtualenvs/explainingexplanations-aYcCKpct-py3.10/lib/python3.10/site-packages/torch/nn/parallel/_functions.py:68: UserWarning: Was asked to gather along dimension 0, but all input tensors were scalars; will instead unsqueeze and return a vector.\n",
            "  warnings.warn('Was asked to gather along dimension 0, but all '\n"
          ]
        },
        {
          "data": {
            "text/plain": [
              "TrainOutput(global_step=31250, training_loss=0.9077115869140625, metrics={'train_runtime': 9664.3966, 'train_samples_per_second': 103.473, 'train_steps_per_second': 3.234, 'total_flos': 6.828857590726656e+16, 'train_loss': 0.9077115869140625, 'epoch': 10.0})"
            ]
          },
          "execution_count": 37,
          "metadata": {},
          "output_type": "execute_result"
        }
      ],
      "source": [
        "trainer_ft_ex.train()"
      ]
    },
    {
      "cell_type": "code",
      "execution_count": 38,
      "metadata": {},
      "outputs": [
        {
          "name": "stderr",
          "output_type": "stream",
          "text": [
            "/home/aroncoli/.cache/pypoetry/virtualenvs/explainingexplanations-aYcCKpct-py3.10/lib/python3.10/site-packages/torch/nn/parallel/_functions.py:68: UserWarning: Was asked to gather along dimension 0, but all input tensors were scalars; will instead unsqueeze and return a vector.\n",
            "  warnings.warn('Was asked to gather along dimension 0, but all '\n"
          ]
        },
        {
          "data": {
            "text/html": [
              "\n",
              "    <div>\n",
              "      \n",
              "      <progress value='307' max='307' style='width:300px; height:20px; vertical-align: middle;'></progress>\n",
              "      [307/307 01:26]\n",
              "    </div>\n",
              "    "
            ],
            "text/plain": [
              "<IPython.core.display.HTML object>"
            ]
          },
          "metadata": {},
          "output_type": "display_data"
        },
        {
          "data": {
            "text/plain": [
              "{'eval_loss': 0.9279735684394836,\n",
              " 'eval_accuracy': 0.8913884364820847,\n",
              " 'eval_explanation_average_similarity': 0.6788642406463623,\n",
              " 'eval_runtime': 193.8817,\n",
              " 'eval_samples_per_second': 50.67,\n",
              " 'eval_steps_per_second': 1.583,\n",
              " 'epoch': 10.0}"
            ]
          },
          "execution_count": 38,
          "metadata": {},
          "output_type": "execute_result"
        }
      ],
      "source": [
        "trainer_ft_ex.evaluate(test_tok_ex)"
      ]
    },
    {
      "cell_type": "markdown",
      "metadata": {},
      "source": [
        "## 2.4 Task 4: Fine Tuning with Shuffled Explanations"
      ]
    },
    {
      "cell_type": "markdown",
      "metadata": {},
      "source": [
        "### Preparing the dataset with *wrong* labelled explanations"
      ]
    },
    {
      "cell_type": "code",
      "execution_count": 39,
      "metadata": {},
      "outputs": [
        {
          "name": "stderr",
          "output_type": "stream",
          "text": [
            "Downloading data: 100%|██████████| 39.3M/39.3M [00:03<00:00, 11.4MB/s]\n",
            "Downloading data: 100%|██████████| 1.62M/1.62M [00:00<00:00, 9.09MB/s]\n",
            "Downloading data: 100%|██████████| 1.61M/1.61M [00:00<00:00, 8.83MB/s]\n",
            "Generating train split: 100%|██████████| 549367/549367 [00:00<00:00, 5029822.98 examples/s]\n",
            "Generating validation split: 100%|██████████| 9842/9842 [00:00<00:00, 3549775.56 examples/s]\n",
            "Generating test split: 100%|██████████| 9824/9824 [00:00<00:00, 3680646.94 examples/s]\n"
          ]
        }
      ],
      "source": [
        "dataset_shex = load_dataset(\"esnli\", download_mode=\"force_redownload\")"
      ]
    },
    {
      "cell_type": "code",
      "execution_count": 40,
      "metadata": {},
      "outputs": [],
      "source": [
        "from src.preprocess import save_explanations, save_shuffled_explanations, retrieve_explanations"
      ]
    },
    {
      "cell_type": "code",
      "execution_count": 41,
      "metadata": {},
      "outputs": [],
      "source": [
        "dirs = save_explanations(dataset_shex)"
      ]
    },
    {
      "cell_type": "code",
      "execution_count": 42,
      "metadata": {},
      "outputs": [],
      "source": [
        "dirs_shuffled = save_shuffled_explanations(dirs)"
      ]
    },
    {
      "cell_type": "code",
      "execution_count": 43,
      "metadata": {},
      "outputs": [],
      "source": [
        "shuffled_explanations = retrieve_explanations(dirs_shuffled)"
      ]
    },
    {
      "cell_type": "code",
      "execution_count": 44,
      "metadata": {},
      "outputs": [],
      "source": [
        "from src.utils import tokenize_function_ex\n",
        "\n",
        "tokenize_mapping_train = partial(tokenize_function_ex, tokenizer=tokenizer, explanations = shuffled_explanations['train'], use_mnli_format = USE_MNLI_PROMPT)\n",
        "tokenize_mapping_val = partial(tokenize_function_ex, tokenizer=tokenizer, explanations = shuffled_explanations['validation'], use_mnli_format = USE_MNLI_PROMPT)\n",
        "tokenize_mapping_test = partial(tokenize_function_ex, tokenizer=tokenizer, explanations = shuffled_explanations['test'], use_mnli_format = USE_MNLI_PROMPT)\n",
        "\n",
        "tokenize_mappings = (tokenize_mapping_train, tokenize_mapping_val, tokenize_mapping_test)"
      ]
    },
    {
      "cell_type": "code",
      "execution_count": 45,
      "metadata": {},
      "outputs": [
        {
          "name": "stderr",
          "output_type": "stream",
          "text": [
            "Map: 100%|██████████| 100000/100000 [00:07<00:00, 12946.75 examples/s]\n",
            "Map: 100%|██████████| 9842/9842 [00:00<00:00, 12472.20 examples/s]\n",
            "Map: 100%|██████████| 9824/9824 [00:00<00:00, 12552.67 examples/s]\n"
          ]
        }
      ],
      "source": [
        "train_tok_shex, valid_tok_shex, test_tok_shex = prepare_dataset(dataset, tokenize_mapping=tokenize_mappings, sizes=sizes)"
      ]
    },
    {
      "cell_type": "code",
      "execution_count": 46,
      "metadata": {},
      "outputs": [],
      "source": [
        "train_tok_shex = train_tok_shex.remove_columns([\"explanation_1\", \"explanation_2\", \"explanation_3\"])\n",
        "valid_tok_shex = valid_tok_shex.remove_columns([\"explanation_1\", \"explanation_2\", \"explanation_3\"])\n",
        "test_tok_shex = test_tok_shex.remove_columns([\"explanation_1\", \"explanation_2\", \"explanation_3\"])"
      ]
    },
    {
      "cell_type": "markdown",
      "metadata": {},
      "source": [
        "### Fine Tuning"
      ]
    },
    {
      "cell_type": "code",
      "execution_count": 47,
      "metadata": {},
      "outputs": [],
      "source": [
        "NUM_EPOCHS = 10"
      ]
    },
    {
      "cell_type": "code",
      "execution_count": 48,
      "metadata": {},
      "outputs": [],
      "source": [
        "model_ft_shex = T5ForConditionalGeneration.from_pretrained(\"t5-base\")\n",
        "data_collator_ft_shex = DataCollatorForSeq2Seq(tokenizer, model=model_ft_ex)"
      ]
    },
    {
      "cell_type": "code",
      "execution_count": 49,
      "metadata": {},
      "outputs": [],
      "source": [
        "training_args_ft_shex = Seq2SeqTrainingArguments(\n",
        "    **standard_args,\n",
        "    num_train_epochs=NUM_EPOCHS,\n",
        "    output_dir=\"task4\",\n",
        "    generation_max_length=128,\n",
        "    metric_for_best_model=\"accuracy\",\n",
        ")"
      ]
    },
    {
      "cell_type": "code",
      "execution_count": 50,
      "metadata": {},
      "outputs": [],
      "source": [
        "trainer_ft_shex = Seq2SeqTrainer(\n",
        "    model=model_ft_shex,\n",
        "    args=training_args_ft_shex,\n",
        "    train_dataset=train_tok_shex,\n",
        "    eval_dataset=valid_tok_shex,\n",
        "    compute_metrics=compute_metrics_ex,\n",
        "    data_collator=data_collator_ft_shex,\n",
        "    tokenizer=tokenizer,\n",
        ")"
      ]
    },
    {
      "cell_type": "code",
      "execution_count": 51,
      "metadata": {},
      "outputs": [
        {
          "name": "stderr",
          "output_type": "stream",
          "text": [
            "/home/aroncoli/.cache/pypoetry/virtualenvs/explainingexplanations-aYcCKpct-py3.10/lib/python3.10/site-packages/torch/nn/parallel/_functions.py:68: UserWarning: Was asked to gather along dimension 0, but all input tensors were scalars; will instead unsqueeze and return a vector.\n",
            "  warnings.warn('Was asked to gather along dimension 0, but all '\n"
          ]
        },
        {
          "data": {
            "text/html": [
              "\n",
              "    <div>\n",
              "      \n",
              "      <progress value='25001' max='31250' style='width:300px; height:20px; vertical-align: middle;'></progress>\n",
              "      [25001/31250 1:59:20 < 29:49, 3.49 it/s, Epoch 8/10]\n",
              "    </div>\n",
              "    <table border=\"1\" class=\"dataframe\">\n",
              "  <thead>\n",
              " <tr style=\"text-align: left;\">\n",
              "      <th>Epoch</th>\n",
              "      <th>Training Loss</th>\n",
              "      <th>Validation Loss</th>\n",
              "      <th>Accuracy</th>\n",
              "      <th>Explanation Average Similarity</th>\n",
              "    </tr>\n",
              "  </thead>\n",
              "  <tbody>\n",
              "    <tr>\n",
              "      <td>1</td>\n",
              "      <td>0.681900</td>\n",
              "      <td>3.292184</td>\n",
              "      <td>0.839362</td>\n",
              "      <td>0.143113</td>\n",
              "    </tr>\n",
              "    <tr>\n",
              "      <td>2</td>\n",
              "      <td>0.442600</td>\n",
              "      <td>3.809421</td>\n",
              "      <td>0.865271</td>\n",
              "      <td>0.122420</td>\n",
              "    </tr>\n",
              "    <tr>\n",
              "      <td>3</td>\n",
              "      <td>0.400200</td>\n",
              "      <td>4.001132</td>\n",
              "      <td>0.882849</td>\n",
              "      <td>0.116783</td>\n",
              "    </tr>\n",
              "    <tr>\n",
              "      <td>4</td>\n",
              "      <td>0.380800</td>\n",
              "      <td>4.119710</td>\n",
              "      <td>0.875127</td>\n",
              "      <td>0.160920</td>\n",
              "    </tr>\n",
              "    <tr>\n",
              "      <td>5</td>\n",
              "      <td>0.369600</td>\n",
              "      <td>4.199963</td>\n",
              "      <td>0.888539</td>\n",
              "      <td>0.124391</td>\n",
              "    </tr>\n",
              "    <tr>\n",
              "      <td>6</td>\n",
              "      <td>0.362900</td>\n",
              "      <td>4.268664</td>\n",
              "      <td>0.888539</td>\n",
              "      <td>0.155748</td>\n",
              "    </tr>\n",
              "    <tr>\n",
              "      <td>7</td>\n",
              "      <td>0.360000</td>\n",
              "      <td>4.297486</td>\n",
              "      <td>0.889047</td>\n",
              "      <td>0.100249</td>\n",
              "    </tr>\n",
              "  </tbody>\n",
              "</table><p>\n",
              "    <div>\n",
              "      \n",
              "      <progress value='308' max='308' style='width:300px; height:20px; vertical-align: middle;'></progress>\n",
              "      [308/308 01:08]\n",
              "    </div>\n",
              "    "
            ],
            "text/plain": [
              "<IPython.core.display.HTML object>"
            ]
          },
          "metadata": {},
          "output_type": "display_data"
        },
        {
          "name": "stderr",
          "output_type": "stream",
          "text": [
            "/home/aroncoli/.cache/pypoetry/virtualenvs/explainingexplanations-aYcCKpct-py3.10/lib/python3.10/site-packages/torch/nn/parallel/_functions.py:68: UserWarning: Was asked to gather along dimension 0, but all input tensors were scalars; will instead unsqueeze and return a vector.\n",
            "  warnings.warn('Was asked to gather along dimension 0, but all '\n",
            "/home/aroncoli/.cache/pypoetry/virtualenvs/explainingexplanations-aYcCKpct-py3.10/lib/python3.10/site-packages/torch/nn/parallel/_functions.py:68: UserWarning: Was asked to gather along dimension 0, but all input tensors were scalars; will instead unsqueeze and return a vector.\n",
            "  warnings.warn('Was asked to gather along dimension 0, but all '\n",
            "/home/aroncoli/.cache/pypoetry/virtualenvs/explainingexplanations-aYcCKpct-py3.10/lib/python3.10/site-packages/torch/nn/parallel/_functions.py:68: UserWarning: Was asked to gather along dimension 0, but all input tensors were scalars; will instead unsqueeze and return a vector.\n",
            "  warnings.warn('Was asked to gather along dimension 0, but all '\n",
            "/home/aroncoli/.cache/pypoetry/virtualenvs/explainingexplanations-aYcCKpct-py3.10/lib/python3.10/site-packages/torch/nn/parallel/_functions.py:68: UserWarning: Was asked to gather along dimension 0, but all input tensors were scalars; will instead unsqueeze and return a vector.\n",
            "  warnings.warn('Was asked to gather along dimension 0, but all '\n",
            "/home/aroncoli/.cache/pypoetry/virtualenvs/explainingexplanations-aYcCKpct-py3.10/lib/python3.10/site-packages/torch/nn/parallel/_functions.py:68: UserWarning: Was asked to gather along dimension 0, but all input tensors were scalars; will instead unsqueeze and return a vector.\n",
            "  warnings.warn('Was asked to gather along dimension 0, but all '\n",
            "/home/aroncoli/.cache/pypoetry/virtualenvs/explainingexplanations-aYcCKpct-py3.10/lib/python3.10/site-packages/torch/nn/parallel/_functions.py:68: UserWarning: Was asked to gather along dimension 0, but all input tensors were scalars; will instead unsqueeze and return a vector.\n",
            "  warnings.warn('Was asked to gather along dimension 0, but all '\n",
            "/home/aroncoli/.cache/pypoetry/virtualenvs/explainingexplanations-aYcCKpct-py3.10/lib/python3.10/site-packages/torch/nn/parallel/_functions.py:68: UserWarning: Was asked to gather along dimension 0, but all input tensors were scalars; will instead unsqueeze and return a vector.\n",
            "  warnings.warn('Was asked to gather along dimension 0, but all '\n"
          ]
        }
      ],
      "source": [
        "trainer_ft_shex.train()"
      ]
    },
    {
      "cell_type": "code",
      "execution_count": null,
      "metadata": {},
      "outputs": [
        {
          "name": "stderr",
          "output_type": "stream",
          "text": [
            "/home/aroncoli/.cache/pypoetry/virtualenvs/explainingexplanations-aYcCKpct-py3.10/lib/python3.10/site-packages/torch/nn/parallel/_functions.py:68: UserWarning: Was asked to gather along dimension 0, but all input tensors were scalars; will instead unsqueeze and return a vector.\n",
            "  warnings.warn('Was asked to gather along dimension 0, but all '\n"
          ]
        },
        {
          "data": {
            "text/html": [
              "\n",
              "    <div>\n",
              "      \n",
              "      <progress value='32' max='32' style='width:300px; height:20px; vertical-align: middle;'></progress>\n",
              "      [32/32 00:06]\n",
              "    </div>\n",
              "    "
            ],
            "text/plain": [
              "<IPython.core.display.HTML object>"
            ]
          },
          "metadata": {},
          "output_type": "display_data"
        },
        {
          "data": {
            "text/plain": [
              "{'eval_loss': 2.4039559364318848,\n",
              " 'eval_accuracy': 0.831,\n",
              " 'eval_average_similarity': 0.15863953530788422,\n",
              " 'eval_runtime': 13.6474,\n",
              " 'eval_samples_per_second': 73.274,\n",
              " 'eval_steps_per_second': 2.345,\n",
              " 'epoch': 5.0}"
            ]
          },
          "execution_count": 104,
          "metadata": {},
          "output_type": "execute_result"
        }
      ],
      "source": [
        "trainer_ft_shex.evaluate(test_tok_shex)"
      ]
    },
    {
      "cell_type": "markdown",
      "metadata": {},
      "source": [
        "## 2.5 Task 5: Profiling-UD"
      ]
    },
    {
      "cell_type": "markdown",
      "metadata": {},
      "source": [
        "### Read the results of the automatic annotation stage performed over explanations with Profilind-UD.\n",
        "\n",
        "1. **Token ID**: The token's position in the sentence.\n",
        "2. **Token**: The actual token text.\n",
        "3. **Lemma**: The lemma or base form of the token.\n",
        "4. Universal part-of-speech tag.\n",
        "5. Language-specific part-of-speech tag (optional).\n",
        "6. Miscellaneous (misc) field, which can contain additional annotations.\n",
        "7. Head: The ID of the token's syntactic head.\n",
        "8. Dependency relation: The type of syntactic relation between the token and its head.\n",
        "9. Secondary dependencies or additional annotations."
      ]
    },
    {
      "cell_type": "code",
      "execution_count": null,
      "metadata": {},
      "outputs": [],
      "source": [
        "import pandas as pd \n",
        "# Define the path to your CoNLL-U file\n",
        "conll_file_path = \"ex_files/explanations_train.conllu\"\n",
        "\n",
        "# Define column names for the CoNLL-U file\n",
        "column_names = [\n",
        "    \"ID\",\n",
        "    \"TOKEN\",\n",
        "    \"LEMMA\",\n",
        "    \"UPOS\",\n",
        "    \"XPOS\",\n",
        "    \"FEATS\",\n",
        "    \"HEAD\",\n",
        "    \"DEPREL\",\n",
        "    \"DEPS\",\n",
        "    \"MISC\"\n",
        "]\n",
        "\n",
        "# Read the CoNLL-U file into a DataFrame\n",
        "df = pd.read_csv(conll_file_path, delimiter='\\t', comment='#', header=None, names=column_names)\n",
        "\n",
        "# Reset the index to create a numeric index\n",
        "df.reset_index(drop=True, inplace=True)\n",
        "\n",
        "# Display the DataFrame\n",
        "df[:15]"
      ]
    },
    {
      "cell_type": "code",
      "execution_count": null,
      "metadata": {},
      "outputs": [],
      "source": [
        "df['SAMPLE'] = None\n",
        "\n",
        "sample = 0\n",
        "for index, row in df.iterrows():\n",
        "    if(row[\"ID\"]==1):\n",
        "        sample = sample+1\n",
        "    df.at[index, \"SAMPLE\"] = sample"
      ]
    },
    {
      "cell_type": "markdown",
      "metadata": {},
      "source": [
        "### Prepare the dataset with modified explanations"
      ]
    },
    {
      "cell_type": "code",
      "execution_count": null,
      "metadata": {},
      "outputs": [],
      "source": [
        "# Define the input and output file paths\n",
        "output_file = \"ex_files/modified_explanations_1.txt\"\n",
        "\n",
        "# Write the shuffled lines to the output file\n",
        "with open(output_file, \"w\") as f:\n",
        "    for i in range(N_TRAIN):\n",
        "        df_i = df.loc[df[\"SAMPLE\"]==i]\n",
        "        modified_exp = ' '.join(df[\"LEMMA\"].values)\n",
        "        f.writelines(modified_exp)"
      ]
    },
    {
      "cell_type": "code",
      "execution_count": null,
      "metadata": {},
      "outputs": [],
      "source": [
        "with open(\"ex_files/modified_explanations_1.txt\", \"r\") as f:\n",
        "    explanations_m1 = f.readlines()"
      ]
    },
    {
      "cell_type": "code",
      "execution_count": null,
      "metadata": {},
      "outputs": [],
      "source": [
        "# Define the input and output file paths\n",
        "output_file = \"ex_files/modified_explanations_1.txt\"\n",
        "\n",
        "# Write the shuffled lines to the output file\n",
        "with open(output_file, \"w\") as f:\n",
        "    for i in range(N_TRAIN):\n",
        "        df_i = df.loc[df[\"SAMPLE\"]==i]\n",
        "        modified_exp = ' '.join(df[\"LEMMA\"].values)\n",
        "        f.writelines(modified_exp)"
      ]
    },
    {
      "cell_type": "code",
      "execution_count": null,
      "metadata": {},
      "outputs": [],
      "source": [
        "with open(\"ex_files/modified_explanations_1.txt\", \"r\") as f:\n",
        "    explanations_m1 = f.readlines()"
      ]
    }
  ],
  "metadata": {
    "accelerator": "TPU",
    "colab": {
      "collapsed_sections": [
        "UZvGBSfFEWLv",
        "FFt0woXsEWLx",
        "RxesGnaFEWLz",
        "DQvhd35vEWL1",
        "s4SNHcxuEWL3",
        "bQoQE4naEWL4",
        "BMD_Zq5zEWL4"
      ],
      "include_colab_link": true,
      "provenance": []
    },
    "kernelspec": {
      "display_name": "Python 3",
      "name": "python3"
    },
    "language_info": {
      "codemirror_mode": {
        "name": "ipython",
        "version": 3
      },
      "file_extension": ".py",
      "mimetype": "text/x-python",
      "name": "python",
      "nbconvert_exporter": "python",
      "pygments_lexer": "ipython3",
      "version": "3.10.12"
    }
  },
  "nbformat": 4,
  "nbformat_minor": 0
}
