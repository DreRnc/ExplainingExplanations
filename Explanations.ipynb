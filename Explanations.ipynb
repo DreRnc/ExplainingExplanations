{
  "cells": [
    {
      "cell_type": "markdown",
      "metadata": {
        "colab_type": "text",
        "id": "view-in-github"
      },
      "source": [
        "<a href=\"https://colab.research.google.com/github/DreRnc/ExplainingExplanations/blob/torch/Explanations.ipynb\" target=\"_parent\"><img src=\"https://colab.research.google.com/assets/colab-badge.svg\" alt=\"Open In Colab\"/></a>"
      ]
    },
    {
      "cell_type": "markdown",
      "metadata": {
        "id": "4H972d7y9V7J"
      },
      "source": [
        "Dataset : **E-SNLI**. \\\n",
        "Model : **Small T5**."
      ]
    },
    {
      "cell_type": "code",
      "execution_count": null,
      "metadata": {},
      "outputs": [],
      "source": [
        "colab = False"
      ]
    },
    {
      "cell_type": "code",
      "execution_count": 1,
      "metadata": {
        "colab": {
          "base_uri": "https://localhost:8080/"
        },
        "id": "cpKHbnzGEWLt",
        "outputId": "4e2e9cd2-5129-4a21-b1e6-fe30647eb165"
      },
      "outputs": [
        {
          "ename": "SyntaxError",
          "evalue": "invalid syntax. Maybe you meant '==' or ':=' instead of '='? (1711734592.py, line 1)",
          "output_type": "error",
          "traceback": [
            "\u001b[0;36m  Cell \u001b[0;32mIn[1], line 1\u001b[0;36m\u001b[0m\n\u001b[0;31m    if colab = True # !git clone https://github.com/DreRnc/ExplainingExplanations.git\u001b[0m\n\u001b[0m       ^\u001b[0m\n\u001b[0;31mSyntaxError\u001b[0m\u001b[0;31m:\u001b[0m invalid syntax. Maybe you meant '==' or ':=' instead of '='?\n"
          ]
        }
      ],
      "source": [
        "if colab:\n",
        "    !git clone https://github.com/DreRnc/ExplainingExplanations.git\n",
        "    %cd ExplainingExplanations\n",
        "    !pip install -r requirements.txt"
      ]
    },
    {
      "cell_type": "markdown",
      "metadata": {
        "id": "yYNhbZhXEWLu"
      },
      "source": [
        "# 1.0 Preparation\n"
      ]
    },
    {
      "cell_type": "markdown",
      "metadata": {
        "id": "UZvGBSfFEWLv"
      },
      "source": [
        "## 1.1 Loading Dataset"
      ]
    },
    {
      "cell_type": "code",
      "execution_count": null,
      "metadata": {
        "id": "0kOOUYl19UHq"
      },
      "outputs": [],
      "source": [
        "from datasets import load_dataset\n",
        "\n",
        "dataset = load_dataset(\"esnli\")"
      ]
    },
    {
      "cell_type": "code",
      "execution_count": null,
      "metadata": {
        "colab": {
          "base_uri": "https://localhost:8080/"
        },
        "id": "Zugxo8WgEWLw",
        "outputId": "dddf92d4-3262-405d-f03c-7f3a5466fa31"
      },
      "outputs": [],
      "source": [
        "training_set = dataset[\"train\"]\n",
        "validation_set = dataset[\"validation\"]\n",
        "test_set = dataset[\"test\"]\n",
        "\n",
        "print(\"Shape of training_set: \", training_set.shape)\n",
        "print(\"Shae of validation_set: \", validation_set.shape)\n",
        "print(\"Shape of test_set: \", test_set.shape)"
      ]
    },
    {
      "cell_type": "code",
      "execution_count": null,
      "metadata": {
        "colab": {
          "base_uri": "https://localhost:8080/"
        },
        "id": "k8kaX3QbEWLw",
        "outputId": "efbf320d-1f23-42c4-eec9-47538a124c77"
      },
      "outputs": [],
      "source": [
        "training_set[0]"
      ]
    },
    {
      "cell_type": "code",
      "execution_count": null,
      "metadata": {
        "colab": {
          "base_uri": "https://localhost:8080/"
        },
        "id": "SLgS-BVbEWLx",
        "outputId": "7bf1a5f3-d513-4f69-fe7c-86bdcee5932d"
      },
      "outputs": [],
      "source": [
        "n_train = n_valid = n_test = 5000\n",
        "\n",
        "train_small = training_set.select(range(n_train))\n",
        "valid_small = validation_set.select(range(n_valid))\n",
        "test_small = test_set.select(range(n_test))\n",
        "\n",
        "print(\"Shape of train_small: \", train_small.shape)\n",
        "print(\"Shape of valid_small: \", valid_small.shape)\n",
        "print(\"Shape of test_small: \", test_small.shape)"
      ]
    },
    {
      "cell_type": "markdown",
      "metadata": {
        "id": "FFt0woXsEWLx"
      },
      "source": [
        "## 1.2 Loading T5 Model"
      ]
    },
    {
      "cell_type": "code",
      "execution_count": null,
      "metadata": {
        "colab": {
          "base_uri": "https://localhost:8080/"
        },
        "id": "jyczhxOR-jwU",
        "outputId": "2037d920-557e-4323-d491-32240ec8d274"
      },
      "outputs": [],
      "source": [
        "from transformers import T5Tokenizer, T5ForConditionalGeneration\n",
        "\n",
        "tokenizer = T5Tokenizer.from_pretrained(\"t5-small\")\n",
        "model = T5ForConditionalGeneration.from_pretrained(\"t5-small\")"
      ]
    },
    {
      "cell_type": "markdown",
      "metadata": {
        "id": "g1nc40MHGQQx"
      },
      "source": [
        "Test **zero-shot** on a random task."
      ]
    },
    {
      "cell_type": "code",
      "execution_count": null,
      "metadata": {
        "colab": {
          "base_uri": "https://localhost:8080/"
        },
        "id": "CKG-so0--7ug",
        "outputId": "34391740-8351-4a3c-e74f-d15e2771c0b7"
      },
      "outputs": [],
      "source": [
        "input_ids = tokenizer(\n",
        "    \"translate English to French: Hello Dre, I think the English version is ok for us.\",\n",
        "    return_tensors=\"pt\",\n",
        ").input_ids\n",
        "outputs = model.generate(input_ids, max_new_tokens=100)\n",
        "\n",
        "print(tokenizer.decode(outputs[0], skip_special_tokens=True, max_length=100))"
      ]
    },
    {
      "cell_type": "markdown",
      "metadata": {
        "id": "RxesGnaFEWLz"
      },
      "source": [
        "## 1.3 Zero-shot example to Verify Everything is Working"
      ]
    },
    {
      "cell_type": "code",
      "execution_count": null,
      "metadata": {
        "id": "oVqJLHXJEWLz"
      },
      "outputs": [],
      "source": [
        "from src.utils import generate_prompt_mnli"
      ]
    },
    {
      "cell_type": "code",
      "execution_count": null,
      "metadata": {
        "colab": {
          "base_uri": "https://localhost:8080/"
        },
        "id": "BZILJcgoDO9b",
        "outputId": "537fb2d2-34d2-479d-d761-6d7b3ae856ad"
      },
      "outputs": [],
      "source": [
        "example = training_set[0]\n",
        "example"
      ]
    },
    {
      "cell_type": "markdown",
      "metadata": {
        "id": "ezSzRF_PEWLz"
      },
      "source": [
        "Generating the prompt:\n",
        "\n",
        "<b><u> mnli hypothesis: </b></u> The St. Louis Cardinals have always won. <b><u> premise: </b></u> yeah well losing is i mean i’m i’m originally from Saint Louis and Saint Louis Cardinals when they were there were uh a mostly a losing team but\n",
        "\n",
        "Output:\n",
        "* 0: Entailment\n",
        "* 1: Neutral\n",
        "* 2: Contradiction"
      ]
    },
    {
      "cell_type": "code",
      "execution_count": null,
      "metadata": {
        "colab": {
          "base_uri": "https://localhost:8080/",
          "height": 35
        },
        "id": "7D2MQG6qJYnI",
        "outputId": "daa5b5fa-502b-4f27-d1b0-89aa7d77ebd4"
      },
      "outputs": [],
      "source": [
        "prompt = generate_prompt_mnli(example)\n",
        "prompt"
      ]
    },
    {
      "cell_type": "code",
      "execution_count": null,
      "metadata": {
        "colab": {
          "base_uri": "https://localhost:8080/"
        },
        "id": "C1roa6HcIi3e",
        "outputId": "e5bf0477-f40e-47ba-8c12-dd2a6bcf9ff2"
      },
      "outputs": [],
      "source": [
        "input_ids = tokenizer(prompt, return_tensors=\"pt\").input_ids\n",
        "\n",
        "outputs = model.generate(input_ids)\n",
        "\n",
        "print(tokenizer.decode(outputs[0], skip_special_tokens=True))"
      ]
    },
    {
      "cell_type": "markdown",
      "metadata": {
        "id": "DQvhd35vEWL1"
      },
      "source": [
        "## 1.4  Tokenize the dataset"
      ]
    },
    {
      "cell_type": "code",
      "execution_count": null,
      "metadata": {
        "colab": {
          "base_uri": "https://localhost:8080/"
        },
        "id": "BfF032XGEWL1",
        "outputId": "a070c406-29fb-4d66-b970-632c0c9d6fe6"
      },
      "outputs": [],
      "source": [
        "train_small.info"
      ]
    },
    {
      "cell_type": "code",
      "execution_count": null,
      "metadata": {
        "colab": {
          "base_uri": "https://localhost:8080/"
        },
        "id": "SYweTWpKEWL1",
        "outputId": "b073b45e-47a0-4a69-f74f-6743a17cc8bf"
      },
      "outputs": [],
      "source": [
        "train_small[0][\"prompt\"] = \"hello\"\n",
        "\n",
        "train_small[0]"
      ]
    },
    {
      "cell_type": "code",
      "execution_count": null,
      "metadata": {
        "colab": {
          "base_uri": "https://localhost:8080/"
        },
        "id": "K6EukG0TEWL1",
        "outputId": "819f2410-22f5-447e-9657-43f91b7503ed"
      },
      "outputs": [],
      "source": [
        "train_small.features"
      ]
    },
    {
      "cell_type": "code",
      "execution_count": null,
      "metadata": {
        "id": "HbuROCKBEWL2"
      },
      "outputs": [],
      "source": [
        "from functools import partial\n",
        "from src.utils import tokenize_function\n",
        "import time"
      ]
    },
    {
      "cell_type": "code",
      "execution_count": null,
      "metadata": {
        "id": "IlQmLxMtEWL2"
      },
      "outputs": [],
      "source": [
        "tokenize_mapping = partial(tokenize_function, tokenizer=tokenizer)"
      ]
    },
    {
      "cell_type": "code",
      "execution_count": null,
      "metadata": {
        "colab": {
          "base_uri": "https://localhost:8080/"
        },
        "id": "yRqHwqpOEWL3",
        "outputId": "b9352e7a-1429-4510-d5f6-a9fd2697102e"
      },
      "outputs": [],
      "source": [
        "time_init = time.time()\n",
        "train_small_tokenized = train_small.map(tokenize_mapping, batched=True).with_format(\"torch\")\n",
        "valid_small_tokenized = valid_small.map(tokenize_mapping, batched=True).with_format(\"torch\")\n",
        "test_small_tokenized = test_small.map(tokenize_mapping, batched=True).with_format(\"torch\")\n",
        "time_end = time.time()\n",
        "\n",
        "print(\"Time taken to tokenize: \", time_end - time_init)\n",
        "print(\"Shape of train_small_tokenized: \", train_small_tokenized.shape)\n",
        "print(\"Shape of valid_small_tokenized: \", valid_small_tokenized.shape)\n",
        "print(\"Shape of test_small_tokenized: \", test_small_tokenized.shape)"
      ]
    },
    {
      "cell_type": "code",
      "execution_count": null,
      "metadata": {
        "colab": {
          "base_uri": "https://localhost:8080/",
          "height": 381
        },
        "id": "SKgn7mee5Z0B",
        "outputId": "e358316f-bf69-4857-ba1c-f9ace1ab8e45"
      },
      "outputs": [],
      "source": [
        "train_small_tokenized = train_small_tokenized.rename_column(\"label\", \"labels\")\n",
        "train_small_tokenized = train_small_tokenized.remove_columns([\"premise\", \"hypothesis\", \"explanation_1\", \"explanation_2\", \"explanation_3\"])\n",
        "\n",
        "valid_small_tokenized = valid_small_tokenized.rename_column(\"label\", \"labels\")\n",
        "valid_small_tokenized = valid_small_tokenized.remove_columns([\"premise\", \"hypothesis\", \"explanation_1\", \"explanation_2\", \"explanation_3\"])\n",
        "\n",
        "test_small_tokenized = test_small_tokenized.rename_column(\"label\", \"labels\")\n",
        "test_small_tokenized = test_small_tokenized.remove_columns([\"premise\", \"hypothesis\", \"explanation_1\", \"explanation_2\", \"explanation_3\"])"
      ]
    },
    {
      "cell_type": "code",
      "execution_count": null,
      "metadata": {
        "colab": {
          "base_uri": "https://localhost:8080/"
        },
        "id": "h07uqsc25Z0B",
        "outputId": "4141ae96-7a7e-4cd3-ec25-9cddf2394c90"
      },
      "outputs": [],
      "source": [
        "train_small_tokenized.features"
      ]
    },
    {
      "cell_type": "code",
      "execution_count": null,
      "metadata": {
        "id": "x3lJR2hU5Z0C"
      },
      "outputs": [],
      "source": [
        "from torch.utils.data import DataLoader"
      ]
    },
    {
      "cell_type": "code",
      "execution_count": null,
      "metadata": {
        "id": "19lyOdUl5Z0C"
      },
      "outputs": [],
      "source": [
        "train_dataloader = DataLoader(train_small_tokenized, shuffle=True, batch_size=8)\n",
        "eval_dataloader = DataLoader(valid_small_tokenized, batch_size=8)\n",
        "test_dataloader = DataLoader(test_small_tokenized, batch_size=8)"
      ]
    },
    {
      "cell_type": "markdown",
      "metadata": {
        "id": "s4SNHcxuEWL3"
      },
      "source": [
        "# 2.0 Task 1: Zero-shot evaluation"
      ]
    },
    {
      "cell_type": "code",
      "execution_count": null,
      "metadata": {
        "id": "MOwNiKJdEWL3"
      },
      "outputs": [],
      "source": [
        "from src.utils import convert_labels\n",
        "from tqdm import tqdm\n",
        "import torch\n",
        "import evaluate"
      ]
    },
    {
      "cell_type": "code",
      "execution_count": null,
      "metadata": {
        "colab": {
          "base_uri": "https://localhost:8080/"
        },
        "id": "7aL8g0625yUD",
        "outputId": "0c639e56-905c-479a-819f-3db8512adc7f"
      },
      "outputs": [],
      "source": [
        "if torch.cuda.is_available():\n",
        "    device = torch.device('cuda')\n",
        "else:\n",
        "    device = torch.device('cpu')\n",
        "\n",
        "model.to(device)\n",
        "device"
      ]
    },
    {
      "cell_type": "code",
      "execution_count": null,
      "metadata": {
        "colab": {
          "base_uri": "https://localhost:8080/",
          "height": 268
        },
        "id": "fxSLJWA66tpk",
        "outputId": "18b90d12-68d5-44cd-e7ea-7ea3551a9ce7"
      },
      "outputs": [],
      "source": [
        "metric = evaluate.load(\"accuracy\")\n",
        "model.eval()\n",
        "\n",
        "progress_bar = tqdm(range(len(test_dataloader)))\n",
        "\n",
        "for batch in test_dataloader:\n",
        "    batch = {k: v.to(device) for k, v in batch.items()}\n",
        "    with torch.no_grad():\n",
        "        outputs = model.generate(**batch)\n",
        "        output = tokenizer.batch_decode(outputs, skip_special_tokens=True, max_length=100)\n",
        "        preds = convert_labels(output)\n",
        "\n",
        "    metric.add_batch(\n",
        "        predictions=preds,\n",
        "        references=batch[\"labels\"],\n",
        "    )\n",
        "\n",
        "    progress_bar.update(1)\n",
        "\n",
        "metric.compute()"
      ]
    },
    {
      "cell_type": "markdown",
      "metadata": {
        "id": "bQoQE4naEWL4"
      },
      "source": [
        "# 3.0 Task 2: Fine tuning without explanations"
      ]
    },
    {
      "cell_type": "code",
      "execution_count": null,
      "metadata": {},
      "outputs": [],
      "source": [
        "from torch.optim import AdamW\n",
        "\n",
        "optimizer = AdamW(model.parameters(), lr=5e-5)"
      ]
    },
    {
      "cell_type": "code",
      "execution_count": null,
      "metadata": {},
      "outputs": [],
      "source": [
        "import torch.nn as nn\n",
        "loss = nn.CrossEntropyLoss()"
      ]
    },
    {
      "cell_type": "code",
      "execution_count": null,
      "metadata": {},
      "outputs": [],
      "source": [
        "from transformers import get_scheduler\n",
        "\n",
        "num_epochs = 3\n",
        "num_training_steps = num_epochs * len(train_dataloader)\n",
        "lr_scheduler = get_scheduler(\n",
        "    name=\"linear\", optimizer=optimizer, num_warmup_steps=0, num_training_steps=num_training_steps\n",
        ")"
      ]
    },
    {
      "cell_type": "code",
      "execution_count": null,
      "metadata": {},
      "outputs": [],
      "source": [
        "progress_bar = tqdm(range(num_training_steps))\n",
        "\n",
        "model.train()\n",
        "for epoch in range(num_epochs):\n",
        "    for batch in train_dataloader:\n",
        "\n",
        "        optimizer.zero_grad()\n",
        "\n",
        "        batch = {k: v.to(device) for k, v in batch.items()}\n",
        "        outputs = model.generate(**batch)\n",
        "        output = tokenizer.batch_decode(outputs, skip_special_tokens=True, max_length=100)\n",
        "        preds = convert_labels(output)\n",
        "\n",
        "        loss_value = loss(preds, batch[\"labels\"])\n",
        "        loss_value.backward()\n",
        "\n",
        "        optimizer.step()\n",
        "        lr_scheduler.step()\n",
        "\n",
        "        progress_bar.update(1)"
      ]
    },
    {
      "cell_type": "markdown",
      "metadata": {
        "id": "BMD_Zq5zEWL4"
      },
      "source": [
        "# 4.0 Task 4: Making the model generate explanations"
      ]
    },
    {
      "cell_type": "code",
      "execution_count": null,
      "metadata": {
        "id": "fnW0W89cEWL4"
      },
      "outputs": [],
      "source": []
    }
  ],
  "metadata": {
    "accelerator": "GPU",
    "colab": {
      "collapsed_sections": [
        "UZvGBSfFEWLv",
        "FFt0woXsEWLx",
        "RxesGnaFEWLz",
        "DQvhd35vEWL1",
        "s4SNHcxuEWL3",
        "bQoQE4naEWL4",
        "BMD_Zq5zEWL4"
      ],
      "gpuType": "T4",
      "include_colab_link": true,
      "provenance": []
    },
    "kernelspec": {
      "display_name": "Python 3",
      "name": "python3"
    },
    "language_info": {
      "codemirror_mode": {
        "name": "ipython",
        "version": 3
      },
      "file_extension": ".py",
      "mimetype": "text/x-python",
      "name": "python",
      "nbconvert_exporter": "python",
      "pygments_lexer": "ipython3",
      "version": "3.10.8"
    }
  },
  "nbformat": 4,
  "nbformat_minor": 0
}
