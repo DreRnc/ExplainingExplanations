{
  "cells": [
    {
      "cell_type": "markdown",
      "metadata": {
        "colab_type": "text",
        "id": "view-in-github"
      },
      "source": [
        "<a href=\"https://colab.research.google.com/github/DreRnc/ExplainingExplanations/blob/main/Explanations.ipynb\" target=\"_parent\"><img src=\"https://colab.research.google.com/assets/colab-badge.svg\" alt=\"Open In Colab\"/></a>"
      ]
    },
    {
      "cell_type": "markdown",
      "metadata": {
        "id": "4H972d7y9V7J"
      },
      "source": [
        "Dataset : **E-SNLI**. \\\n",
        "Model : **Small T5**."
      ]
    },
    {
      "cell_type": "code",
      "execution_count": null,
      "metadata": {
        "id": "TBH5vSaqfXWE"
      },
      "outputs": [],
      "source": [
        "colab = True"
      ]
    },
    {
      "cell_type": "code",
      "execution_count": null,
      "metadata": {
        "id": "58JHIUgbfXWG"
      },
      "outputs": [],
      "source": [
        "if colab:\n",
        "    !git clone https://github.com/DreRnc/ExplainingExplanations.git\n",
        "    %cd ExplainingExplanations\n",
        "    %pip install -r requirements.txt\n",
        "    !git checkout seq2seq"
      ]
    },
    {
      "cell_type": "markdown",
      "metadata": {
        "id": "yYNhbZhXEWLu"
      },
      "source": [
        "# 1.0 Preparation\n"
      ]
    },
    {
      "cell_type": "markdown",
      "metadata": {
        "id": "UZvGBSfFEWLv"
      },
      "source": [
        "## 1.1 Loading Dataset"
      ]
    },
    {
      "cell_type": "code",
      "execution_count": null,
      "metadata": {
        "id": "0kOOUYl19UHq"
      },
      "outputs": [],
      "source": [
        "from datasets import load_dataset\n",
        "\n",
        "dataset = load_dataset(\"esnli\", download_mode=\"FORCE_REDOWNLOAD\")"
      ]
    },
    {
      "cell_type": "code",
      "execution_count": null,
      "metadata": {
        "id": "Zugxo8WgEWLw"
      },
      "outputs": [],
      "source": [
        "training_set = dataset[\"train\"]\n",
        "validation_set = dataset[\"validation\"]\n",
        "test_set = dataset[\"test\"]\n",
        "\n",
        "print(\"Shape of training_set: \", training_set.shape)\n",
        "print(\"Shae of validation_set: \", validation_set.shape)\n",
        "print(\"Shape of test_set: \", test_set.shape)"
      ]
    },
    {
      "cell_type": "code",
      "execution_count": null,
      "metadata": {
        "id": "k8kaX3QbEWLw"
      },
      "outputs": [],
      "source": [
        "training_set[0]"
      ]
    },
    {
      "cell_type": "code",
      "execution_count": null,
      "metadata": {
        "id": "SLgS-BVbEWLx"
      },
      "outputs": [],
      "source": [
        "n_train = 10000\n",
        "n_valid = n_test = 10000\n",
        "\n",
        "train_small = training_set.select(range(n_train))\n",
        "valid_small = validation_set.select(range(n_valid))\n",
        "test_small = test_set.select(range(n_test))\n",
        "\n",
        "print(\"Shape of train_small: \", train_small.shape)\n",
        "print(\"Shape of valid_small: \", valid_small.shape)\n",
        "print(\"Shape of test_small: \", test_small.shape)"
      ]
    },
    {
      "cell_type": "markdown",
      "metadata": {
        "id": "FFt0woXsEWLx"
      },
      "source": [
        "## 1.2 Loading T5 Model"
      ]
    },
    {
      "cell_type": "code",
      "execution_count": null,
      "metadata": {
        "id": "jyczhxOR-jwU"
      },
      "outputs": [],
      "source": [
        "from transformers import T5Tokenizer, T5ForConditionalGeneration\n",
        "\n",
        "tokenizer = T5Tokenizer.from_pretrained(\"t5-small\")\n",
        "model = T5ForConditionalGeneration.from_pretrained(\"t5-small\")"
      ]
    },
    {
      "cell_type": "markdown",
      "metadata": {
        "id": "g1nc40MHGQQx"
      },
      "source": [
        "Test **zero-shot** on a random task."
      ]
    },
    {
      "cell_type": "code",
      "execution_count": null,
      "metadata": {
        "id": "CKG-so0--7ug"
      },
      "outputs": [],
      "source": [
        "input_ids = tokenizer(\n",
        "    \"translate English to French: Hello Dre, I think the English version is ok for us.\",\n",
        "    return_tensors=\"pt\",\n",
        ").input_ids\n",
        "outputs = model.generate(input_ids, max_length = 20)\n",
        "\n",
        "print(tokenizer.decode(outputs[0], skip_special_tokens=True, max_length=20))"
      ]
    },
    {
      "cell_type": "markdown",
      "metadata": {
        "id": "RxesGnaFEWLz"
      },
      "source": [
        "## 1.3 Zero-shot example to Verify Everything is Working"
      ]
    },
    {
      "cell_type": "code",
      "execution_count": null,
      "metadata": {
        "id": "oVqJLHXJEWLz"
      },
      "outputs": [],
      "source": [
        "from src.utils import generate_prompt_mnli"
      ]
    },
    {
      "cell_type": "code",
      "execution_count": null,
      "metadata": {
        "id": "BZILJcgoDO9b"
      },
      "outputs": [],
      "source": [
        "example = training_set[0]\n",
        "example"
      ]
    },
    {
      "cell_type": "markdown",
      "metadata": {
        "id": "ezSzRF_PEWLz"
      },
      "source": [
        "Generating the prompt:\n",
        "\n",
        "<b><u> mnli hypothesis: </b></u> The St. Louis Cardinals have always won. <b><u> premise: </b></u> yeah well losing is i mean i’m i’m originally from Saint Louis and Saint Louis Cardinals when they were there were uh a mostly a losing team but\n",
        "\n",
        "Output:\n",
        "* 0: Entailment\n",
        "* 1: Neutral\n",
        "* 2: Contradiction"
      ]
    },
    {
      "cell_type": "code",
      "execution_count": null,
      "metadata": {
        "id": "7D2MQG6qJYnI"
      },
      "outputs": [],
      "source": [
        "prompt = generate_prompt_mnli(example)\n",
        "prompt"
      ]
    },
    {
      "cell_type": "code",
      "execution_count": null,
      "metadata": {
        "id": "C1roa6HcIi3e"
      },
      "outputs": [],
      "source": [
        "input_ids = tokenizer(prompt, return_tensors=\"pt\").input_ids\n",
        "\n",
        "outputs = model.generate(input_ids)\n",
        "print(outputs)\n",
        "print('Shape of outputs:', outputs.shape)\n",
        "print('Shape of outputs[0]:', outputs[0].shape)\n",
        "\n",
        "print(tokenizer.decode(outputs[0], skip_special_tokens=True))"
      ]
    },
    {
      "cell_type": "markdown",
      "metadata": {
        "id": "DQvhd35vEWL1"
      },
      "source": [
        "## 1.4  Tokenize the dataset"
      ]
    },
    {
      "cell_type": "code",
      "execution_count": null,
      "metadata": {
        "id": "BfF032XGEWL1"
      },
      "outputs": [],
      "source": [
        "train_small.info"
      ]
    },
    {
      "cell_type": "code",
      "execution_count": null,
      "metadata": {
        "id": "K6EukG0TEWL1"
      },
      "outputs": [],
      "source": [
        "train_small.features"
      ]
    },
    {
      "cell_type": "code",
      "execution_count": null,
      "metadata": {
        "id": "HbuROCKBEWL2"
      },
      "outputs": [],
      "source": [
        "from functools import partial\n",
        "from src.utils import tokenize_function\n",
        "import time"
      ]
    },
    {
      "cell_type": "code",
      "execution_count": null,
      "metadata": {
        "id": "IlQmLxMtEWL2"
      },
      "outputs": [],
      "source": [
        "tokenize_mapping = partial(tokenize_function, tokenizer=tokenizer)"
      ]
    },
    {
      "cell_type": "code",
      "execution_count": null,
      "metadata": {
        "id": "yRqHwqpOEWL3"
      },
      "outputs": [],
      "source": [
        "time_init = time.time()\n",
        "train_small_tokenized = train_small.map(tokenize_mapping, batched=True).with_format(\"torch\")\n",
        "valid_small_tokenized = valid_small.map(tokenize_mapping, batched=True).with_format(\"torch\")\n",
        "test_small_tokenized = test_small.map(tokenize_mapping, batched=True).with_format(\"torch\")\n",
        "time_end = time.time()\n",
        "\n",
        "print(\"Time taken to tokenize: \", time_end - time_init)\n",
        "print(\"Shape of train_small_tokenized: \", train_small_tokenized.shape)\n",
        "print(\"Shape of valid_small_tokenized: \", valid_small_tokenized.shape)\n",
        "print(\"Shape of test_small_tokenized: \", test_small_tokenized.shape)"
      ]
    },
    {
      "cell_type": "code",
      "execution_count": null,
      "metadata": {},
      "outputs": [],
      "source": [
        "train_small_tokenized = train_small_tokenized.remove_columns(['label'])\n",
        "valid_small_tokenized = valid_small_tokenized.remove_columns(['label'])\n",
        "test_small_tokenized = test_small_tokenized.remove_columns(['label'])"
      ]
    },
    {
      "cell_type": "code",
      "execution_count": null,
      "metadata": {
        "id": "YH_OYIlBfXWR"
      },
      "outputs": [],
      "source": [
        "train_small_tokenized.features"
      ]
    },
    {
      "cell_type": "markdown",
      "metadata": {
        "id": "s4SNHcxuEWL3"
      },
      "source": [
        "# 2.0 Tasks"
      ]
    },
    {
      "cell_type": "code",
      "execution_count": null,
      "metadata": {
        "id": "2DSm47RYGNvZ"
      },
      "outputs": [],
      "source": [
        "import torch\n",
        "import evaluate\n",
        "from src.utils import compute_metrics, eval_pred_transform_accuracy\n",
        "from transformers import Seq2SeqTrainingArguments, Seq2SeqTrainer, T5ForConditionalGeneration, DataCollatorForSeq2Seq\n"
      ]
    },
    {
      "cell_type": "code",
      "execution_count": null,
      "metadata": {
        "id": "iOK0x-lEfXWR"
      },
      "outputs": [],
      "source": [
        "if torch.cuda.is_available():\n",
        "    device = torch.device('cuda')\n",
        "else:\n",
        "    device = torch.device('cpu')\n",
        "\n",
        "model.to(device)\n",
        "device"
      ]
    },
    {
      "cell_type": "code",
      "execution_count": null,
      "metadata": {},
      "outputs": [],
      "source": [
        "transform_accuracy = partial(eval_pred_transform_accuracy, tokenizer = tokenizer)\n",
        "compute_accuracy = partial(compute_metrics, pred_transform=transform_accuracy, metric = evaluate.load('accuracy'))"
      ]
    },
    {
      "cell_type": "markdown",
      "metadata": {},
      "source": [
        "## 2.1 Task 1: Zero-shot evaluation"
      ]
    },
    {
      "cell_type": "code",
      "execution_count": null,
      "metadata": {},
      "outputs": [],
      "source": [
        "model = T5ForConditionalGeneration.from_pretrained(\"t5-small\")\n",
        "data_collator = DataCollatorForSeq2Seq(tokenizer, model=model)"
      ]
    },
    {
      "cell_type": "code",
      "execution_count": null,
      "metadata": {},
      "outputs": [],
      "source": [
        "training_args = Seq2SeqTrainingArguments(\n",
        "    output_dir=\"task1\",\n",
        "    predict_with_generate=True,\n",
        "    per_device_eval_batch_size=16,\n",
        "    generation_max_length=32,\n",
        ")"
      ]
    },
    {
      "cell_type": "code",
      "execution_count": null,
      "metadata": {},
      "outputs": [],
      "source": [
        "trainer = Seq2SeqTrainer(\n",
        "    model=model,\n",
        "    args=training_args,\n",
        "    train_dataset=train_small_tokenized,\n",
        "    eval_dataset=valid_small_tokenized,\n",
        "    compute_metrics=compute_accuracy,\n",
        "    data_collator=data_collator,\n",
        "    tokenizer=tokenizer,\n",
        ")"
      ]
    },
    {
      "cell_type": "code",
      "execution_count": null,
      "metadata": {},
      "outputs": [],
      "source": [
        "trainer.evaluate(test_small_tokenized)"
      ]
    },
    {
      "cell_type": "markdown",
      "metadata": {
        "id": "bQoQE4naEWL4"
      },
      "source": [
        "## 2.2 Task 2: Fine tuning without explanations"
      ]
    },
    {
      "cell_type": "code",
      "execution_count": null,
      "metadata": {},
      "outputs": [],
      "source": [
        "model_ft = T5ForConditionalGeneration.from_pretrained(\"t5-small\")\n",
        "data_collator_ft = DataCollatorForSeq2Seq(tokenizer, model=model_ft)"
      ]
    },
    {
      "cell_type": "code",
      "execution_count": null,
      "metadata": {
        "id": "OHxW0vUdGLSa"
      },
      "outputs": [],
      "source": [
        "training_args_ft = Seq2SeqTrainingArguments(\n",
        "    output_dir=\"task2\",\n",
        "    evaluation_strategy=\"epoch\",\n",
        "    num_train_epochs=10,\n",
        "    predict_with_generate=True,\n",
        "    per_device_train_batch_size=16,\n",
        "    per_device_eval_batch_size=16,\n",
        "    generation_max_length=32,\n",
        ")"
      ]
    },
    {
      "cell_type": "code",
      "execution_count": null,
      "metadata": {
        "id": "mUa0tn4jGIgS"
      },
      "outputs": [],
      "source": [
        "trainer_ft = Seq2SeqTrainer(\n",
        "    model=model_ft,\n",
        "    args=training_args_ft,\n",
        "    train_dataset=train_small_tokenized,\n",
        "    eval_dataset=valid_small_tokenized,\n",
        "    compute_metrics=compute_accuracy,\n",
        "    data_collator=data_collator_ft,\n",
        "    tokenizer=tokenizer,\n",
        ")"
      ]
    },
    {
      "cell_type": "code",
      "execution_count": null,
      "metadata": {},
      "outputs": [],
      "source": [
        "trainer.evaluate(train_small_tokenized)"
      ]
    },
    {
      "cell_type": "code",
      "execution_count": null,
      "metadata": {
        "colab": {
          "base_uri": "https://localhost:8080/",
          "height": 95
        },
        "id": "2HY5nl2RHx5J",
        "outputId": "4210f615-2304-45bc-8231-813def9c629b"
      },
      "outputs": [],
      "source": [
        "trainer.train()"
      ]
    },
    {
      "cell_type": "code",
      "execution_count": null,
      "metadata": {},
      "outputs": [],
      "source": [
        "trainer.evaluate(test_small_tokenized)"
      ]
    },
    {
      "cell_type": "markdown",
      "metadata": {
        "id": "BMD_Zq5zEWL4"
      },
      "source": [
        "## 2.3 Task 3: Making the model generate explanations"
      ]
    },
    {
      "cell_type": "markdown",
      "metadata": {},
      "source": [
        "We need to give as labels the label and the explanation tokenized."
      ]
    },
    {
      "cell_type": "markdown",
      "metadata": {},
      "source": [
        "### Preparing the dataset with labelled explanations"
      ]
    },
    {
      "cell_type": "code",
      "execution_count": null,
      "metadata": {
        "id": "fnW0W89cEWL4"
      },
      "outputs": [],
      "source": [
        "dataset_explanations = load_dataset(\"explanations\", download_mode=\"FORCE_REDOWNLOAD\")"
      ]
    },
    {
      "cell_type": "code",
      "execution_count": null,
      "metadata": {},
      "outputs": [],
      "source": [
        "training_set_ex = dataset_explanations[\"train\"]\n",
        "validation_set_ex = dataset_explanations[\"validation\"]\n",
        "test_set_ex = dataset[\"test\"]\n",
        "\n",
        "print(\"Shape of training_set: \", training_set_ex.shape)\n",
        "print(\"Shae of validation_set: \", validation_set_ex.shape)\n",
        "print(\"Shape of test_set: \", test_set_ex.shape)"
      ]
    },
    {
      "cell_type": "code",
      "execution_count": null,
      "metadata": {},
      "outputs": [],
      "source": [
        "n_train = 10000\n",
        "n_valid = n_test = 10000\n",
        "\n",
        "train_small_ex = training_set_ex.select(range(n_train))\n",
        "valid_small_ex = validation_set_ex.select(range(n_valid))\n",
        "test_small_ex = test_set_ex.select(range(n_test))\n",
        "\n",
        "print(\"Shape of train_small: \", train_small_ex.shape)\n",
        "print(\"Shape of valid_small: \", valid_small_ex.shape)\n",
        "print(\"Shape of test_small: \", test_small_ex.shape)"
      ]
    },
    {
      "cell_type": "markdown",
      "metadata": {},
      "source": [
        "#### Tokenizing the dataset"
      ]
    },
    {
      "cell_type": "code",
      "execution_count": null,
      "metadata": {},
      "outputs": [],
      "source": [
        "from functools import partial\n",
        "from src.utils import tokenize_function_ex\n",
        "import time"
      ]
    },
    {
      "cell_type": "code",
      "execution_count": null,
      "metadata": {},
      "outputs": [],
      "source": [
        "tokenize_mapping_ex = partial(tokenize_function_ex, tokenizer=tokenizer)"
      ]
    },
    {
      "cell_type": "code",
      "execution_count": null,
      "metadata": {},
      "outputs": [],
      "source": [
        "train_small_tokenized_ex = train_small.map(tokenize_mapping_ex, batched=True).with_format(\"torch\")\n",
        "valid_small_tokenized_ex = valid_small.map(tokenize_mapping_ex, batched=True).with_format(\"torch\")\n",
        "test_small_tokenized_ex = test_small.map(tokenize_mapping_ex, batched=True).with_format(\"torch\")\n",
        "\n",
        "print(\"Shape of train_small_tokenized: \", train_small_tokenized_ex.shape)\n",
        "print(\"Shape of valid_small_tokenized: \", valid_small_tokenized_ex.shape)\n",
        "print(\"Shape of test_small_tokenized: \", test_small_tokenized_ex.shape)"
      ]
    },
    {
      "cell_type": "code",
      "execution_count": null,
      "metadata": {},
      "outputs": [],
      "source": [
        "train_small_tokenized_ex = train_small_tokenized_ex.remove_columns(['label'])\n",
        "valid_small_tokenized_ex = valid_small_tokenized_ex.remove_columns(['label'])\n",
        "test_small_tokenized_ex = test_small_tokenized_ex.remove_columns(['label'])"
      ]
    },
    {
      "cell_type": "code",
      "execution_count": null,
      "metadata": {},
      "outputs": [],
      "source": [
        "train_small_tokenized_ex.features"
      ]
    },
    {
      "cell_type": "markdown",
      "metadata": {},
      "source": [
        "### Fine Tuning"
      ]
    },
    {
      "cell_type": "code",
      "execution_count": null,
      "metadata": {},
      "outputs": [],
      "source": [
        "model_ft_ex = T5ForConditionalGeneration.from_pretrained(\"t5-small\")\n",
        "data_collator_ft_ex = DataCollatorForSeq2Seq(tokenizer, model=model_ft_ex)"
      ]
    },
    {
      "cell_type": "code",
      "execution_count": null,
      "metadata": {},
      "outputs": [],
      "source": [
        "training_args_ft_ex = Seq2SeqTrainingArguments(\n",
        "    output_dir=\"task3\",\n",
        "    evaluation_strategy=\"epoch\",\n",
        "    num_train_epochs=5,\n",
        "    predict_with_generate=True,\n",
        "    per_device_train_batch_size=16,\n",
        "    per_device_eval_batch_size=16,\n",
        "    generation_max_length=128,\n",
        ")"
      ]
    },
    {
      "cell_type": "code",
      "execution_count": null,
      "metadata": {},
      "outputs": [],
      "source": [
        "trainer_ft_ex = Seq2SeqTrainer(\n",
        "    model=model_ft_ex,\n",
        "    args=training_args_ft_ex,\n",
        "    train_dataset=train_small_tokenized,\n",
        "    eval_dataset=valid_small_tokenized,\n",
        "    # TODO: compute_metrics= COMPUTE METRICS FOR EXPLANATION (ROUGE?)\n",
        "    data_collator=data_collator_ft_ex,\n",
        "    tokenizer=tokenizer,\n",
        ")"
      ]
    },
    {
      "cell_type": "code",
      "execution_count": null,
      "metadata": {},
      "outputs": [],
      "source": [
        "trainer.evaluate(train_small_tokenized_ex)"
      ]
    },
    {
      "cell_type": "code",
      "execution_count": null,
      "metadata": {},
      "outputs": [],
      "source": [
        "trainer.train()"
      ]
    },
    {
      "cell_type": "code",
      "execution_count": null,
      "metadata": {},
      "outputs": [],
      "source": [
        "trainer.evaluate(test_small_tokenized_ex)"
      ]
    }
  ],
  "metadata": {
    "accelerator": "TPU",
    "colab": {
      "collapsed_sections": [
        "UZvGBSfFEWLv",
        "FFt0woXsEWLx",
        "RxesGnaFEWLz",
        "DQvhd35vEWL1",
        "s4SNHcxuEWL3",
        "bQoQE4naEWL4",
        "BMD_Zq5zEWL4"
      ],
      "include_colab_link": true,
      "provenance": []
    },
    "kernelspec": {
      "display_name": "Python 3",
      "name": "python3"
    },
    "language_info": {
      "codemirror_mode": {
        "name": "ipython",
        "version": 3
      },
      "file_extension": ".py",
      "mimetype": "text/x-python",
      "name": "python",
      "nbconvert_exporter": "python",
      "pygments_lexer": "ipython3",
      "version": "3.10.8"
    }
  },
  "nbformat": 4,
  "nbformat_minor": 0
}
